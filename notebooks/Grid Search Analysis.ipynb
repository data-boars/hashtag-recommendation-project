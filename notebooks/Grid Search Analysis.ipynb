{
 "cells": [
  {
   "cell_type": "code",
   "execution_count": 2,
   "metadata": {},
   "outputs": [],
   "source": [
    "import os\n",
    "parent = !pwd\n",
    "parent = os.path.join(str(parent[0]), os.pardir)\n",
    "os.chdir(parent)"
   ]
  },
  {
   "cell_type": "code",
   "execution_count": 3,
   "metadata": {},
   "outputs": [],
   "source": [
    "import pandas as pd\n",
    "import numpy as np\n",
    "import matplotlib.pyplot as plt\n",
    "import seaborn as sns\n",
    "import matplotlib"
   ]
  },
  {
   "cell_type": "code",
   "execution_count": 4,
   "metadata": {},
   "outputs": [],
   "source": [
    "matplotlib.style.use('fivethirtyeight')"
   ]
  },
  {
   "cell_type": "code",
   "execution_count": 5,
   "metadata": {},
   "outputs": [],
   "source": [
    "gs_all = pd.read_pickle('./data/experiments/grid_search_results.pkl')\n",
    "\n",
    "gs = gs_all[gs_all['dataset'] == 'val']\n",
    "gs_pop = gs_all[gs_all['dataset'] == 'val_popular']\n",
    "gs_unp = gs_all[gs_all['dataset'] == 'val_unpopular']"
   ]
  },
  {
   "cell_type": "code",
   "execution_count": 6,
   "metadata": {
    "scrolled": true
   },
   "outputs": [
    {
     "data": {
      "text/html": [
       "<div>\n",
       "<style scoped>\n",
       "    .dataframe tbody tr th:only-of-type {\n",
       "        vertical-align: middle;\n",
       "    }\n",
       "\n",
       "    .dataframe tbody tr th {\n",
       "        vertical-align: top;\n",
       "    }\n",
       "\n",
       "    .dataframe thead th {\n",
       "        text-align: right;\n",
       "    }\n",
       "</style>\n",
       "<table border=\"1\" class=\"dataframe\">\n",
       "  <thead>\n",
       "    <tr style=\"text-align: right;\">\n",
       "      <th></th>\n",
       "      <th>dataset</th>\n",
       "      <th>embedding</th>\n",
       "      <th>popularity</th>\n",
       "      <th>ratio</th>\n",
       "      <th>K</th>\n",
       "      <th>occurence_limit</th>\n",
       "      <th>mAP</th>\n",
       "      <th>ndcg</th>\n",
       "      <th>recall</th>\n",
       "    </tr>\n",
       "  </thead>\n",
       "  <tbody>\n",
       "    <tr>\n",
       "      <th>0</th>\n",
       "      <td>val</td>\n",
       "      <td>skipgram</td>\n",
       "      <td>pagerank</td>\n",
       "      <td>0.0</td>\n",
       "      <td>5</td>\n",
       "      <td>0</td>\n",
       "      <td>0.017787</td>\n",
       "      <td>0.241833</td>\n",
       "      <td>0.027714</td>\n",
       "    </tr>\n",
       "    <tr>\n",
       "      <th>1</th>\n",
       "      <td>val</td>\n",
       "      <td>skipgram</td>\n",
       "      <td>pagerank</td>\n",
       "      <td>0.0</td>\n",
       "      <td>5</td>\n",
       "      <td>1</td>\n",
       "      <td>0.018388</td>\n",
       "      <td>0.235461</td>\n",
       "      <td>0.030978</td>\n",
       "    </tr>\n",
       "    <tr>\n",
       "      <th>2</th>\n",
       "      <td>val</td>\n",
       "      <td>skipgram</td>\n",
       "      <td>pagerank</td>\n",
       "      <td>0.0</td>\n",
       "      <td>5</td>\n",
       "      <td>5</td>\n",
       "      <td>0.023236</td>\n",
       "      <td>0.222573</td>\n",
       "      <td>0.042232</td>\n",
       "    </tr>\n",
       "    <tr>\n",
       "      <th>3</th>\n",
       "      <td>val</td>\n",
       "      <td>skipgram</td>\n",
       "      <td>pagerank</td>\n",
       "      <td>0.0</td>\n",
       "      <td>5</td>\n",
       "      <td>10</td>\n",
       "      <td>0.028110</td>\n",
       "      <td>0.206584</td>\n",
       "      <td>0.052197</td>\n",
       "    </tr>\n",
       "    <tr>\n",
       "      <th>4</th>\n",
       "      <td>val</td>\n",
       "      <td>skipgram</td>\n",
       "      <td>pagerank</td>\n",
       "      <td>0.0</td>\n",
       "      <td>5</td>\n",
       "      <td>20</td>\n",
       "      <td>0.035042</td>\n",
       "      <td>0.206912</td>\n",
       "      <td>0.065593</td>\n",
       "    </tr>\n",
       "    <tr>\n",
       "      <th>5</th>\n",
       "      <td>val</td>\n",
       "      <td>skipgram</td>\n",
       "      <td>pagerank</td>\n",
       "      <td>0.0</td>\n",
       "      <td>10</td>\n",
       "      <td>0</td>\n",
       "      <td>0.020021</td>\n",
       "      <td>0.241936</td>\n",
       "      <td>0.046855</td>\n",
       "    </tr>\n",
       "    <tr>\n",
       "      <th>6</th>\n",
       "      <td>val</td>\n",
       "      <td>skipgram</td>\n",
       "      <td>pagerank</td>\n",
       "      <td>0.0</td>\n",
       "      <td>10</td>\n",
       "      <td>1</td>\n",
       "      <td>0.021151</td>\n",
       "      <td>0.234971</td>\n",
       "      <td>0.053478</td>\n",
       "    </tr>\n",
       "    <tr>\n",
       "      <th>7</th>\n",
       "      <td>val</td>\n",
       "      <td>skipgram</td>\n",
       "      <td>pagerank</td>\n",
       "      <td>0.0</td>\n",
       "      <td>10</td>\n",
       "      <td>5</td>\n",
       "      <td>0.027457</td>\n",
       "      <td>0.222006</td>\n",
       "      <td>0.072321</td>\n",
       "    </tr>\n",
       "    <tr>\n",
       "      <th>8</th>\n",
       "      <td>val</td>\n",
       "      <td>skipgram</td>\n",
       "      <td>pagerank</td>\n",
       "      <td>0.0</td>\n",
       "      <td>10</td>\n",
       "      <td>10</td>\n",
       "      <td>0.033320</td>\n",
       "      <td>0.206246</td>\n",
       "      <td>0.088726</td>\n",
       "    </tr>\n",
       "    <tr>\n",
       "      <th>9</th>\n",
       "      <td>val</td>\n",
       "      <td>skipgram</td>\n",
       "      <td>pagerank</td>\n",
       "      <td>0.0</td>\n",
       "      <td>10</td>\n",
       "      <td>20</td>\n",
       "      <td>0.043315</td>\n",
       "      <td>0.207014</td>\n",
       "      <td>0.124658</td>\n",
       "    </tr>\n",
       "    <tr>\n",
       "      <th>10</th>\n",
       "      <td>val</td>\n",
       "      <td>skipgram</td>\n",
       "      <td>pagerank</td>\n",
       "      <td>0.0</td>\n",
       "      <td>15</td>\n",
       "      <td>0</td>\n",
       "      <td>0.021257</td>\n",
       "      <td>0.241704</td>\n",
       "      <td>0.061124</td>\n",
       "    </tr>\n",
       "    <tr>\n",
       "      <th>11</th>\n",
       "      <td>val</td>\n",
       "      <td>skipgram</td>\n",
       "      <td>pagerank</td>\n",
       "      <td>0.0</td>\n",
       "      <td>15</td>\n",
       "      <td>1</td>\n",
       "      <td>0.022768</td>\n",
       "      <td>0.235083</td>\n",
       "      <td>0.071570</td>\n",
       "    </tr>\n",
       "    <tr>\n",
       "      <th>12</th>\n",
       "      <td>val</td>\n",
       "      <td>skipgram</td>\n",
       "      <td>pagerank</td>\n",
       "      <td>0.0</td>\n",
       "      <td>15</td>\n",
       "      <td>5</td>\n",
       "      <td>0.029606</td>\n",
       "      <td>0.222066</td>\n",
       "      <td>0.096420</td>\n",
       "    </tr>\n",
       "    <tr>\n",
       "      <th>13</th>\n",
       "      <td>val</td>\n",
       "      <td>skipgram</td>\n",
       "      <td>pagerank</td>\n",
       "      <td>0.0</td>\n",
       "      <td>15</td>\n",
       "      <td>10</td>\n",
       "      <td>0.036763</td>\n",
       "      <td>0.206374</td>\n",
       "      <td>0.127005</td>\n",
       "    </tr>\n",
       "    <tr>\n",
       "      <th>14</th>\n",
       "      <td>val</td>\n",
       "      <td>skipgram</td>\n",
       "      <td>pagerank</td>\n",
       "      <td>0.0</td>\n",
       "      <td>15</td>\n",
       "      <td>20</td>\n",
       "      <td>0.048021</td>\n",
       "      <td>0.207084</td>\n",
       "      <td>0.177229</td>\n",
       "    </tr>\n",
       "    <tr>\n",
       "      <th>15</th>\n",
       "      <td>val</td>\n",
       "      <td>skipgram</td>\n",
       "      <td>pagerank</td>\n",
       "      <td>0.0</td>\n",
       "      <td>20</td>\n",
       "      <td>0</td>\n",
       "      <td>0.022297</td>\n",
       "      <td>0.241717</td>\n",
       "      <td>0.076875</td>\n",
       "    </tr>\n",
       "    <tr>\n",
       "      <th>16</th>\n",
       "      <td>val</td>\n",
       "      <td>skipgram</td>\n",
       "      <td>pagerank</td>\n",
       "      <td>0.0</td>\n",
       "      <td>20</td>\n",
       "      <td>1</td>\n",
       "      <td>0.023774</td>\n",
       "      <td>0.235084</td>\n",
       "      <td>0.086891</td>\n",
       "    </tr>\n",
       "    <tr>\n",
       "      <th>17</th>\n",
       "      <td>val</td>\n",
       "      <td>skipgram</td>\n",
       "      <td>pagerank</td>\n",
       "      <td>0.0</td>\n",
       "      <td>20</td>\n",
       "      <td>5</td>\n",
       "      <td>0.031372</td>\n",
       "      <td>0.222023</td>\n",
       "      <td>0.122839</td>\n",
       "    </tr>\n",
       "    <tr>\n",
       "      <th>18</th>\n",
       "      <td>val</td>\n",
       "      <td>skipgram</td>\n",
       "      <td>pagerank</td>\n",
       "      <td>0.0</td>\n",
       "      <td>20</td>\n",
       "      <td>10</td>\n",
       "      <td>0.039149</td>\n",
       "      <td>0.206322</td>\n",
       "      <td>0.163567</td>\n",
       "    </tr>\n",
       "    <tr>\n",
       "      <th>19</th>\n",
       "      <td>val</td>\n",
       "      <td>skipgram</td>\n",
       "      <td>pagerank</td>\n",
       "      <td>0.0</td>\n",
       "      <td>20</td>\n",
       "      <td>20</td>\n",
       "      <td>0.050981</td>\n",
       "      <td>0.207084</td>\n",
       "      <td>0.222053</td>\n",
       "    </tr>\n",
       "    <tr>\n",
       "      <th>20</th>\n",
       "      <td>val</td>\n",
       "      <td>skipgram</td>\n",
       "      <td>pagerank</td>\n",
       "      <td>0.0</td>\n",
       "      <td>30</td>\n",
       "      <td>0</td>\n",
       "      <td>0.023505</td>\n",
       "      <td>0.241714</td>\n",
       "      <td>0.102724</td>\n",
       "    </tr>\n",
       "    <tr>\n",
       "      <th>21</th>\n",
       "      <td>val</td>\n",
       "      <td>skipgram</td>\n",
       "      <td>pagerank</td>\n",
       "      <td>0.0</td>\n",
       "      <td>30</td>\n",
       "      <td>1</td>\n",
       "      <td>0.025336</td>\n",
       "      <td>0.235084</td>\n",
       "      <td>0.119734</td>\n",
       "    </tr>\n",
       "    <tr>\n",
       "      <th>22</th>\n",
       "      <td>val</td>\n",
       "      <td>skipgram</td>\n",
       "      <td>pagerank</td>\n",
       "      <td>0.0</td>\n",
       "      <td>30</td>\n",
       "      <td>5</td>\n",
       "      <td>0.033560</td>\n",
       "      <td>0.222023</td>\n",
       "      <td>0.169667</td>\n",
       "    </tr>\n",
       "    <tr>\n",
       "      <th>23</th>\n",
       "      <td>val</td>\n",
       "      <td>skipgram</td>\n",
       "      <td>pagerank</td>\n",
       "      <td>0.0</td>\n",
       "      <td>30</td>\n",
       "      <td>10</td>\n",
       "      <td>0.042162</td>\n",
       "      <td>0.206322</td>\n",
       "      <td>0.228106</td>\n",
       "    </tr>\n",
       "    <tr>\n",
       "      <th>24</th>\n",
       "      <td>val</td>\n",
       "      <td>skipgram</td>\n",
       "      <td>pagerank</td>\n",
       "      <td>0.0</td>\n",
       "      <td>30</td>\n",
       "      <td>20</td>\n",
       "      <td>0.054985</td>\n",
       "      <td>0.207084</td>\n",
       "      <td>0.306734</td>\n",
       "    </tr>\n",
       "    <tr>\n",
       "      <th>25</th>\n",
       "      <td>val</td>\n",
       "      <td>skipgram</td>\n",
       "      <td>pagerank</td>\n",
       "      <td>0.0</td>\n",
       "      <td>40</td>\n",
       "      <td>0</td>\n",
       "      <td>0.024342</td>\n",
       "      <td>0.241714</td>\n",
       "      <td>0.127451</td>\n",
       "    </tr>\n",
       "    <tr>\n",
       "      <th>26</th>\n",
       "      <td>val</td>\n",
       "      <td>skipgram</td>\n",
       "      <td>pagerank</td>\n",
       "      <td>0.0</td>\n",
       "      <td>40</td>\n",
       "      <td>1</td>\n",
       "      <td>0.026328</td>\n",
       "      <td>0.235084</td>\n",
       "      <td>0.149177</td>\n",
       "    </tr>\n",
       "    <tr>\n",
       "      <th>27</th>\n",
       "      <td>val</td>\n",
       "      <td>skipgram</td>\n",
       "      <td>pagerank</td>\n",
       "      <td>0.0</td>\n",
       "      <td>40</td>\n",
       "      <td>5</td>\n",
       "      <td>0.035114</td>\n",
       "      <td>0.222023</td>\n",
       "      <td>0.215469</td>\n",
       "    </tr>\n",
       "    <tr>\n",
       "      <th>28</th>\n",
       "      <td>val</td>\n",
       "      <td>skipgram</td>\n",
       "      <td>pagerank</td>\n",
       "      <td>0.0</td>\n",
       "      <td>40</td>\n",
       "      <td>10</td>\n",
       "      <td>0.043944</td>\n",
       "      <td>0.206322</td>\n",
       "      <td>0.279592</td>\n",
       "    </tr>\n",
       "    <tr>\n",
       "      <th>29</th>\n",
       "      <td>val</td>\n",
       "      <td>skipgram</td>\n",
       "      <td>pagerank</td>\n",
       "      <td>0.0</td>\n",
       "      <td>40</td>\n",
       "      <td>20</td>\n",
       "      <td>0.057625</td>\n",
       "      <td>0.207084</td>\n",
       "      <td>0.380479</td>\n",
       "    </tr>\n",
       "    <tr>\n",
       "      <th>...</th>\n",
       "      <td>...</td>\n",
       "      <td>...</td>\n",
       "      <td>...</td>\n",
       "      <td>...</td>\n",
       "      <td>...</td>\n",
       "      <td>...</td>\n",
       "      <td>...</td>\n",
       "      <td>...</td>\n",
       "      <td>...</td>\n",
       "    </tr>\n",
       "    <tr>\n",
       "      <th>1950</th>\n",
       "      <td>val</td>\n",
       "      <td>fasttext</td>\n",
       "      <td>mean_retweets</td>\n",
       "      <td>1.0</td>\n",
       "      <td>20</td>\n",
       "      <td>0</td>\n",
       "      <td>0.000003</td>\n",
       "      <td>0.236142</td>\n",
       "      <td>0.000036</td>\n",
       "    </tr>\n",
       "    <tr>\n",
       "      <th>1951</th>\n",
       "      <td>val</td>\n",
       "      <td>fasttext</td>\n",
       "      <td>mean_retweets</td>\n",
       "      <td>1.0</td>\n",
       "      <td>20</td>\n",
       "      <td>1</td>\n",
       "      <td>0.000175</td>\n",
       "      <td>0.246622</td>\n",
       "      <td>0.002210</td>\n",
       "    </tr>\n",
       "    <tr>\n",
       "      <th>1952</th>\n",
       "      <td>val</td>\n",
       "      <td>fasttext</td>\n",
       "      <td>mean_retweets</td>\n",
       "      <td>1.0</td>\n",
       "      <td>20</td>\n",
       "      <td>5</td>\n",
       "      <td>0.001487</td>\n",
       "      <td>0.230108</td>\n",
       "      <td>0.007763</td>\n",
       "    </tr>\n",
       "    <tr>\n",
       "      <th>1953</th>\n",
       "      <td>val</td>\n",
       "      <td>fasttext</td>\n",
       "      <td>mean_retweets</td>\n",
       "      <td>1.0</td>\n",
       "      <td>20</td>\n",
       "      <td>10</td>\n",
       "      <td>0.001592</td>\n",
       "      <td>0.215281</td>\n",
       "      <td>0.008718</td>\n",
       "    </tr>\n",
       "    <tr>\n",
       "      <th>1954</th>\n",
       "      <td>val</td>\n",
       "      <td>fasttext</td>\n",
       "      <td>mean_retweets</td>\n",
       "      <td>1.0</td>\n",
       "      <td>20</td>\n",
       "      <td>20</td>\n",
       "      <td>0.006507</td>\n",
       "      <td>0.209736</td>\n",
       "      <td>0.045766</td>\n",
       "    </tr>\n",
       "    <tr>\n",
       "      <th>1955</th>\n",
       "      <td>val</td>\n",
       "      <td>fasttext</td>\n",
       "      <td>mean_retweets</td>\n",
       "      <td>1.0</td>\n",
       "      <td>30</td>\n",
       "      <td>0</td>\n",
       "      <td>0.000003</td>\n",
       "      <td>0.236214</td>\n",
       "      <td>0.000036</td>\n",
       "    </tr>\n",
       "    <tr>\n",
       "      <th>1956</th>\n",
       "      <td>val</td>\n",
       "      <td>fasttext</td>\n",
       "      <td>mean_retweets</td>\n",
       "      <td>1.0</td>\n",
       "      <td>30</td>\n",
       "      <td>1</td>\n",
       "      <td>0.000217</td>\n",
       "      <td>0.246622</td>\n",
       "      <td>0.003379</td>\n",
       "    </tr>\n",
       "    <tr>\n",
       "      <th>1957</th>\n",
       "      <td>val</td>\n",
       "      <td>fasttext</td>\n",
       "      <td>mean_retweets</td>\n",
       "      <td>1.0</td>\n",
       "      <td>30</td>\n",
       "      <td>5</td>\n",
       "      <td>0.001576</td>\n",
       "      <td>0.230108</td>\n",
       "      <td>0.009968</td>\n",
       "    </tr>\n",
       "    <tr>\n",
       "      <th>1958</th>\n",
       "      <td>val</td>\n",
       "      <td>fasttext</td>\n",
       "      <td>mean_retweets</td>\n",
       "      <td>1.0</td>\n",
       "      <td>30</td>\n",
       "      <td>10</td>\n",
       "      <td>0.002661</td>\n",
       "      <td>0.215281</td>\n",
       "      <td>0.031364</td>\n",
       "    </tr>\n",
       "    <tr>\n",
       "      <th>1959</th>\n",
       "      <td>val</td>\n",
       "      <td>fasttext</td>\n",
       "      <td>mean_retweets</td>\n",
       "      <td>1.0</td>\n",
       "      <td>30</td>\n",
       "      <td>20</td>\n",
       "      <td>0.007966</td>\n",
       "      <td>0.209736</td>\n",
       "      <td>0.075290</td>\n",
       "    </tr>\n",
       "    <tr>\n",
       "      <th>1960</th>\n",
       "      <td>val</td>\n",
       "      <td>fasttext</td>\n",
       "      <td>mean_retweets</td>\n",
       "      <td>1.0</td>\n",
       "      <td>40</td>\n",
       "      <td>0</td>\n",
       "      <td>0.000016</td>\n",
       "      <td>0.236214</td>\n",
       "      <td>0.000473</td>\n",
       "    </tr>\n",
       "    <tr>\n",
       "      <th>1961</th>\n",
       "      <td>val</td>\n",
       "      <td>fasttext</td>\n",
       "      <td>mean_retweets</td>\n",
       "      <td>1.0</td>\n",
       "      <td>40</td>\n",
       "      <td>1</td>\n",
       "      <td>0.000272</td>\n",
       "      <td>0.246622</td>\n",
       "      <td>0.005406</td>\n",
       "    </tr>\n",
       "    <tr>\n",
       "      <th>1962</th>\n",
       "      <td>val</td>\n",
       "      <td>fasttext</td>\n",
       "      <td>mean_retweets</td>\n",
       "      <td>1.0</td>\n",
       "      <td>40</td>\n",
       "      <td>5</td>\n",
       "      <td>0.001649</td>\n",
       "      <td>0.230108</td>\n",
       "      <td>0.012552</td>\n",
       "    </tr>\n",
       "    <tr>\n",
       "      <th>1963</th>\n",
       "      <td>val</td>\n",
       "      <td>fasttext</td>\n",
       "      <td>mean_retweets</td>\n",
       "      <td>1.0</td>\n",
       "      <td>40</td>\n",
       "      <td>10</td>\n",
       "      <td>0.003321</td>\n",
       "      <td>0.215281</td>\n",
       "      <td>0.051586</td>\n",
       "    </tr>\n",
       "    <tr>\n",
       "      <th>1964</th>\n",
       "      <td>val</td>\n",
       "      <td>fasttext</td>\n",
       "      <td>mean_retweets</td>\n",
       "      <td>1.0</td>\n",
       "      <td>40</td>\n",
       "      <td>20</td>\n",
       "      <td>0.008244</td>\n",
       "      <td>0.209736</td>\n",
       "      <td>0.084365</td>\n",
       "    </tr>\n",
       "    <tr>\n",
       "      <th>1965</th>\n",
       "      <td>val</td>\n",
       "      <td>fasttext</td>\n",
       "      <td>mean_retweets</td>\n",
       "      <td>1.0</td>\n",
       "      <td>50</td>\n",
       "      <td>0</td>\n",
       "      <td>0.000029</td>\n",
       "      <td>0.236214</td>\n",
       "      <td>0.001082</td>\n",
       "    </tr>\n",
       "    <tr>\n",
       "      <th>1966</th>\n",
       "      <td>val</td>\n",
       "      <td>fasttext</td>\n",
       "      <td>mean_retweets</td>\n",
       "      <td>1.0</td>\n",
       "      <td>50</td>\n",
       "      <td>1</td>\n",
       "      <td>0.000319</td>\n",
       "      <td>0.246622</td>\n",
       "      <td>0.007557</td>\n",
       "    </tr>\n",
       "    <tr>\n",
       "      <th>1967</th>\n",
       "      <td>val</td>\n",
       "      <td>fasttext</td>\n",
       "      <td>mean_retweets</td>\n",
       "      <td>1.0</td>\n",
       "      <td>50</td>\n",
       "      <td>5</td>\n",
       "      <td>0.002105</td>\n",
       "      <td>0.230108</td>\n",
       "      <td>0.031810</td>\n",
       "    </tr>\n",
       "    <tr>\n",
       "      <th>1968</th>\n",
       "      <td>val</td>\n",
       "      <td>fasttext</td>\n",
       "      <td>mean_retweets</td>\n",
       "      <td>1.0</td>\n",
       "      <td>50</td>\n",
       "      <td>10</td>\n",
       "      <td>0.003693</td>\n",
       "      <td>0.215281</td>\n",
       "      <td>0.064716</td>\n",
       "    </tr>\n",
       "    <tr>\n",
       "      <th>1969</th>\n",
       "      <td>val</td>\n",
       "      <td>fasttext</td>\n",
       "      <td>mean_retweets</td>\n",
       "      <td>1.0</td>\n",
       "      <td>50</td>\n",
       "      <td>20</td>\n",
       "      <td>0.008777</td>\n",
       "      <td>0.209736</td>\n",
       "      <td>0.107010</td>\n",
       "    </tr>\n",
       "    <tr>\n",
       "      <th>1970</th>\n",
       "      <td>val</td>\n",
       "      <td>fasttext</td>\n",
       "      <td>mean_retweets</td>\n",
       "      <td>1.0</td>\n",
       "      <td>75</td>\n",
       "      <td>0</td>\n",
       "      <td>0.000065</td>\n",
       "      <td>0.236214</td>\n",
       "      <td>0.002771</td>\n",
       "    </tr>\n",
       "    <tr>\n",
       "      <th>1971</th>\n",
       "      <td>val</td>\n",
       "      <td>fasttext</td>\n",
       "      <td>mean_retweets</td>\n",
       "      <td>1.0</td>\n",
       "      <td>75</td>\n",
       "      <td>1</td>\n",
       "      <td>0.000340</td>\n",
       "      <td>0.246622</td>\n",
       "      <td>0.008821</td>\n",
       "    </tr>\n",
       "    <tr>\n",
       "      <th>1972</th>\n",
       "      <td>val</td>\n",
       "      <td>fasttext</td>\n",
       "      <td>mean_retweets</td>\n",
       "      <td>1.0</td>\n",
       "      <td>75</td>\n",
       "      <td>5</td>\n",
       "      <td>0.002531</td>\n",
       "      <td>0.230108</td>\n",
       "      <td>0.055855</td>\n",
       "    </tr>\n",
       "    <tr>\n",
       "      <th>1973</th>\n",
       "      <td>val</td>\n",
       "      <td>fasttext</td>\n",
       "      <td>mean_retweets</td>\n",
       "      <td>1.0</td>\n",
       "      <td>75</td>\n",
       "      <td>10</td>\n",
       "      <td>0.004142</td>\n",
       "      <td>0.215281</td>\n",
       "      <td>0.088692</td>\n",
       "    </tr>\n",
       "    <tr>\n",
       "      <th>1974</th>\n",
       "      <td>val</td>\n",
       "      <td>fasttext</td>\n",
       "      <td>mean_retweets</td>\n",
       "      <td>1.0</td>\n",
       "      <td>75</td>\n",
       "      <td>20</td>\n",
       "      <td>0.009867</td>\n",
       "      <td>0.209736</td>\n",
       "      <td>0.165941</td>\n",
       "    </tr>\n",
       "    <tr>\n",
       "      <th>1975</th>\n",
       "      <td>val</td>\n",
       "      <td>fasttext</td>\n",
       "      <td>mean_retweets</td>\n",
       "      <td>1.0</td>\n",
       "      <td>100</td>\n",
       "      <td>0</td>\n",
       "      <td>0.000071</td>\n",
       "      <td>0.236214</td>\n",
       "      <td>0.003305</td>\n",
       "    </tr>\n",
       "    <tr>\n",
       "      <th>1976</th>\n",
       "      <td>val</td>\n",
       "      <td>fasttext</td>\n",
       "      <td>mean_retweets</td>\n",
       "      <td>1.0</td>\n",
       "      <td>100</td>\n",
       "      <td>1</td>\n",
       "      <td>0.000361</td>\n",
       "      <td>0.246622</td>\n",
       "      <td>0.010703</td>\n",
       "    </tr>\n",
       "    <tr>\n",
       "      <th>1977</th>\n",
       "      <td>val</td>\n",
       "      <td>fasttext</td>\n",
       "      <td>mean_retweets</td>\n",
       "      <td>1.0</td>\n",
       "      <td>100</td>\n",
       "      <td>5</td>\n",
       "      <td>0.002732</td>\n",
       "      <td>0.230108</td>\n",
       "      <td>0.069486</td>\n",
       "    </tr>\n",
       "    <tr>\n",
       "      <th>1978</th>\n",
       "      <td>val</td>\n",
       "      <td>fasttext</td>\n",
       "      <td>mean_retweets</td>\n",
       "      <td>1.0</td>\n",
       "      <td>100</td>\n",
       "      <td>10</td>\n",
       "      <td>0.004380</td>\n",
       "      <td>0.215281</td>\n",
       "      <td>0.108770</td>\n",
       "    </tr>\n",
       "    <tr>\n",
       "      <th>1979</th>\n",
       "      <td>val</td>\n",
       "      <td>fasttext</td>\n",
       "      <td>mean_retweets</td>\n",
       "      <td>1.0</td>\n",
       "      <td>100</td>\n",
       "      <td>20</td>\n",
       "      <td>0.011374</td>\n",
       "      <td>0.209736</td>\n",
       "      <td>0.264042</td>\n",
       "    </tr>\n",
       "  </tbody>\n",
       "</table>\n",
       "<p>1980 rows × 9 columns</p>\n",
       "</div>"
      ],
      "text/plain": [
       "     dataset embedding     popularity  ratio    K  occurence_limit       mAP  \\\n",
       "0        val  skipgram       pagerank    0.0    5                0  0.017787   \n",
       "1        val  skipgram       pagerank    0.0    5                1  0.018388   \n",
       "2        val  skipgram       pagerank    0.0    5                5  0.023236   \n",
       "3        val  skipgram       pagerank    0.0    5               10  0.028110   \n",
       "4        val  skipgram       pagerank    0.0    5               20  0.035042   \n",
       "5        val  skipgram       pagerank    0.0   10                0  0.020021   \n",
       "6        val  skipgram       pagerank    0.0   10                1  0.021151   \n",
       "7        val  skipgram       pagerank    0.0   10                5  0.027457   \n",
       "8        val  skipgram       pagerank    0.0   10               10  0.033320   \n",
       "9        val  skipgram       pagerank    0.0   10               20  0.043315   \n",
       "10       val  skipgram       pagerank    0.0   15                0  0.021257   \n",
       "11       val  skipgram       pagerank    0.0   15                1  0.022768   \n",
       "12       val  skipgram       pagerank    0.0   15                5  0.029606   \n",
       "13       val  skipgram       pagerank    0.0   15               10  0.036763   \n",
       "14       val  skipgram       pagerank    0.0   15               20  0.048021   \n",
       "15       val  skipgram       pagerank    0.0   20                0  0.022297   \n",
       "16       val  skipgram       pagerank    0.0   20                1  0.023774   \n",
       "17       val  skipgram       pagerank    0.0   20                5  0.031372   \n",
       "18       val  skipgram       pagerank    0.0   20               10  0.039149   \n",
       "19       val  skipgram       pagerank    0.0   20               20  0.050981   \n",
       "20       val  skipgram       pagerank    0.0   30                0  0.023505   \n",
       "21       val  skipgram       pagerank    0.0   30                1  0.025336   \n",
       "22       val  skipgram       pagerank    0.0   30                5  0.033560   \n",
       "23       val  skipgram       pagerank    0.0   30               10  0.042162   \n",
       "24       val  skipgram       pagerank    0.0   30               20  0.054985   \n",
       "25       val  skipgram       pagerank    0.0   40                0  0.024342   \n",
       "26       val  skipgram       pagerank    0.0   40                1  0.026328   \n",
       "27       val  skipgram       pagerank    0.0   40                5  0.035114   \n",
       "28       val  skipgram       pagerank    0.0   40               10  0.043944   \n",
       "29       val  skipgram       pagerank    0.0   40               20  0.057625   \n",
       "...      ...       ...            ...    ...  ...              ...       ...   \n",
       "1950     val  fasttext  mean_retweets    1.0   20                0  0.000003   \n",
       "1951     val  fasttext  mean_retweets    1.0   20                1  0.000175   \n",
       "1952     val  fasttext  mean_retweets    1.0   20                5  0.001487   \n",
       "1953     val  fasttext  mean_retweets    1.0   20               10  0.001592   \n",
       "1954     val  fasttext  mean_retweets    1.0   20               20  0.006507   \n",
       "1955     val  fasttext  mean_retweets    1.0   30                0  0.000003   \n",
       "1956     val  fasttext  mean_retweets    1.0   30                1  0.000217   \n",
       "1957     val  fasttext  mean_retweets    1.0   30                5  0.001576   \n",
       "1958     val  fasttext  mean_retweets    1.0   30               10  0.002661   \n",
       "1959     val  fasttext  mean_retweets    1.0   30               20  0.007966   \n",
       "1960     val  fasttext  mean_retweets    1.0   40                0  0.000016   \n",
       "1961     val  fasttext  mean_retweets    1.0   40                1  0.000272   \n",
       "1962     val  fasttext  mean_retweets    1.0   40                5  0.001649   \n",
       "1963     val  fasttext  mean_retweets    1.0   40               10  0.003321   \n",
       "1964     val  fasttext  mean_retweets    1.0   40               20  0.008244   \n",
       "1965     val  fasttext  mean_retweets    1.0   50                0  0.000029   \n",
       "1966     val  fasttext  mean_retweets    1.0   50                1  0.000319   \n",
       "1967     val  fasttext  mean_retweets    1.0   50                5  0.002105   \n",
       "1968     val  fasttext  mean_retweets    1.0   50               10  0.003693   \n",
       "1969     val  fasttext  mean_retweets    1.0   50               20  0.008777   \n",
       "1970     val  fasttext  mean_retweets    1.0   75                0  0.000065   \n",
       "1971     val  fasttext  mean_retweets    1.0   75                1  0.000340   \n",
       "1972     val  fasttext  mean_retweets    1.0   75                5  0.002531   \n",
       "1973     val  fasttext  mean_retweets    1.0   75               10  0.004142   \n",
       "1974     val  fasttext  mean_retweets    1.0   75               20  0.009867   \n",
       "1975     val  fasttext  mean_retweets    1.0  100                0  0.000071   \n",
       "1976     val  fasttext  mean_retweets    1.0  100                1  0.000361   \n",
       "1977     val  fasttext  mean_retweets    1.0  100                5  0.002732   \n",
       "1978     val  fasttext  mean_retweets    1.0  100               10  0.004380   \n",
       "1979     val  fasttext  mean_retweets    1.0  100               20  0.011374   \n",
       "\n",
       "          ndcg    recall  \n",
       "0     0.241833  0.027714  \n",
       "1     0.235461  0.030978  \n",
       "2     0.222573  0.042232  \n",
       "3     0.206584  0.052197  \n",
       "4     0.206912  0.065593  \n",
       "5     0.241936  0.046855  \n",
       "6     0.234971  0.053478  \n",
       "7     0.222006  0.072321  \n",
       "8     0.206246  0.088726  \n",
       "9     0.207014  0.124658  \n",
       "10    0.241704  0.061124  \n",
       "11    0.235083  0.071570  \n",
       "12    0.222066  0.096420  \n",
       "13    0.206374  0.127005  \n",
       "14    0.207084  0.177229  \n",
       "15    0.241717  0.076875  \n",
       "16    0.235084  0.086891  \n",
       "17    0.222023  0.122839  \n",
       "18    0.206322  0.163567  \n",
       "19    0.207084  0.222053  \n",
       "20    0.241714  0.102724  \n",
       "21    0.235084  0.119734  \n",
       "22    0.222023  0.169667  \n",
       "23    0.206322  0.228106  \n",
       "24    0.207084  0.306734  \n",
       "25    0.241714  0.127451  \n",
       "26    0.235084  0.149177  \n",
       "27    0.222023  0.215469  \n",
       "28    0.206322  0.279592  \n",
       "29    0.207084  0.380479  \n",
       "...        ...       ...  \n",
       "1950  0.236142  0.000036  \n",
       "1951  0.246622  0.002210  \n",
       "1952  0.230108  0.007763  \n",
       "1953  0.215281  0.008718  \n",
       "1954  0.209736  0.045766  \n",
       "1955  0.236214  0.000036  \n",
       "1956  0.246622  0.003379  \n",
       "1957  0.230108  0.009968  \n",
       "1958  0.215281  0.031364  \n",
       "1959  0.209736  0.075290  \n",
       "1960  0.236214  0.000473  \n",
       "1961  0.246622  0.005406  \n",
       "1962  0.230108  0.012552  \n",
       "1963  0.215281  0.051586  \n",
       "1964  0.209736  0.084365  \n",
       "1965  0.236214  0.001082  \n",
       "1966  0.246622  0.007557  \n",
       "1967  0.230108  0.031810  \n",
       "1968  0.215281  0.064716  \n",
       "1969  0.209736  0.107010  \n",
       "1970  0.236214  0.002771  \n",
       "1971  0.246622  0.008821  \n",
       "1972  0.230108  0.055855  \n",
       "1973  0.215281  0.088692  \n",
       "1974  0.209736  0.165941  \n",
       "1975  0.236214  0.003305  \n",
       "1976  0.246622  0.010703  \n",
       "1977  0.230108  0.069486  \n",
       "1978  0.215281  0.108770  \n",
       "1979  0.209736  0.264042  \n",
       "\n",
       "[1980 rows x 9 columns]"
      ]
     },
     "execution_count": 6,
     "metadata": {},
     "output_type": "execute_result"
    }
   ],
   "source": [
    "gs"
   ]
  },
  {
   "cell_type": "code",
   "execution_count": 7,
   "metadata": {},
   "outputs": [],
   "source": [
    "gs_random_uniform = pd.read_pickle('./data/experiments/random_uniform_grid_search_results.pkl')\n",
    "gs_random_weighted = pd.read_pickle('./data/experiments/random_weighted_grid_search_results.pkl')"
   ]
  },
  {
   "cell_type": "markdown",
   "metadata": {},
   "source": [
    "# Embedding results"
   ]
  },
  {
   "cell_type": "code",
   "execution_count": 8,
   "metadata": {},
   "outputs": [
    {
     "data": {
      "text/plain": [
       "array([<matplotlib.axes._subplots.AxesSubplot object at 0x7fe4eb407630>,\n",
       "       <matplotlib.axes._subplots.AxesSubplot object at 0x7fe4eb179c18>,\n",
       "       <matplotlib.axes._subplots.AxesSubplot object at 0x7fe4eb126320>],\n",
       "      dtype=object)"
      ]
     },
     "execution_count": 8,
     "metadata": {},
     "output_type": "execute_result"
    },
    {
     "data": {
      "image/png": "[encoded data removed]",
      "text/plain": [
       "<Figure size 1080x360 with 3 Axes>"
      ]
     },
     "metadata": {},
     "output_type": "display_data"
    }
   ],
   "source": [
    "gs.boxplot(['mAP', 'recall', 'ndcg'], 'embedding', figsize=(15,5), layout=(1,3))"
   ]
  },
  {
   "cell_type": "markdown",
   "metadata": {},
   "source": [
    "# Popularity results"
   ]
  },
  {
   "cell_type": "code",
   "execution_count": 9,
   "metadata": {},
   "outputs": [
    {
     "data": {
      "text/plain": [
       "array([<matplotlib.axes._subplots.AxesSubplot object at 0x7fe4eae45b70>,\n",
       "       <matplotlib.axes._subplots.AxesSubplot object at 0x7fe4eb00e3c8>,\n",
       "       <matplotlib.axes._subplots.AxesSubplot object at 0x7fe4eb036780>],\n",
       "      dtype=object)"
      ]
     },
     "execution_count": 9,
     "metadata": {},
     "output_type": "execute_result"
    },
    {
     "data": {
      "image/png": "[encoded data removed]",
      "text/plain": [
       "<Figure size 1080x360 with 3 Axes>"
      ]
     },
     "metadata": {},
     "output_type": "display_data"
    }
   ],
   "source": [
    "gs.boxplot(['mAP', 'recall', 'ndcg'], 'ratio', figsize=(15,5), layout=(1,3))"
   ]
  },
  {
   "cell_type": "markdown",
   "metadata": {},
   "source": [
    "# Ratio results"
   ]
  },
  {
   "cell_type": "code",
   "execution_count": 10,
   "metadata": {},
   "outputs": [
    {
     "name": "stderr",
     "output_type": "stream",
     "text": [
      "/home/kacper/miniconda3/lib/python3.6/site-packages/scipy/stats/stats.py:1713: FutureWarning: Using a non-tuple sequence for multidimensional indexing is deprecated; use `arr[tuple(seq)]` instead of `arr[seq]`. In the future this will be interpreted as an array index, `arr[np.array(seq)]`, which will result either in an error or a different result.\n",
      "  return np.add.reduce(sorted[indexer] * weights, axis=axis) / sumval\n"
     ]
    },
    {
     "data": {
      "text/plain": [
       "<matplotlib.axes._subplots.AxesSubplot at 0x7fe4ea95b748>"
      ]
     },
     "execution_count": 10,
     "metadata": {},
     "output_type": "execute_result"
    },
    {
     "data": {
      "image/png": "[encoded data removed]",
      "text/plain": [
       "<Figure size 576x432 with 1 Axes>"
      ]
     },
     "metadata": {},
     "output_type": "display_data"
    },
    {
     "data": {
      "image/png": "[encoded data removed]",
      "text/plain": [
       "<Figure size 576x432 with 1 Axes>"
      ]
     },
     "metadata": {},
     "output_type": "display_data"
    },
    {
     "data": {
      "image/png": "[encoded data removed]",
      "text/plain": [
       "<Figure size 576x432 with 1 Axes>"
      ]
     },
     "metadata": {},
     "output_type": "display_data"
    }
   ],
   "source": [
    "sns.set_context(\"notebook\", rc={\"lines.linewidth\": 1.2})\n",
    "plt.figure(figsize=(8,6))\n",
    "ax = sns.pointplot(gs['ratio'].map('{:,.2f}'.format), gs['mAP'], errwidth=0.2, markers='.')\n",
    "ax.set(xlabel='$\\mu$', ylabel='$mAP$')\n",
    "plt.savefig('reports/mAP_mu.pdf', transparent=True, bbox_inches='tight')\n",
    "\n",
    "plt.figure(figsize=(8,6))\n",
    "ax = sns.pointplot(gs['ratio'].map('{:,.2f}'.format), gs['recall'], errwidth=0.2, markers='.')\n",
    "ax.set(xlabel='$\\mu$', ylabel='$R$')\n",
    "plt.savefig('reports/recall_mu.pdf', transparent=True, bbox_inches='tight')\n",
    "\n",
    "plt.figure(figsize=(8,6))\n",
    "sns.pointplot(gs['ratio'].map('{:,.2f}'.format), gs['ndcg'], errwidth=0.2, markers='.')"
   ]
  },
  {
   "cell_type": "markdown",
   "metadata": {},
   "source": [
    "# K results"
   ]
  },
  {
   "cell_type": "code",
   "execution_count": 11,
   "metadata": {},
   "outputs": [
    {
     "name": "stderr",
     "output_type": "stream",
     "text": [
      "/home/kacper/miniconda3/lib/python3.6/site-packages/scipy/stats/stats.py:1713: FutureWarning: Using a non-tuple sequence for multidimensional indexing is deprecated; use `arr[tuple(seq)]` instead of `arr[seq]`. In the future this will be interpreted as an array index, `arr[np.array(seq)]`, which will result either in an error or a different result.\n",
      "  return np.add.reduce(sorted[indexer] * weights, axis=axis) / sumval\n"
     ]
    },
    {
     "data": {
      "text/plain": [
       "[Text(15.204999999999998, 0.5, '$ndcg$'), Text(0.5, 6.739999999999981, '$k$')]"
      ]
     },
     "execution_count": 11,
     "metadata": {},
     "output_type": "execute_result"
    },
    {
     "data": {
      "image/png": "[encoded data removed]",
      "text/plain": [
       "<Figure size 576x432 with 1 Axes>"
      ]
     },
     "metadata": {},
     "output_type": "display_data"
    },
    {
     "data": {
      "image/png": "[encoded data removed]",
      "text/plain": [
       "<Figure size 576x432 with 1 Axes>"
      ]
     },
     "metadata": {},
     "output_type": "display_data"
    },
    {
     "data": {
      "image/png": "[encoded data removed]",
      "text/plain": [
       "<Figure size 1080x360 with 1 Axes>"
      ]
     },
     "metadata": {},
     "output_type": "display_data"
    }
   ],
   "source": [
    "sns.set_context(\"notebook\", rc={\"lines.linewidth\": 1.2})\n",
    "plt.figure(figsize=(8,6))\n",
    "ax = sns.pointplot(gs['K'], gs['mAP'], errwidth=0.2, markers='.')\n",
    "ax.set(xlabel='$k$', ylabel='$mAP$')\n",
    "plt.savefig('reports/mAP_K.pdf', transparent=True, bbox_inches='tight')\n",
    "\n",
    "plt.figure(figsize=(8,6))\n",
    "ax = sns.pointplot(gs['K'], gs['recall'], errwidth=0.2, markers='.')\n",
    "ax.set(xlabel='$k$', ylabel='$R$')\n",
    "plt.savefig('reports/recall_K.pdf', transparent=True, bbox_inches='tight')\n",
    "\n",
    "plt.figure(figsize=(15,5))\n",
    "sns.pointplot(gs['K'], gs['ndcg'], errwidth=0.2, markers='.')\n",
    "ax.set(xlabel='$k$', ylabel='$ndcg$')"
   ]
  },
  {
   "cell_type": "markdown",
   "metadata": {},
   "source": [
    "# Hashtag occurence limit results"
   ]
  },
  {
   "cell_type": "code",
   "execution_count": 12,
   "metadata": {},
   "outputs": [
    {
     "name": "stderr",
     "output_type": "stream",
     "text": [
      "/home/kacper/miniconda3/lib/python3.6/site-packages/scipy/stats/stats.py:1713: FutureWarning: Using a non-tuple sequence for multidimensional indexing is deprecated; use `arr[tuple(seq)]` instead of `arr[seq]`. In the future this will be interpreted as an array index, `arr[np.array(seq)]`, which will result either in an error or a different result.\n",
      "  return np.add.reduce(sorted[indexer] * weights, axis=axis) / sumval\n"
     ]
    },
    {
     "data": {
      "text/plain": [
       "<matplotlib.axes._subplots.AxesSubplot at 0x7fe4ea77df28>"
      ]
     },
     "execution_count": 12,
     "metadata": {},
     "output_type": "execute_result"
    },
    {
     "data": {
      "image/png": "[encoded data removed]",
      "text/plain": [
       "<Figure size 576x432 with 1 Axes>"
      ]
     },
     "metadata": {},
     "output_type": "display_data"
    },
    {
     "data": {
      "image/png": "[encoded data removed]",
      "text/plain": [
       "<Figure size 576x432 with 1 Axes>"
      ]
     },
     "metadata": {},
     "output_type": "display_data"
    },
    {
     "data": {
      "image/png": "[encoded data removed]",
      "text/plain": [
       "<Figure size 1080x360 with 1 Axes>"
      ]
     },
     "metadata": {},
     "output_type": "display_data"
    }
   ],
   "source": [
    "sns.set_context(\"notebook\", rc={\"lines.linewidth\": 1.2})\n",
    "plt.figure(figsize=(8,6))\n",
    "ax = sns.pointplot(gs['occurence_limit'], gs['mAP'], errwidth=0.3, markers='.')\n",
    "ax.set(xlabel='$Occurence\\ limit$', ylabel='$mAP$')\n",
    "plt.savefig('reports/mAP_occurence.pdf', transparent=True, bbox_inches='tight')\n",
    "\n",
    "plt.figure(figsize=(8,6))\n",
    "ax = sns.pointplot(gs['occurence_limit'], gs['recall'], errwidth=0.3, markers='.')\n",
    "ax.set(xlabel='$Occurence\\ limit$', ylabel='$R$')\n",
    "plt.savefig('reports/recall_occurence.pdf', transparent=True, bbox_inches='tight')\n",
    "\n",
    "plt.figure(figsize=(15,5))\n",
    "sns.pointplot(gs['occurence_limit'], gs['ndcg'], errwidth=0.3, markers='.')"
   ]
  },
  {
   "cell_type": "markdown",
   "metadata": {},
   "source": [
    "# Popular vs unpopular"
   ]
  },
  {
   "cell_type": "code",
   "execution_count": 13,
   "metadata": {},
   "outputs": [
    {
     "name": "stderr",
     "output_type": "stream",
     "text": [
      "/home/kacper/miniconda3/lib/python3.6/site-packages/scipy/stats/stats.py:1713: FutureWarning: Using a non-tuple sequence for multidimensional indexing is deprecated; use `arr[tuple(seq)]` instead of `arr[seq]`. In the future this will be interpreted as an array index, `arr[np.array(seq)]`, which will result either in an error or a different result.\n",
      "  return np.add.reduce(sorted[indexer] * weights, axis=axis) / sumval\n"
     ]
    },
    {
     "data": {
      "text/plain": [
       "<matplotlib.axes._subplots.AxesSubplot at 0x7fe4ea621048>"
      ]
     },
     "execution_count": 13,
     "metadata": {},
     "output_type": "execute_result"
    },
    {
     "data": {
      "image/png": "[encoded data removed]",
      "text/plain": [
       "<Figure size 576x432 with 1 Axes>"
      ]
     },
     "metadata": {},
     "output_type": "display_data"
    },
    {
     "data": {
      "image/png": "[encoded data removed]",
      "text/plain": [
       "<Figure size 576x432 with 1 Axes>"
      ]
     },
     "metadata": {},
     "output_type": "display_data"
    },
    {
     "data": {
      "image/png": "[encoded data removed]",
      "text/plain": [
       "<Figure size 1080x360 with 1 Axes>"
      ]
     },
     "metadata": {},
     "output_type": "display_data"
    }
   ],
   "source": [
    "plt.figure(figsize=(8,6))\n",
    "ax = sns.barplot(gs_all['dataset'].replace({\"val\": \"All\", \"val_popular\": \"Popular\", \"val_unpopular\": \"Unpopular\"}), gs_all['mAP'], errwidth=5)\n",
    "ax.set(xlabel='$dataset$', ylabel='$mAP$', label=[\"All\", \"Popular\", \"Unpopular\"])\n",
    "plt.savefig('reports/mAP_dataset.pdf', transparent=True, bbox_inches='tight')\n",
    "\n",
    "plt.figure(figsize=(8,6))\n",
    "ax = sns.barplot(gs_all['dataset'].replace({\"val\": \"All\", \"val_popular\": \"Popular\", \"val_unpopular\": \"Unpopular\"}), gs_all['recall'], errwidth=5)\n",
    "ax.set(xlabel='$dataset$', ylabel='$R$', label=[\"All\", \"Popular\", \"Unpopular\"])\n",
    "plt.savefig('reports/recall_dataset.pdf', transparent=True, bbox_inches='tight')\n",
    "\n",
    "plt.figure(figsize=(15,5))\n",
    "sns.barplot(gs_all['dataset'], gs_all['ndcg'], errwidth=5)"
   ]
  },
  {
   "cell_type": "code",
   "execution_count": 14,
   "metadata": {},
   "outputs": [
    {
     "name": "stderr",
     "output_type": "stream",
     "text": [
      "/home/kacper/miniconda3/lib/python3.6/site-packages/scipy/stats/stats.py:1713: FutureWarning: Using a non-tuple sequence for multidimensional indexing is deprecated; use `arr[tuple(seq)]` instead of `arr[seq]`. In the future this will be interpreted as an array index, `arr[np.array(seq)]`, which will result either in an error or a different result.\n",
      "  return np.add.reduce(sorted[indexer] * weights, axis=axis) / sumval\n"
     ]
    },
    {
     "data": {
      "text/plain": [
       "<matplotlib.axes._subplots.AxesSubplot at 0x7fe4ea5a4cf8>"
      ]
     },
     "execution_count": 14,
     "metadata": {},
     "output_type": "execute_result"
    },
    {
     "data": {
      "image/png": "[encoded data removed]",
      "text/plain": [
       "<Figure size 576x432 with 1 Axes>"
      ]
     },
     "metadata": {},
     "output_type": "display_data"
    },
    {
     "data": {
      "image/png": "[encoded data removed]",
      "text/plain": [
       "<Figure size 576x432 with 1 Axes>"
      ]
     },
     "metadata": {},
     "output_type": "display_data"
    },
    {
     "data": {
      "image/png": "[encoded data removed]",
      "text/plain": [
       "<Figure size 576x432 with 1 Axes>"
      ]
     },
     "metadata": {},
     "output_type": "display_data"
    }
   ],
   "source": [
    "plt.figure(figsize=(8,6))\n",
    "gs_all['dataset'] = gs_all['dataset'].replace({\"val\": \"All\", \"val_popular\": \"Popular\", \"val_unpopular\": \"Unpopular\"})\n",
    "d = gs_all[(gs_all['occurence_limit']==20)]\n",
    "#d = d[d['K']<=10]\n",
    "ax = sns.barplot(d['dataset'], d['mAP'], errwidth=5)\n",
    "ax.set(xlabel='$dataset$', ylabel='$mAP$')\n",
    "plt.savefig('reports/mAP_dataset_limit_20.pdf', transparent=True, bbox_inches='tight')\n",
    "\n",
    "plt.figure(figsize=(8,6))\n",
    "ax = sns.barplot(d['dataset'], d['recall'], errwidth=5)\n",
    "ax.set(xlabel='$dataset$', ylabel='$R$')\n",
    "plt.savefig('reports/recall_dataset_limit_20.pdf', transparent=True, bbox_inches='tight')\n",
    "\n",
    "plt.figure(figsize=(8,6))\n",
    "sns.barplot(d['dataset'], d['ndcg'], errwidth=5)"
   ]
  },
  {
   "cell_type": "code",
   "execution_count": 15,
   "metadata": {},
   "outputs": [],
   "source": [
    "d = gs.copy()\n",
    "d =d[d['K'] <20]"
   ]
  },
  {
   "cell_type": "code",
   "execution_count": 16,
   "metadata": {},
   "outputs": [],
   "source": [
    "d['avg'] = (d.mAP + d.recall + d.ndcg) /3"
   ]
  },
  {
   "cell_type": "code",
   "execution_count": 17,
   "metadata": {},
   "outputs": [
    {
     "data": {
      "text/html": [
       "<div>\n",
       "<style scoped>\n",
       "    .dataframe tbody tr th:only-of-type {\n",
       "        vertical-align: middle;\n",
       "    }\n",
       "\n",
       "    .dataframe tbody tr th {\n",
       "        vertical-align: top;\n",
       "    }\n",
       "\n",
       "    .dataframe thead th {\n",
       "        text-align: right;\n",
       "    }\n",
       "</style>\n",
       "<table border=\"1\" class=\"dataframe\">\n",
       "  <thead>\n",
       "    <tr style=\"text-align: right;\">\n",
       "      <th></th>\n",
       "      <th>dataset</th>\n",
       "      <th>embedding</th>\n",
       "      <th>popularity</th>\n",
       "      <th>ratio</th>\n",
       "      <th>K</th>\n",
       "      <th>occurence_limit</th>\n",
       "      <th>mAP</th>\n",
       "      <th>ndcg</th>\n",
       "      <th>recall</th>\n",
       "      <th>avg</th>\n",
       "    </tr>\n",
       "  </thead>\n",
       "  <tbody>\n",
       "    <tr>\n",
       "      <th>1184</th>\n",
       "      <td>val</td>\n",
       "      <td>fasttext</td>\n",
       "      <td>pagerank</td>\n",
       "      <td>0.4</td>\n",
       "      <td>15</td>\n",
       "      <td>20</td>\n",
       "      <td>0.257592</td>\n",
       "      <td>0.200656</td>\n",
       "      <td>0.598698</td>\n",
       "      <td>0.352315</td>\n",
       "    </tr>\n",
       "  </tbody>\n",
       "</table>\n",
       "</div>"
      ],
      "text/plain": [
       "     dataset embedding popularity  ratio   K  occurence_limit       mAP  \\\n",
       "1184     val  fasttext   pagerank    0.4  15               20  0.257592   \n",
       "\n",
       "          ndcg    recall       avg  \n",
       "1184  0.200656  0.598698  0.352315  "
      ]
     },
     "execution_count": 17,
     "metadata": {},
     "output_type": "execute_result"
    }
   ],
   "source": [
    "d[d['avg'] == d['avg'].max()]"
   ]
  },
  {
   "cell_type": "code",
   "execution_count": 18,
   "metadata": {},
   "outputs": [
    {
     "data": {
      "text/html": [
       "<div>\n",
       "<style scoped>\n",
       "    .dataframe tbody tr th:only-of-type {\n",
       "        vertical-align: middle;\n",
       "    }\n",
       "\n",
       "    .dataframe tbody tr th {\n",
       "        vertical-align: top;\n",
       "    }\n",
       "\n",
       "    .dataframe thead th {\n",
       "        text-align: right;\n",
       "    }\n",
       "</style>\n",
       "<table border=\"1\" class=\"dataframe\">\n",
       "  <thead>\n",
       "    <tr style=\"text-align: right;\">\n",
       "      <th></th>\n",
       "      <th>dataset</th>\n",
       "      <th>embedding</th>\n",
       "      <th>popularity</th>\n",
       "      <th>ratio</th>\n",
       "      <th>K</th>\n",
       "      <th>occurence_limit</th>\n",
       "      <th>mAP</th>\n",
       "      <th>ndcg</th>\n",
       "      <th>recall</th>\n",
       "    </tr>\n",
       "  </thead>\n",
       "  <tbody>\n",
       "    <tr>\n",
       "      <th>3164</th>\n",
       "      <td>val_popular</td>\n",
       "      <td>fasttext</td>\n",
       "      <td>pagerank</td>\n",
       "      <td>0.4</td>\n",
       "      <td>15</td>\n",
       "      <td>20</td>\n",
       "      <td>0.21933</td>\n",
       "      <td>0.245231</td>\n",
       "      <td>0.533505</td>\n",
       "    </tr>\n",
       "  </tbody>\n",
       "</table>\n",
       "</div>"
      ],
      "text/plain": [
       "          dataset embedding popularity  ratio   K  occurence_limit      mAP  \\\n",
       "3164  val_popular  fasttext   pagerank    0.4  15               20  0.21933   \n",
       "\n",
       "          ndcg    recall  \n",
       "3164  0.245231  0.533505  "
      ]
     },
     "execution_count": 18,
     "metadata": {},
     "output_type": "execute_result"
    }
   ],
   "source": [
    "l = gs_pop.copy()\n",
    "l[(l['embedding'] == 'fasttext') &\n",
    "  (l['popularity'] == 'pagerank') &\n",
    "  (l['ratio'] == 0.4) &\n",
    "  (l['K'] == 15) &\n",
    "  (l['occurence_limit'] == 20)]"
   ]
  },
  {
   "cell_type": "code",
   "execution_count": 19,
   "metadata": {},
   "outputs": [
    {
     "data": {
      "text/html": [
       "<div>\n",
       "<style scoped>\n",
       "    .dataframe tbody tr th:only-of-type {\n",
       "        vertical-align: middle;\n",
       "    }\n",
       "\n",
       "    .dataframe tbody tr th {\n",
       "        vertical-align: top;\n",
       "    }\n",
       "\n",
       "    .dataframe thead th {\n",
       "        text-align: right;\n",
       "    }\n",
       "</style>\n",
       "<table border=\"1\" class=\"dataframe\">\n",
       "  <thead>\n",
       "    <tr style=\"text-align: right;\">\n",
       "      <th></th>\n",
       "      <th>dataset</th>\n",
       "      <th>embedding</th>\n",
       "      <th>popularity</th>\n",
       "      <th>ratio</th>\n",
       "      <th>K</th>\n",
       "      <th>occurence_limit</th>\n",
       "      <th>mAP</th>\n",
       "      <th>ndcg</th>\n",
       "      <th>recall</th>\n",
       "    </tr>\n",
       "  </thead>\n",
       "  <tbody>\n",
       "    <tr>\n",
       "      <th>5144</th>\n",
       "      <td>val_unpopular</td>\n",
       "      <td>fasttext</td>\n",
       "      <td>pagerank</td>\n",
       "      <td>0.4</td>\n",
       "      <td>15</td>\n",
       "      <td>20</td>\n",
       "      <td>0.29307</td>\n",
       "      <td>0.159324</td>\n",
       "      <td>0.659147</td>\n",
       "    </tr>\n",
       "  </tbody>\n",
       "</table>\n",
       "</div>"
      ],
      "text/plain": [
       "            dataset embedding popularity  ratio   K  occurence_limit      mAP  \\\n",
       "5144  val_unpopular  fasttext   pagerank    0.4  15               20  0.29307   \n",
       "\n",
       "          ndcg    recall  \n",
       "5144  0.159324  0.659147  "
      ]
     },
     "execution_count": 19,
     "metadata": {},
     "output_type": "execute_result"
    }
   ],
   "source": [
    "l = gs_unp.copy()\n",
    "l[(l['embedding'] == 'fasttext') &\n",
    "  (l['popularity'] == 'pagerank') &\n",
    "  (l['ratio'] == 0.4) &\n",
    "  (l['K'] == 15) &\n",
    "  (l['occurence_limit'] == 20)]"
   ]
  },
  {
   "cell_type": "code",
   "execution_count": 20,
   "metadata": {},
   "outputs": [
    {
     "data": {
      "text/html": [
       "<div>\n",
       "<style scoped>\n",
       "    .dataframe tbody tr th:only-of-type {\n",
       "        vertical-align: middle;\n",
       "    }\n",
       "\n",
       "    .dataframe tbody tr th {\n",
       "        vertical-align: top;\n",
       "    }\n",
       "\n",
       "    .dataframe thead th {\n",
       "        text-align: right;\n",
       "    }\n",
       "</style>\n",
       "<table border=\"1\" class=\"dataframe\">\n",
       "  <thead>\n",
       "    <tr style=\"text-align: right;\">\n",
       "      <th></th>\n",
       "      <th>dataset</th>\n",
       "      <th>embedding</th>\n",
       "      <th>popularity</th>\n",
       "      <th>ratio</th>\n",
       "      <th>K</th>\n",
       "      <th>occurence_limit</th>\n",
       "      <th>mAP</th>\n",
       "      <th>ndcg</th>\n",
       "      <th>recall</th>\n",
       "      <th>avg</th>\n",
       "    </tr>\n",
       "  </thead>\n",
       "  <tbody>\n",
       "    <tr>\n",
       "      <th>1139</th>\n",
       "      <td>val</td>\n",
       "      <td>fasttext</td>\n",
       "      <td>pagerank</td>\n",
       "      <td>0.3</td>\n",
       "      <td>15</td>\n",
       "      <td>20</td>\n",
       "      <td>0.261354</td>\n",
       "      <td>0.200157</td>\n",
       "      <td>0.583553</td>\n",
       "      <td>0.348355</td>\n",
       "    </tr>\n",
       "  </tbody>\n",
       "</table>\n",
       "</div>"
      ],
      "text/plain": [
       "     dataset embedding popularity  ratio   K  occurence_limit       mAP  \\\n",
       "1139     val  fasttext   pagerank    0.3  15               20  0.261354   \n",
       "\n",
       "          ndcg    recall       avg  \n",
       "1139  0.200157  0.583553  0.348355  "
      ]
     },
     "execution_count": 20,
     "metadata": {},
     "output_type": "execute_result"
    }
   ],
   "source": [
    "d[d['mAP'] == d['mAP'].max()]"
   ]
  },
  {
   "cell_type": "code",
   "execution_count": 21,
   "metadata": {},
   "outputs": [
    {
     "data": {
      "text/html": [
       "<div>\n",
       "<style scoped>\n",
       "    .dataframe tbody tr th:only-of-type {\n",
       "        vertical-align: middle;\n",
       "    }\n",
       "\n",
       "    .dataframe tbody tr th {\n",
       "        vertical-align: top;\n",
       "    }\n",
       "\n",
       "    .dataframe thead th {\n",
       "        text-align: right;\n",
       "    }\n",
       "</style>\n",
       "<table border=\"1\" class=\"dataframe\">\n",
       "  <thead>\n",
       "    <tr style=\"text-align: right;\">\n",
       "      <th></th>\n",
       "      <th>dataset</th>\n",
       "      <th>embedding</th>\n",
       "      <th>popularity</th>\n",
       "      <th>ratio</th>\n",
       "      <th>K</th>\n",
       "      <th>occurence_limit</th>\n",
       "      <th>mAP</th>\n",
       "      <th>ndcg</th>\n",
       "      <th>recall</th>\n",
       "      <th>avg</th>\n",
       "    </tr>\n",
       "  </thead>\n",
       "  <tbody>\n",
       "    <tr>\n",
       "      <th>1184</th>\n",
       "      <td>val</td>\n",
       "      <td>fasttext</td>\n",
       "      <td>pagerank</td>\n",
       "      <td>0.4</td>\n",
       "      <td>15</td>\n",
       "      <td>20</td>\n",
       "      <td>0.257592</td>\n",
       "      <td>0.200656</td>\n",
       "      <td>0.598698</td>\n",
       "      <td>0.352315</td>\n",
       "    </tr>\n",
       "  </tbody>\n",
       "</table>\n",
       "</div>"
      ],
      "text/plain": [
       "     dataset embedding popularity  ratio   K  occurence_limit       mAP  \\\n",
       "1184     val  fasttext   pagerank    0.4  15               20  0.257592   \n",
       "\n",
       "          ndcg    recall       avg  \n",
       "1184  0.200656  0.598698  0.352315  "
      ]
     },
     "execution_count": 21,
     "metadata": {},
     "output_type": "execute_result"
    }
   ],
   "source": [
    "d[d['recall'] == d['recall'].max()]"
   ]
  },
  {
   "cell_type": "code",
   "execution_count": 22,
   "metadata": {},
   "outputs": [
    {
     "data": {
      "text/html": [
       "<div>\n",
       "<style scoped>\n",
       "    .dataframe tbody tr th:only-of-type {\n",
       "        vertical-align: middle;\n",
       "    }\n",
       "\n",
       "    .dataframe tbody tr th {\n",
       "        vertical-align: top;\n",
       "    }\n",
       "\n",
       "    .dataframe thead th {\n",
       "        text-align: right;\n",
       "    }\n",
       "</style>\n",
       "<table border=\"1\" class=\"dataframe\">\n",
       "  <thead>\n",
       "    <tr style=\"text-align: right;\">\n",
       "      <th></th>\n",
       "      <th>dataset</th>\n",
       "      <th>embedding</th>\n",
       "      <th>popularity</th>\n",
       "      <th>ratio</th>\n",
       "      <th>K</th>\n",
       "      <th>occurence_limit</th>\n",
       "      <th>mAP</th>\n",
       "      <th>ndcg</th>\n",
       "      <th>recall</th>\n",
       "      <th>avg</th>\n",
       "    </tr>\n",
       "  </thead>\n",
       "  <tbody>\n",
       "    <tr>\n",
       "      <th>641</th>\n",
       "      <td>val</td>\n",
       "      <td>skipgram</td>\n",
       "      <td>mean_retweets</td>\n",
       "      <td>0.3</td>\n",
       "      <td>15</td>\n",
       "      <td>1</td>\n",
       "      <td>0.002913</td>\n",
       "      <td>0.252891</td>\n",
       "      <td>0.017888</td>\n",
       "      <td>0.091231</td>\n",
       "    </tr>\n",
       "  </tbody>\n",
       "</table>\n",
       "</div>"
      ],
      "text/plain": [
       "    dataset embedding     popularity  ratio   K  occurence_limit       mAP  \\\n",
       "641     val  skipgram  mean_retweets    0.3  15                1  0.002913   \n",
       "\n",
       "         ndcg    recall       avg  \n",
       "641  0.252891  0.017888  0.091231  "
      ]
     },
     "execution_count": 22,
     "metadata": {},
     "output_type": "execute_result"
    }
   ],
   "source": [
    "d[d['ndcg'] == d['ndcg'].max()]"
   ]
  },
  {
   "cell_type": "code",
   "execution_count": null,
   "metadata": {},
   "outputs": [],
   "source": []
  },
  {
   "cell_type": "code",
   "execution_count": 23,
   "metadata": {},
   "outputs": [
    {
     "data": {
      "text/html": [
       "<div>\n",
       "<style scoped>\n",
       "    .dataframe tbody tr th:only-of-type {\n",
       "        vertical-align: middle;\n",
       "    }\n",
       "\n",
       "    .dataframe tbody tr th {\n",
       "        vertical-align: top;\n",
       "    }\n",
       "\n",
       "    .dataframe thead tr th {\n",
       "        text-align: left;\n",
       "    }\n",
       "</style>\n",
       "<table border=\"1\" class=\"dataframe\">\n",
       "  <thead>\n",
       "    <tr>\n",
       "      <th></th>\n",
       "      <th>ratio</th>\n",
       "      <th colspan=\"3\" halign=\"left\">mAP</th>\n",
       "      <th colspan=\"3\" halign=\"left\">ndcg</th>\n",
       "      <th colspan=\"3\" halign=\"left\">recall</th>\n",
       "    </tr>\n",
       "    <tr>\n",
       "      <th>dataset</th>\n",
       "      <th></th>\n",
       "      <th>All</th>\n",
       "      <th>Popular</th>\n",
       "      <th>Unpopular</th>\n",
       "      <th>All</th>\n",
       "      <th>Popular</th>\n",
       "      <th>Unpopular</th>\n",
       "      <th>All</th>\n",
       "      <th>Popular</th>\n",
       "      <th>Unpopular</th>\n",
       "    </tr>\n",
       "  </thead>\n",
       "  <tbody>\n",
       "    <tr>\n",
       "      <th>0</th>\n",
       "      <td>0.0</td>\n",
       "      <td>0.051846</td>\n",
       "      <td>0.058220</td>\n",
       "      <td>0.046137</td>\n",
       "      <td>0.224854</td>\n",
       "      <td>0.261193</td>\n",
       "      <td>0.192102</td>\n",
       "      <td>0.250272</td>\n",
       "      <td>0.251855</td>\n",
       "      <td>0.249008</td>\n",
       "    </tr>\n",
       "    <tr>\n",
       "      <th>1</th>\n",
       "      <td>0.1</td>\n",
       "      <td>0.119609</td>\n",
       "      <td>0.111827</td>\n",
       "      <td>0.126701</td>\n",
       "      <td>0.220638</td>\n",
       "      <td>0.260067</td>\n",
       "      <td>0.185093</td>\n",
       "      <td>0.351700</td>\n",
       "      <td>0.337653</td>\n",
       "      <td>0.364515</td>\n",
       "    </tr>\n",
       "    <tr>\n",
       "      <th>2</th>\n",
       "      <td>0.2</td>\n",
       "      <td>0.122854</td>\n",
       "      <td>0.110276</td>\n",
       "      <td>0.134256</td>\n",
       "      <td>0.218964</td>\n",
       "      <td>0.260883</td>\n",
       "      <td>0.181174</td>\n",
       "      <td>0.368117</td>\n",
       "      <td>0.354459</td>\n",
       "      <td>0.380535</td>\n",
       "    </tr>\n",
       "    <tr>\n",
       "      <th>3</th>\n",
       "      <td>0.3</td>\n",
       "      <td>0.119591</td>\n",
       "      <td>0.105616</td>\n",
       "      <td>0.132240</td>\n",
       "      <td>0.220622</td>\n",
       "      <td>0.261881</td>\n",
       "      <td>0.183423</td>\n",
       "      <td>0.366424</td>\n",
       "      <td>0.354526</td>\n",
       "      <td>0.377215</td>\n",
       "    </tr>\n",
       "    <tr>\n",
       "      <th>4</th>\n",
       "      <td>0.4</td>\n",
       "      <td>0.116452</td>\n",
       "      <td>0.102087</td>\n",
       "      <td>0.129443</td>\n",
       "      <td>0.222222</td>\n",
       "      <td>0.263045</td>\n",
       "      <td>0.185424</td>\n",
       "      <td>0.356489</td>\n",
       "      <td>0.346451</td>\n",
       "      <td>0.365573</td>\n",
       "    </tr>\n",
       "    <tr>\n",
       "      <th>5</th>\n",
       "      <td>0.5</td>\n",
       "      <td>0.114792</td>\n",
       "      <td>0.100548</td>\n",
       "      <td>0.127670</td>\n",
       "      <td>0.223421</td>\n",
       "      <td>0.263695</td>\n",
       "      <td>0.187114</td>\n",
       "      <td>0.345407</td>\n",
       "      <td>0.336525</td>\n",
       "      <td>0.353424</td>\n",
       "    </tr>\n",
       "    <tr>\n",
       "      <th>6</th>\n",
       "      <td>0.6</td>\n",
       "      <td>0.113483</td>\n",
       "      <td>0.099212</td>\n",
       "      <td>0.126383</td>\n",
       "      <td>0.222883</td>\n",
       "      <td>0.262857</td>\n",
       "      <td>0.186845</td>\n",
       "      <td>0.334953</td>\n",
       "      <td>0.327198</td>\n",
       "      <td>0.341927</td>\n",
       "    </tr>\n",
       "    <tr>\n",
       "      <th>7</th>\n",
       "      <td>0.7</td>\n",
       "      <td>0.112429</td>\n",
       "      <td>0.098171</td>\n",
       "      <td>0.125316</td>\n",
       "      <td>0.222924</td>\n",
       "      <td>0.262690</td>\n",
       "      <td>0.187075</td>\n",
       "      <td>0.324811</td>\n",
       "      <td>0.317557</td>\n",
       "      <td>0.331322</td>\n",
       "    </tr>\n",
       "    <tr>\n",
       "      <th>8</th>\n",
       "      <td>0.8</td>\n",
       "      <td>0.111464</td>\n",
       "      <td>0.097222</td>\n",
       "      <td>0.124334</td>\n",
       "      <td>0.222789</td>\n",
       "      <td>0.261994</td>\n",
       "      <td>0.187446</td>\n",
       "      <td>0.314916</td>\n",
       "      <td>0.307716</td>\n",
       "      <td>0.321370</td>\n",
       "    </tr>\n",
       "    <tr>\n",
       "      <th>9</th>\n",
       "      <td>0.9</td>\n",
       "      <td>0.110682</td>\n",
       "      <td>0.096416</td>\n",
       "      <td>0.123574</td>\n",
       "      <td>0.222114</td>\n",
       "      <td>0.260792</td>\n",
       "      <td>0.187245</td>\n",
       "      <td>0.304542</td>\n",
       "      <td>0.296812</td>\n",
       "      <td>0.311473</td>\n",
       "    </tr>\n",
       "    <tr>\n",
       "      <th>10</th>\n",
       "      <td>1.0</td>\n",
       "      <td>0.109909</td>\n",
       "      <td>0.095714</td>\n",
       "      <td>0.122737</td>\n",
       "      <td>0.222101</td>\n",
       "      <td>0.260736</td>\n",
       "      <td>0.187270</td>\n",
       "      <td>0.293085</td>\n",
       "      <td>0.285800</td>\n",
       "      <td>0.299622</td>\n",
       "    </tr>\n",
       "  </tbody>\n",
       "</table>\n",
       "</div>"
      ],
      "text/plain": [
       "        ratio       mAP                          ndcg                      \\\n",
       "dataset             All   Popular Unpopular       All   Popular Unpopular   \n",
       "0         0.0  0.051846  0.058220  0.046137  0.224854  0.261193  0.192102   \n",
       "1         0.1  0.119609  0.111827  0.126701  0.220638  0.260067  0.185093   \n",
       "2         0.2  0.122854  0.110276  0.134256  0.218964  0.260883  0.181174   \n",
       "3         0.3  0.119591  0.105616  0.132240  0.220622  0.261881  0.183423   \n",
       "4         0.4  0.116452  0.102087  0.129443  0.222222  0.263045  0.185424   \n",
       "5         0.5  0.114792  0.100548  0.127670  0.223421  0.263695  0.187114   \n",
       "6         0.6  0.113483  0.099212  0.126383  0.222883  0.262857  0.186845   \n",
       "7         0.7  0.112429  0.098171  0.125316  0.222924  0.262690  0.187075   \n",
       "8         0.8  0.111464  0.097222  0.124334  0.222789  0.261994  0.187446   \n",
       "9         0.9  0.110682  0.096416  0.123574  0.222114  0.260792  0.187245   \n",
       "10        1.0  0.109909  0.095714  0.122737  0.222101  0.260736  0.187270   \n",
       "\n",
       "           recall                      \n",
       "dataset       All   Popular Unpopular  \n",
       "0        0.250272  0.251855  0.249008  \n",
       "1        0.351700  0.337653  0.364515  \n",
       "2        0.368117  0.354459  0.380535  \n",
       "3        0.366424  0.354526  0.377215  \n",
       "4        0.356489  0.346451  0.365573  \n",
       "5        0.345407  0.336525  0.353424  \n",
       "6        0.334953  0.327198  0.341927  \n",
       "7        0.324811  0.317557  0.331322  \n",
       "8        0.314916  0.307716  0.321370  \n",
       "9        0.304542  0.296812  0.311473  \n",
       "10       0.293085  0.285800  0.299622  "
      ]
     },
     "execution_count": 23,
     "metadata": {},
     "output_type": "execute_result"
    }
   ],
   "source": [
    "h = gs_all.groupby(['dataset', 'ratio']).agg('mean').reset_index()\n",
    "h\n",
    "#h = h.pivot_table(['mAP','recall','ndcg'],index=['ratio','dataset']).reset_index()\n",
    "h = h.pivot_table(['mAP','recall','ndcg'],index=['ratio'], columns=['dataset']).reset_index()\n",
    "h"
   ]
  },
  {
   "cell_type": "code",
   "execution_count": 24,
   "metadata": {},
   "outputs": [
    {
     "data": {
      "text/plain": [
       "(True, False)"
      ]
     },
     "execution_count": 24,
     "metadata": {},
     "output_type": "execute_result"
    }
   ],
   "source": [
    "tst = h[h['ratio']>0]\n",
    "\n",
    "(h['mAP']['Popular'] > h['mAP']['Unpopular']).any(), (tst['mAP']['Popular'] > tst['mAP']['Unpopular']).any()"
   ]
  },
  {
   "cell_type": "code",
   "execution_count": 25,
   "metadata": {},
   "outputs": [
    {
     "data": {
      "text/plain": [
       "(True, False)"
      ]
     },
     "execution_count": 25,
     "metadata": {},
     "output_type": "execute_result"
    }
   ],
   "source": [
    "(h['recall']['Popular'] > h['recall']['Unpopular']).any(), (tst['recall']['Popular'] > tst['recall']['Unpopular']).any()"
   ]
  },
  {
   "cell_type": "code",
   "execution_count": 26,
   "metadata": {},
   "outputs": [
    {
     "data": {
      "text/plain": [
       "(True, True)"
      ]
     },
     "execution_count": 26,
     "metadata": {},
     "output_type": "execute_result"
    }
   ],
   "source": [
    "(h['ndcg']['Popular'] > h['ndcg']['Unpopular']).any(), (tst['ndcg']['Popular'] > tst['ndcg']['Unpopular']).any()"
   ]
  },
  {
   "cell_type": "markdown",
   "metadata": {},
   "source": [
    "# Random results"
   ]
  },
  {
   "cell_type": "code",
   "execution_count": 27,
   "metadata": {},
   "outputs": [],
   "source": [
    "ru = gs_random_uniform.copy()\n",
    "ru['method'] = 'Random uniform'\n",
    "\n",
    "rw = gs_random_weighted.copy()\n",
    "rw['method'] = 'Random weighted'\n",
    "\n",
    "rand = pd.concat([ru, rw])\n",
    "\n",
    "our = gs.copy()\n",
    "our['method'] = 'Our'\n",
    "\n",
    "our_vs_rand = pd.concat([rand,our])"
   ]
  },
  {
   "cell_type": "code",
   "execution_count": 28,
   "metadata": {
    "scrolled": true
   },
   "outputs": [
    {
     "name": "stderr",
     "output_type": "stream",
     "text": [
      "/home/kacper/miniconda3/lib/python3.6/site-packages/scipy/stats/stats.py:1713: FutureWarning: Using a non-tuple sequence for multidimensional indexing is deprecated; use `arr[tuple(seq)]` instead of `arr[seq]`. In the future this will be interpreted as an array index, `arr[np.array(seq)]`, which will result either in an error or a different result.\n",
      "  return np.add.reduce(sorted[indexer] * weights, axis=axis) / sumval\n"
     ]
    },
    {
     "data": {
      "text/plain": [
       "<matplotlib.axes._subplots.AxesSubplot at 0x7fe4ea611f60>"
      ]
     },
     "execution_count": 28,
     "metadata": {},
     "output_type": "execute_result"
    },
    {
     "data": {
      "image/png": "[encoded data removed]",
      "text/plain": [
       "<Figure size 576x432 with 1 Axes>"
      ]
     },
     "metadata": {},
     "output_type": "display_data"
    },
    {
     "data": {
      "image/png": "[encoded data removed]",
      "text/plain": [
       "<Figure size 576x432 with 1 Axes>"
      ]
     },
     "metadata": {},
     "output_type": "display_data"
    },
    {
     "data": {
      "image/png": "[encoded data removed]",
      "text/plain": [
       "<Figure size 576x432 with 1 Axes>"
      ]
     },
     "metadata": {},
     "output_type": "display_data"
    }
   ],
   "source": [
    "plt.figure(figsize=(8,6))\n",
    "ax = sns.pointplot(rw['K'], rw['mAP'], errwidth=0.2, markers='.')\n",
    "ax.set(xlabel='$k$', ylabel='$mAP$')\n",
    "plt.savefig('reports/random_mAP_K.pdf', transparent=True, bbox_inches='tight')\n",
    "\n",
    "plt.figure(figsize=(8,6))\n",
    "ax = sns.pointplot(rw['K'], rw['recall'], errwidth=0.2, markers='.')\n",
    "ax.set(xlabel='$k$', ylabel='$R$')\n",
    "plt.savefig('reports/random_recall_K.pdf', transparent=True, bbox_inches='tight')\n",
    "\n",
    "plt.figure(figsize=(8,6))\n",
    "sns.pointplot(rw['K'], rw['ndcg'], errwidth=0.2, markers='.')"
   ]
  },
  {
   "cell_type": "code",
   "execution_count": 29,
   "metadata": {},
   "outputs": [
    {
     "name": "stderr",
     "output_type": "stream",
     "text": [
      "/home/kacper/miniconda3/lib/python3.6/site-packages/scipy/stats/stats.py:1713: FutureWarning: Using a non-tuple sequence for multidimensional indexing is deprecated; use `arr[tuple(seq)]` instead of `arr[seq]`. In the future this will be interpreted as an array index, `arr[np.array(seq)]`, which will result either in an error or a different result.\n",
      "  return np.add.reduce(sorted[indexer] * weights, axis=axis) / sumval\n"
     ]
    },
    {
     "data": {
      "text/plain": [
       "<Figure size 1080x360 with 0 Axes>"
      ]
     },
     "metadata": {},
     "output_type": "display_data"
    },
    {
     "data": {
      "image/png": "[encoded data removed]",
      "text/plain": [
       "<Figure size 576x432 with 1 Axes>"
      ]
     },
     "metadata": {},
     "output_type": "display_data"
    }
   ],
   "source": [
    "plt.figure(figsize=(15,5))\n",
    "#d = gs_random_uniform[(gs_random_uniform['occurence_limit']==20) & (gs_all['ratio'] >0.9)]\n",
    "d = our_vs_rand.copy()\n",
    "d = d[d['K']==5]\n",
    "\n",
    "plt.figure(figsize=(8,6))\n",
    "ax = sns.barplot(d['method'], d['mAP'], errwidth=5)\n",
    "ax.set(xlabel='$method$', ylabel='$mAP@5$')\n",
    "# plt.title('Mean Average Precision with top 5 recommendations\\nOur vs. baseline')\n",
    "\n",
    "plt.savefig('reports/mAP_top5.pdf', transparent=True, bbox_inches='tight')"
   ]
  },
  {
   "cell_type": "code",
   "execution_count": 36,
   "metadata": {},
   "outputs": [
    {
     "data": {
      "text/html": [
       "<div>\n",
       "<style scoped>\n",
       "    .dataframe tbody tr th:only-of-type {\n",
       "        vertical-align: middle;\n",
       "    }\n",
       "\n",
       "    .dataframe tbody tr th {\n",
       "        vertical-align: top;\n",
       "    }\n",
       "\n",
       "    .dataframe thead th {\n",
       "        text-align: right;\n",
       "    }\n",
       "</style>\n",
       "<table border=\"1\" class=\"dataframe\">\n",
       "  <thead>\n",
       "    <tr style=\"text-align: right;\">\n",
       "      <th></th>\n",
       "      <th>mAP</th>\n",
       "      <th>recall</th>\n",
       "    </tr>\n",
       "    <tr>\n",
       "      <th>method</th>\n",
       "      <th></th>\n",
       "      <th></th>\n",
       "    </tr>\n",
       "  </thead>\n",
       "  <tbody>\n",
       "    <tr>\n",
       "      <th>Our</th>\n",
       "      <td>0.109374</td>\n",
       "      <td>0.328247</td>\n",
       "    </tr>\n",
       "    <tr>\n",
       "      <th>Random uniform</th>\n",
       "      <td>0.003936</td>\n",
       "      <td>0.038294</td>\n",
       "    </tr>\n",
       "    <tr>\n",
       "      <th>Random weighted</th>\n",
       "      <td>0.070383</td>\n",
       "      <td>0.366522</td>\n",
       "    </tr>\n",
       "  </tbody>\n",
       "</table>\n",
       "</div>"
      ],
      "text/plain": [
       "                      mAP    recall\n",
       "method                             \n",
       "Our              0.109374  0.328247\n",
       "Random uniform   0.003936  0.038294\n",
       "Random weighted  0.070383  0.366522"
      ]
     },
     "execution_count": 36,
     "metadata": {},
     "output_type": "execute_result"
    }
   ],
   "source": [
    "d = our_vs_rand.copy()\n",
    "d.groupby('method').agg({'mAP': 'mean', 'recall': 'mean'})"
   ]
  },
  {
   "cell_type": "code",
   "execution_count": 37,
   "metadata": {},
   "outputs": [
    {
     "data": {
      "text/html": [
       "<div>\n",
       "<style scoped>\n",
       "    .dataframe tbody tr th:only-of-type {\n",
       "        vertical-align: middle;\n",
       "    }\n",
       "\n",
       "    .dataframe tbody tr th {\n",
       "        vertical-align: top;\n",
       "    }\n",
       "\n",
       "    .dataframe thead th {\n",
       "        text-align: right;\n",
       "    }\n",
       "</style>\n",
       "<table border=\"1\" class=\"dataframe\">\n",
       "  <thead>\n",
       "    <tr style=\"text-align: right;\">\n",
       "      <th></th>\n",
       "      <th>mAP</th>\n",
       "      <th>recall</th>\n",
       "    </tr>\n",
       "    <tr>\n",
       "      <th>method</th>\n",
       "      <th></th>\n",
       "      <th></th>\n",
       "    </tr>\n",
       "  </thead>\n",
       "  <tbody>\n",
       "    <tr>\n",
       "      <th>Our</th>\n",
       "      <td>0.094757</td>\n",
       "      <td>0.152658</td>\n",
       "    </tr>\n",
       "    <tr>\n",
       "      <th>Random uniform</th>\n",
       "      <td>0.001975</td>\n",
       "      <td>0.004628</td>\n",
       "    </tr>\n",
       "    <tr>\n",
       "      <th>Random weighted</th>\n",
       "      <td>0.049943</td>\n",
       "      <td>0.103602</td>\n",
       "    </tr>\n",
       "  </tbody>\n",
       "</table>\n",
       "</div>"
      ],
      "text/plain": [
       "                      mAP    recall\n",
       "method                             \n",
       "Our              0.094757  0.152658\n",
       "Random uniform   0.001975  0.004628\n",
       "Random weighted  0.049943  0.103602"
      ]
     },
     "execution_count": 37,
     "metadata": {},
     "output_type": "execute_result"
    }
   ],
   "source": [
    "d = our_vs_rand.copy()\n",
    "d[d['K']==5].groupby('method').agg({'mAP': 'mean', 'recall': 'mean'})"
   ]
  },
  {
   "cell_type": "code",
   "execution_count": 38,
   "metadata": {},
   "outputs": [
    {
     "data": {
      "text/html": [
       "<div>\n",
       "<style scoped>\n",
       "    .dataframe tbody tr th:only-of-type {\n",
       "        vertical-align: middle;\n",
       "    }\n",
       "\n",
       "    .dataframe tbody tr th {\n",
       "        vertical-align: top;\n",
       "    }\n",
       "\n",
       "    .dataframe thead th {\n",
       "        text-align: right;\n",
       "    }\n",
       "</style>\n",
       "<table border=\"1\" class=\"dataframe\">\n",
       "  <thead>\n",
       "    <tr style=\"text-align: right;\">\n",
       "      <th></th>\n",
       "      <th>mAP</th>\n",
       "      <th>recall</th>\n",
       "    </tr>\n",
       "    <tr>\n",
       "      <th>method</th>\n",
       "      <th></th>\n",
       "      <th></th>\n",
       "    </tr>\n",
       "  </thead>\n",
       "  <tbody>\n",
       "    <tr>\n",
       "      <th>Our</th>\n",
       "      <td>0.116655</td>\n",
       "      <td>0.515911</td>\n",
       "    </tr>\n",
       "    <tr>\n",
       "      <th>Random uniform</th>\n",
       "      <td>0.005535</td>\n",
       "      <td>0.101475</td>\n",
       "    </tr>\n",
       "    <tr>\n",
       "      <th>Random weighted</th>\n",
       "      <td>0.077868</td>\n",
       "      <td>0.603498</td>\n",
       "    </tr>\n",
       "  </tbody>\n",
       "</table>\n",
       "</div>"
      ],
      "text/plain": [
       "                      mAP    recall\n",
       "method                             \n",
       "Our              0.116655  0.515911\n",
       "Random uniform   0.005535  0.101475\n",
       "Random weighted  0.077868  0.603498"
      ]
     },
     "execution_count": 38,
     "metadata": {},
     "output_type": "execute_result"
    }
   ],
   "source": [
    "d = our_vs_rand.copy()\n",
    "d[d['K']==100].groupby('method').agg({'mAP': 'mean', 'recall': 'mean'})"
   ]
  },
  {
   "cell_type": "code",
   "execution_count": 32,
   "metadata": {
    "scrolled": true
   },
   "outputs": [
    {
     "name": "stderr",
     "output_type": "stream",
     "text": [
      "/home/kacper/miniconda3/lib/python3.6/site-packages/scipy/stats/stats.py:1713: FutureWarning: Using a non-tuple sequence for multidimensional indexing is deprecated; use `arr[tuple(seq)]` instead of `arr[seq]`. In the future this will be interpreted as an array index, `arr[np.array(seq)]`, which will result either in an error or a different result.\n",
      "  return np.add.reduce(sorted[indexer] * weights, axis=axis) / sumval\n"
     ]
    },
    {
     "data": {
      "image/png": "[encoded data removed]",
      "text/plain": [
       "<Figure size 576x432 with 1 Axes>"
      ]
     },
     "metadata": {},
     "output_type": "display_data"
    }
   ],
   "source": [
    "d = our_vs_rand.copy()\n",
    "d = d[d['K']==5]\n",
    "\n",
    "plt.figure(figsize=(8,6))\n",
    "ax = sns.barplot(d['method'], d['recall'], errwidth=5)\n",
    "ax.set(xlabel='$method$', ylabel='$R@5$')\n",
    "# plt.title('Recall with top 5 recommendations\\nOur vs. baseline')\n",
    "plt.savefig('reports/recall_top5.pdf', transparent=True, bbox_inches='tight')"
   ]
  },
  {
   "cell_type": "code",
   "execution_count": 33,
   "metadata": {},
   "outputs": [
    {
     "name": "stderr",
     "output_type": "stream",
     "text": [
      "/home/kacper/miniconda3/lib/python3.6/site-packages/scipy/stats/stats.py:1713: FutureWarning: Using a non-tuple sequence for multidimensional indexing is deprecated; use `arr[tuple(seq)]` instead of `arr[seq]`. In the future this will be interpreted as an array index, `arr[np.array(seq)]`, which will result either in an error or a different result.\n",
      "  return np.add.reduce(sorted[indexer] * weights, axis=axis) / sumval\n"
     ]
    },
    {
     "data": {
      "image/png": "[encoded data removed]",
      "text/plain": [
       "<Figure size 576x432 with 1 Axes>"
      ]
     },
     "metadata": {},
     "output_type": "display_data"
    }
   ],
   "source": [
    "#d = gs_random_uniform[(gs_random_uniform['occurence_limit']==20) & (gs_all['ratio'] >0.9)]\n",
    "d = our_vs_rand.copy()\n",
    "d = d[d['K']==100]\n",
    "\n",
    "plt.figure(figsize=(8,6))\n",
    "ax = sns.barplot(d['method'], d['mAP'], errwidth=5)\n",
    "ax.set(xlabel='$method$', ylabel='$mAP@100$')\n",
    "# plt.title('Mean Average Precision with top 5 recommendations\\nOur vs. baseline')\n",
    "\n",
    "plt.savefig('reports/mAP_top100.pdf', transparent=True, bbox_inches='tight')"
   ]
  },
  {
   "cell_type": "code",
   "execution_count": 34,
   "metadata": {},
   "outputs": [
    {
     "name": "stderr",
     "output_type": "stream",
     "text": [
      "/home/kacper/miniconda3/lib/python3.6/site-packages/scipy/stats/stats.py:1713: FutureWarning: Using a non-tuple sequence for multidimensional indexing is deprecated; use `arr[tuple(seq)]` instead of `arr[seq]`. In the future this will be interpreted as an array index, `arr[np.array(seq)]`, which will result either in an error or a different result.\n",
      "  return np.add.reduce(sorted[indexer] * weights, axis=axis) / sumval\n"
     ]
    },
    {
     "data": {
      "image/png": "[encoded data removed]",
      "text/plain": [
       "<Figure size 576x432 with 1 Axes>"
      ]
     },
     "metadata": {},
     "output_type": "display_data"
    }
   ],
   "source": [
    "d = our_vs_rand.copy()\n",
    "d = d[d['K']==100]\n",
    "\n",
    "plt.figure(figsize=(8,6))\n",
    "ax = sns.barplot(d['method'], d['recall'], errwidth=5)\n",
    "ax.set(xlabel='$method$', ylabel='$R@100$')\n",
    "# plt.title('Recall with top 5 recommendations\\nOur vs. baseline')\n",
    "plt.savefig('reports/recall_top100.pdf', transparent=True, bbox_inches='tight')"
   ]
  },
  {
   "cell_type": "code",
   "execution_count": null,
   "metadata": {},
   "outputs": [],
   "source": []
  },
  {
   "cell_type": "code",
   "execution_count": null,
   "metadata": {},
   "outputs": [],
   "source": []
  }
 ],
 "metadata": {
  "kernelspec": {
   "display_name": "Python 3",
   "language": "python",
   "name": "python3"
  },
  "language_info": {
   "codemirror_mode": {
    "name": "ipython",
    "version": 3
   },
   "file_extension": ".py",
   "mimetype": "text/x-python",
   "name": "python",
   "nbconvert_exporter": "python",
   "pygments_lexer": "ipython3",
   "version": "3.6.7"
  },
  "toc": {
   "base_numbering": 1,
   "nav_menu": {},
   "number_sections": false,
   "sideBar": false,
   "skip_h1_title": false,
   "title_cell": "Table of Contents",
   "title_sidebar": "Contents",
   "toc_cell": false,
   "toc_position": {},
   "toc_section_display": false,
   "toc_window_display": false
  }
 },
 "nbformat": 4,
 "nbformat_minor": 2
}
