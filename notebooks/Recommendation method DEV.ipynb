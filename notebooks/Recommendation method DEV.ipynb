{
 "cells": [
  {
   "cell_type": "code",
   "execution_count": 1,
   "metadata": {},
   "outputs": [],
   "source": [
    "import os\n",
    "os.chdir('..')"
   ]
  },
  {
   "cell_type": "code",
   "execution_count": 2,
   "metadata": {},
   "outputs": [],
   "source": [
    "from tweet_recommendations.utils.clients import get_wcrft2_results_for_text\n",
    "from tweet_recommendations.embeddings.word2vec import get_w2v_tweet_embedding, load_w2v_model, get_w2v_tweets_embeddings\n",
    "\n",
    "import pickle\n",
    "import networkx as nx\n",
    "import numpy as np\n",
    "import scipy.spatial.distance\n",
    "import sklearn.metrics.pairwise\n",
    "import pandas as pd\n",
    "import functools"
   ]
  },
  {
   "cell_type": "code",
   "execution_count": 3,
   "metadata": {},
   "outputs": [
    {
     "name": "stdout",
     "output_type": "stream",
     "text": [
      "CPU times: user 3min 3s, sys: 2.1 s, total: 3min 5s\n",
      "Wall time: 3min 5s\n"
     ]
    }
   ],
   "source": [
    "%%time\n",
    "W2V = load_w2v_model('/mnt/SAMSUNG/models/embeddings/kgr10.plain.skipgram.dim100.neg10.vec')"
   ]
  },
  {
   "cell_type": "code",
   "execution_count": 4,
   "metadata": {
    "scrolled": true
   },
   "outputs": [
    {
     "data": {
      "text/plain": [
       "array([-2.07183048e-01, -4.50225890e-01, -1.23955682e-01,  1.12159997e-02,\n",
       "       -1.76998273e-01,  5.89667484e-02,  2.44616464e-01, -1.74873695e-01,\n",
       "       -2.28233725e-01,  2.52170891e-01, -1.32351011e-01,  2.86457557e-02,\n",
       "       -6.36759251e-02,  1.54526129e-01, -1.67579427e-01,  4.38780002e-02,\n",
       "       -6.55323714e-02,  1.26383126e-01, -1.56067565e-01,  1.00605503e-01,\n",
       "        9.08714384e-02,  2.06701867e-02, -1.79530736e-02,  7.69727454e-02,\n",
       "        9.54973791e-03,  1.71648383e-01, -4.78953160e-02, -5.73842525e-01,\n",
       "       -5.40656269e-01,  6.80634379e-02,  2.37609312e-01, -7.71594942e-02,\n",
       "       -3.44907522e-01, -6.40556216e-02, -3.43884379e-01,  4.39932570e-02,\n",
       "       -1.37345776e-01, -1.22633129e-01, -4.00111258e-01,  1.09476903e-02,\n",
       "       -1.94105297e-01, -1.01804376e-01,  1.05482668e-01,  2.05798119e-01,\n",
       "        9.09142494e-02,  2.21695796e-01, -2.78363556e-01,  1.26095280e-01,\n",
       "       -1.80218741e-03,  3.31006944e-01, -1.34967744e-01, -8.82026851e-02,\n",
       "        1.50050506e-01, -3.02549824e-02, -8.12240690e-02,  4.31441255e-02,\n",
       "       -9.47256014e-03, -4.78015468e-02,  1.11670583e-01, -1.97537094e-01,\n",
       "        1.80896074e-01, -8.30769241e-02, -1.17470369e-01, -1.30587563e-01,\n",
       "       -4.12338674e-02,  7.87021965e-03, -4.82920818e-02,  4.24843282e-04,\n",
       "       -2.87830234e-01,  3.35482478e-01, -1.51113376e-01, -5.76918498e-02,\n",
       "        2.90115595e-01, -2.08241884e-02, -1.24464937e-01,  3.60051185e-01,\n",
       "       -2.01751441e-01,  3.46914589e-01,  2.44854122e-01, -1.34709254e-01,\n",
       "        2.57850558e-01,  1.72799617e-01,  1.88529879e-01, -1.92168996e-01,\n",
       "       -2.41667390e-01,  1.16143942e-01, -3.45481247e-01,  2.08755396e-03,\n",
       "        9.75224935e-03,  7.37175643e-02,  1.86143756e-01,  4.03890014e-01,\n",
       "       -3.26083034e-01, -2.79088132e-02, -2.38564879e-01,  2.33168527e-03,\n",
       "        2.13364184e-01,  4.93198752e-01, -4.50753123e-01, -4.99743730e-01],\n",
       "      dtype=float32)"
      ]
     },
     "execution_count": 4,
     "metadata": {},
     "output_type": "execute_result"
    }
   ],
   "source": [
    "lemmas = get_wcrft2_results_for_text(\"Ala ma kota, a kot ma Alę. Za to Agnieszka posiada dwa pieski.\")\n",
    "get_w2v_tweet_embedding(lemmas, W2V)"
   ]
  },
  {
   "cell_type": "code",
   "execution_count": 3,
   "metadata": {},
   "outputs": [
    {
     "data": {
      "text/html": [
       "<div>\n",
       "<style scoped>\n",
       "    .dataframe tbody tr th:only-of-type {\n",
       "        vertical-align: middle;\n",
       "    }\n",
       "\n",
       "    .dataframe tbody tr th {\n",
       "        vertical-align: top;\n",
       "    }\n",
       "\n",
       "    .dataframe thead th {\n",
       "        text-align: right;\n",
       "    }\n",
       "</style>\n",
       "<table border=\"1\" class=\"dataframe\">\n",
       "  <thead>\n",
       "    <tr style=\"text-align: right;\">\n",
       "      <th></th>\n",
       "      <th>tweet_id</th>\n",
       "      <th>embeddings</th>\n",
       "    </tr>\n",
       "  </thead>\n",
       "  <tbody>\n",
       "    <tr>\n",
       "      <th>0</th>\n",
       "      <td>1055013541181353987</td>\n",
       "      <td>[0.066088036, 0.06916399, -0.08772982, 0.02842...</td>\n",
       "    </tr>\n",
       "    <tr>\n",
       "      <th>1</th>\n",
       "      <td>1052688633918963713</td>\n",
       "      <td>[0.042748816, 0.018327478, -0.026713202, 0.038...</td>\n",
       "    </tr>\n",
       "    <tr>\n",
       "      <th>2</th>\n",
       "      <td>1054102180486172673</td>\n",
       "      <td>[0.04925826, 0.12695895, -0.08234913, 0.047574...</td>\n",
       "    </tr>\n",
       "    <tr>\n",
       "      <th>3</th>\n",
       "      <td>1051723165829918720</td>\n",
       "      <td>[0.07929088, 0.052764755, -0.102878, 0.0189335...</td>\n",
       "    </tr>\n",
       "    <tr>\n",
       "      <th>4</th>\n",
       "      <td>1034736277084688384</td>\n",
       "      <td>[0.05510524, 0.07667969, -0.09653922, 0.048123...</td>\n",
       "    </tr>\n",
       "  </tbody>\n",
       "</table>\n",
       "</div>"
      ],
      "text/plain": [
       "              tweet_id                                         embeddings\n",
       "0  1055013541181353987  [0.066088036, 0.06916399, -0.08772982, 0.02842...\n",
       "1  1052688633918963713  [0.042748816, 0.018327478, -0.026713202, 0.038...\n",
       "2  1054102180486172673  [0.04925826, 0.12695895, -0.08234913, 0.047574...\n",
       "3  1051723165829918720  [0.07929088, 0.052764755, -0.102878, 0.0189335...\n",
       "4  1034736277084688384  [0.05510524, 0.07667969, -0.09653922, 0.048123..."
      ]
     },
     "execution_count": 3,
     "metadata": {},
     "output_type": "execute_result"
    }
   ],
   "source": [
    "ft = pd.read_pickle('./data/embeddings/fasttext_embeddings.pkl')\n",
    "ft.head()"
   ]
  },
  {
   "cell_type": "code",
   "execution_count": 4,
   "metadata": {},
   "outputs": [
    {
     "data": {
      "text/html": [
       "<div>\n",
       "<style scoped>\n",
       "    .dataframe tbody tr th:only-of-type {\n",
       "        vertical-align: middle;\n",
       "    }\n",
       "\n",
       "    .dataframe tbody tr th {\n",
       "        vertical-align: top;\n",
       "    }\n",
       "\n",
       "    .dataframe thead th {\n",
       "        text-align: right;\n",
       "    }\n",
       "</style>\n",
       "<table border=\"1\" class=\"dataframe\">\n",
       "  <thead>\n",
       "    <tr style=\"text-align: right;\">\n",
       "      <th></th>\n",
       "      <th>tweet_id</th>\n",
       "      <th>tweet_embedding</th>\n",
       "    </tr>\n",
       "  </thead>\n",
       "  <tbody>\n",
       "    <tr>\n",
       "      <th>0</th>\n",
       "      <td>1055013541181353987</td>\n",
       "      <td>[-0.02563778146635741, -0.43154129571281374, -...</td>\n",
       "    </tr>\n",
       "    <tr>\n",
       "      <th>1</th>\n",
       "      <td>1052688633918963713</td>\n",
       "      <td>[-0.06042357006420692, -0.36830542680053485, 0...</td>\n",
       "    </tr>\n",
       "    <tr>\n",
       "      <th>2</th>\n",
       "      <td>1054102180486172673</td>\n",
       "      <td>[-0.18836596173544726, -0.36910818586194954, -...</td>\n",
       "    </tr>\n",
       "    <tr>\n",
       "      <th>3</th>\n",
       "      <td>1051723165829918720</td>\n",
       "      <td>[-0.07193121433790241, -0.3486243937430637, -0...</td>\n",
       "    </tr>\n",
       "    <tr>\n",
       "      <th>4</th>\n",
       "      <td>1034736277084688384</td>\n",
       "      <td>[-0.21816051351587948, -0.3266038287703584, 0....</td>\n",
       "    </tr>\n",
       "  </tbody>\n",
       "</table>\n",
       "</div>"
      ],
      "text/plain": [
       "              tweet_id                                    tweet_embedding\n",
       "0  1055013541181353987  [-0.02563778146635741, -0.43154129571281374, -...\n",
       "1  1052688633918963713  [-0.06042357006420692, -0.36830542680053485, 0...\n",
       "2  1054102180486172673  [-0.18836596173544726, -0.36910818586194954, -...\n",
       "3  1051723165829918720  [-0.07193121433790241, -0.3486243937430637, -0...\n",
       "4  1034736277084688384  [-0.21816051351587948, -0.3266038287703584, 0...."
      ]
     },
     "execution_count": 4,
     "metadata": {},
     "output_type": "execute_result"
    }
   ],
   "source": [
    "sk = pd.read_pickle('./data/embeddings/skipgram_embeddings.pkl')\n",
    "sk.head()"
   ]
  },
  {
   "cell_type": "code",
   "execution_count": 52,
   "metadata": {},
   "outputs": [
    {
     "data": {
      "text/html": [
       "<div>\n",
       "<style scoped>\n",
       "    .dataframe tbody tr th:only-of-type {\n",
       "        vertical-align: middle;\n",
       "    }\n",
       "\n",
       "    .dataframe tbody tr th {\n",
       "        vertical-align: top;\n",
       "    }\n",
       "\n",
       "    .dataframe thead th {\n",
       "        text-align: right;\n",
       "    }\n",
       "</style>\n",
       "<table border=\"1\" class=\"dataframe\">\n",
       "  <thead>\n",
       "    <tr style=\"text-align: right;\">\n",
       "      <th></th>\n",
       "      <th>contributors</th>\n",
       "      <th>coordinates</th>\n",
       "      <th>created_at</th>\n",
       "      <th>display_text_range</th>\n",
       "      <th>favorite_count</th>\n",
       "      <th>favorited</th>\n",
       "      <th>filter_level</th>\n",
       "      <th>geo</th>\n",
       "      <th>hashtags</th>\n",
       "      <th>id</th>\n",
       "      <th>...</th>\n",
       "      <th>retweet_count</th>\n",
       "      <th>retweeted</th>\n",
       "      <th>scopes</th>\n",
       "      <th>source</th>\n",
       "      <th>text</th>\n",
       "      <th>timestamp_ms</th>\n",
       "      <th>truncated</th>\n",
       "      <th>user</th>\n",
       "      <th>username</th>\n",
       "      <th>withheld_in_countries</th>\n",
       "    </tr>\n",
       "  </thead>\n",
       "  <tbody>\n",
       "    <tr>\n",
       "      <th>0</th>\n",
       "      <td>None</td>\n",
       "      <td>None</td>\n",
       "      <td>2018-10-28 23:35:48+00:00</td>\n",
       "      <td>[0, 109]</td>\n",
       "      <td>0</td>\n",
       "      <td>False</td>\n",
       "      <td>low</td>\n",
       "      <td>None</td>\n",
       "      <td>[{'text': 'Warszawa', 'indices': [76, 85]}]</td>\n",
       "      <td>1056691029846491139</td>\n",
       "      <td>...</td>\n",
       "      <td>0</td>\n",
       "      <td>False</td>\n",
       "      <td>NaN</td>\n",
       "      <td>&lt;a href=\"https://echowarszawy.pl\" rel=\"nofollo...</td>\n",
       "      <td>KMPSP Warszawa: 23.10.2018 - Drzewo powalone n...</td>\n",
       "      <td>1540769748542</td>\n",
       "      <td>False</td>\n",
       "      <td>965943739809239040</td>\n",
       "      <td>EchoWarszawy</td>\n",
       "      <td>NaN</td>\n",
       "    </tr>\n",
       "    <tr>\n",
       "      <th>1</th>\n",
       "      <td>None</td>\n",
       "      <td>None</td>\n",
       "      <td>2018-10-28 23:35:51+00:00</td>\n",
       "      <td>[48, 290]</td>\n",
       "      <td>0</td>\n",
       "      <td>False</td>\n",
       "      <td>low</td>\n",
       "      <td>None</td>\n",
       "      <td>[]</td>\n",
       "      <td>1056691042106400768</td>\n",
       "      <td>...</td>\n",
       "      <td>0</td>\n",
       "      <td>False</td>\n",
       "      <td>NaN</td>\n",
       "      <td>&lt;a href=\"https://mobile.twitter.com\" rel=\"nofo...</td>\n",
       "      <td>@SebNow82 @ChiefRobert2 @Immanuela_Kant @smok0...</td>\n",
       "      <td>1540769751465</td>\n",
       "      <td>True</td>\n",
       "      <td>870751323549040640</td>\n",
       "      <td>dodi6319</td>\n",
       "      <td>NaN</td>\n",
       "    </tr>\n",
       "    <tr>\n",
       "      <th>2</th>\n",
       "      <td>None</td>\n",
       "      <td>None</td>\n",
       "      <td>2018-10-28 23:35:56+00:00</td>\n",
       "      <td>[50, 330]</td>\n",
       "      <td>0</td>\n",
       "      <td>False</td>\n",
       "      <td>low</td>\n",
       "      <td>None</td>\n",
       "      <td>[]</td>\n",
       "      <td>1056691065200304128</td>\n",
       "      <td>...</td>\n",
       "      <td>0</td>\n",
       "      <td>False</td>\n",
       "      <td>NaN</td>\n",
       "      <td>&lt;a href=\"http://twitter.com\" rel=\"nofollow\"&gt;Tw...</td>\n",
       "      <td>@rafalch2 @KLubnauer @Nowoczesna @wlodekczarza...</td>\n",
       "      <td>1540769756971</td>\n",
       "      <td>True</td>\n",
       "      <td>1025517195223281664</td>\n",
       "      <td>Fiona11701355</td>\n",
       "      <td>NaN</td>\n",
       "    </tr>\n",
       "    <tr>\n",
       "      <th>3</th>\n",
       "      <td>None</td>\n",
       "      <td>None</td>\n",
       "      <td>2018-10-28 23:35:59+00:00</td>\n",
       "      <td>[20, 72]</td>\n",
       "      <td>0</td>\n",
       "      <td>False</td>\n",
       "      <td>low</td>\n",
       "      <td>None</td>\n",
       "      <td>[]</td>\n",
       "      <td>1056691075727982592</td>\n",
       "      <td>...</td>\n",
       "      <td>0</td>\n",
       "      <td>False</td>\n",
       "      <td>NaN</td>\n",
       "      <td>&lt;a href=\"http://twitter.com\" rel=\"nofollow\"&gt;Tw...</td>\n",
       "      <td>@wkrawcz1 @pisorgpl W PiS to normalne. Wszyscy...</td>\n",
       "      <td>1540769759481</td>\n",
       "      <td>False</td>\n",
       "      <td>811556244892872704</td>\n",
       "      <td>Paul4Anka</td>\n",
       "      <td>NaN</td>\n",
       "    </tr>\n",
       "    <tr>\n",
       "      <th>4</th>\n",
       "      <td>None</td>\n",
       "      <td>None</td>\n",
       "      <td>2018-10-28 23:36:10+00:00</td>\n",
       "      <td>NaN</td>\n",
       "      <td>0</td>\n",
       "      <td>False</td>\n",
       "      <td>low</td>\n",
       "      <td>None</td>\n",
       "      <td>[]</td>\n",
       "      <td>1056691121097752576</td>\n",
       "      <td>...</td>\n",
       "      <td>0</td>\n",
       "      <td>False</td>\n",
       "      <td>NaN</td>\n",
       "      <td>&lt;a href=\"http://twitter.com\" rel=\"nofollow\"&gt;Tw...</td>\n",
       "      <td>Czasami żałuję, że Krysia mnie zablokowała😘</td>\n",
       "      <td>1540769770298</td>\n",
       "      <td>False</td>\n",
       "      <td>1004022955045728256</td>\n",
       "      <td>JanKiebasa3</td>\n",
       "      <td>NaN</td>\n",
       "    </tr>\n",
       "  </tbody>\n",
       "</table>\n",
       "<p>5 rows × 36 columns</p>\n",
       "</div>"
      ],
      "text/plain": [
       "  contributors coordinates                created_at display_text_range  \\\n",
       "0         None        None 2018-10-28 23:35:48+00:00           [0, 109]   \n",
       "1         None        None 2018-10-28 23:35:51+00:00          [48, 290]   \n",
       "2         None        None 2018-10-28 23:35:56+00:00          [50, 330]   \n",
       "3         None        None 2018-10-28 23:35:59+00:00           [20, 72]   \n",
       "4         None        None 2018-10-28 23:36:10+00:00                NaN   \n",
       "\n",
       "   favorite_count  favorited filter_level   geo  \\\n",
       "0               0      False          low  None   \n",
       "1               0      False          low  None   \n",
       "2               0      False          low  None   \n",
       "3               0      False          low  None   \n",
       "4               0      False          low  None   \n",
       "\n",
       "                                      hashtags                   id  \\\n",
       "0  [{'text': 'Warszawa', 'indices': [76, 85]}]  1056691029846491139   \n",
       "1                                           []  1056691042106400768   \n",
       "2                                           []  1056691065200304128   \n",
       "3                                           []  1056691075727982592   \n",
       "4                                           []  1056691121097752576   \n",
       "\n",
       "           ...          retweet_count retweeted  scopes  \\\n",
       "0          ...                      0     False     NaN   \n",
       "1          ...                      0     False     NaN   \n",
       "2          ...                      0     False     NaN   \n",
       "3          ...                      0     False     NaN   \n",
       "4          ...                      0     False     NaN   \n",
       "\n",
       "                                              source  \\\n",
       "0  <a href=\"https://echowarszawy.pl\" rel=\"nofollo...   \n",
       "1  <a href=\"https://mobile.twitter.com\" rel=\"nofo...   \n",
       "2  <a href=\"http://twitter.com\" rel=\"nofollow\">Tw...   \n",
       "3  <a href=\"http://twitter.com\" rel=\"nofollow\">Tw...   \n",
       "4  <a href=\"http://twitter.com\" rel=\"nofollow\">Tw...   \n",
       "\n",
       "                                                text   timestamp_ms  \\\n",
       "0  KMPSP Warszawa: 23.10.2018 - Drzewo powalone n...  1540769748542   \n",
       "1  @SebNow82 @ChiefRobert2 @Immanuela_Kant @smok0...  1540769751465   \n",
       "2  @rafalch2 @KLubnauer @Nowoczesna @wlodekczarza...  1540769756971   \n",
       "3  @wkrawcz1 @pisorgpl W PiS to normalne. Wszyscy...  1540769759481   \n",
       "4        Czasami żałuję, że Krysia mnie zablokowała😘  1540769770298   \n",
       "\n",
       "   truncated                 user       username withheld_in_countries  \n",
       "0      False   965943739809239040   EchoWarszawy                   NaN  \n",
       "1       True   870751323549040640       dodi6319                   NaN  \n",
       "2       True  1025517195223281664  Fiona11701355                   NaN  \n",
       "3      False   811556244892872704      Paul4Anka                   NaN  \n",
       "4      False  1004022955045728256    JanKiebasa3                   NaN  \n",
       "\n",
       "[5 rows x 36 columns]"
      ]
     },
     "execution_count": 52,
     "metadata": {},
     "output_type": "execute_result"
    }
   ],
   "source": [
    "tw = pd.read_pickle('./data/source_data/original_tweets.p')\n",
    "tw.head()"
   ]
  },
  {
   "cell_type": "code",
   "execution_count": 6,
   "metadata": {},
   "outputs": [],
   "source": [
    "twid = 1055013541181353987"
   ]
  },
  {
   "cell_type": "code",
   "execution_count": 7,
   "metadata": {},
   "outputs": [
    {
     "data": {
      "text/plain": [
       "'@elyphend @MikiWrobelek_ a była to kleska? Tusk i takl był przesadzony przy poparciu Makreli, a teraz, gdy nan nim Angole i inni wieszają psy - PL może jasno pokazywać: to nie był kandydat PL, pretensje do DE. A przyszły europarlament będzie radykalnie inny...'"
      ]
     },
     "execution_count": 7,
     "metadata": {},
     "output_type": "execute_result"
    }
   ],
   "source": [
    "tw[tw['id'] == 1055013541181353987].iloc[0].text"
   ]
  },
  {
   "cell_type": "code",
   "execution_count": 8,
   "metadata": {},
   "outputs": [
    {
     "name": "stdout",
     "output_type": "stream",
     "text": [
      "['@', 'elyphend', '@', 'MikiWrobelek', '_', 'a', 'być', 'to', 'kleska', '?', 'Tusk', 'i', 'takl', 'być', 'przesadzić', 'przy', 'poparcie', 'makrela', ',', 'a', 'teraz', ',', 'gdy', 'nan', 'on', 'Angol', 'i', 'inny', 'wieszać', 'pies', '-', 'pl', 'móc', 'jasno', 'pokazywać', ':', 'to', 'nie', 'być', 'kandydat', 'pl', ',', 'pretensja', 'do', 'de', '.', 'a', 'przyjść', 'europarlament', 'być', 'radykalnie', 'inny', '.', '.', '.']\n"
     ]
    },
    {
     "ename": "NameError",
     "evalue": "name 'W2V' is not defined",
     "output_type": "error",
     "traceback": [
      "\u001b[0;31m---------------------------------------------------------------------------\u001b[0m",
      "\u001b[0;31mNameError\u001b[0m                                 Traceback (most recent call last)",
      "\u001b[0;32m<ipython-input-8-cad204e3ee9a>\u001b[0m in \u001b[0;36m<module>\u001b[0;34m()\u001b[0m\n\u001b[1;32m      1\u001b[0m \u001b[0mlemmas\u001b[0m \u001b[0;34m=\u001b[0m \u001b[0mget_wcrft2_results_for_text\u001b[0m\u001b[0;34m(\u001b[0m\u001b[0mtw\u001b[0m\u001b[0;34m[\u001b[0m\u001b[0mtw\u001b[0m\u001b[0;34m[\u001b[0m\u001b[0;34m'id'\u001b[0m\u001b[0;34m]\u001b[0m \u001b[0;34m==\u001b[0m \u001b[0mtwid\u001b[0m\u001b[0;34m]\u001b[0m\u001b[0;34m.\u001b[0m\u001b[0miloc\u001b[0m\u001b[0;34m[\u001b[0m\u001b[0;36m0\u001b[0m\u001b[0;34m]\u001b[0m\u001b[0;34m.\u001b[0m\u001b[0mtext\u001b[0m\u001b[0;34m)\u001b[0m\u001b[0;34m\u001b[0m\u001b[0m\n\u001b[1;32m      2\u001b[0m \u001b[0mprint\u001b[0m\u001b[0;34m(\u001b[0m\u001b[0mlemmas\u001b[0m\u001b[0;34m)\u001b[0m\u001b[0;34m\u001b[0m\u001b[0m\n\u001b[0;32m----> 3\u001b[0;31m \u001b[0memb\u001b[0m \u001b[0;34m=\u001b[0m \u001b[0mget_w2v_tweet_embedding\u001b[0m\u001b[0;34m(\u001b[0m\u001b[0;34m[\u001b[0m\u001b[0;34m'ludzki'\u001b[0m\u001b[0;34m,\u001b[0m \u001b[0;34m'pan'\u001b[0m\u001b[0;34m]\u001b[0m\u001b[0;34m,\u001b[0m \u001b[0mW2V\u001b[0m\u001b[0;34m)\u001b[0m\u001b[0;34m\u001b[0m\u001b[0m\n\u001b[0m",
      "\u001b[0;31mNameError\u001b[0m: name 'W2V' is not defined"
     ]
    }
   ],
   "source": [
    "lemmas = get_wcrft2_results_for_text(tw[tw['id'] == twid].iloc[0].text)\n",
    "print(lemmas)\n",
    "emb = get_w2v_tweet_embedding(['ludzki', 'pan'], W2V)"
   ]
  },
  {
   "cell_type": "code",
   "execution_count": 9,
   "metadata": {},
   "outputs": [],
   "source": [
    "def cosine_similarity(x, y):\n",
    "    similarity = sklearn.metrics.pairwise.cosine_similarity(x, y)\n",
    "    ang_dist = np.arccos(similarity) / np.pi\n",
    "    ang_sim = 1 - ang_dist\n",
    "    return ang_sim"
   ]
  },
  {
   "cell_type": "code",
   "execution_count": 10,
   "metadata": {},
   "outputs": [],
   "source": [
    "\n",
    "def recommend_for_embedding(embedding, hashtags_df, config):\n",
    "    embedding_name = config['embedding_name']\n",
    "    popularity_measure = config['popularity_measure']\n",
    "    popularity_to_similarity_ratio = config['popularity_to_similarity_ratio']\n",
    "    K = config['K']\n",
    "\n",
    "    similarities = cosine_similarity(embedding.reshape(1,-1), \n",
    "                                     np.vstack(hashtags_df[embedding_name])).reshape(-1)\n",
    "    similarities = (similarities - similarities.min()) / (similarities.max() - similarities.min())\n",
    "    \n",
    "    ranks = hashtags_df[popularity_measure].values\n",
    "    ranks = (ranks - ranks.min()) / (ranks.max() - ranks.min())\n",
    "    \n",
    "    similarities_ranks_mix = similarities + (popularity_to_similarity_ratio * ranks)\n",
    "    \n",
    "    topK = similarities_ranks_mix.argsort()[-K:][::-1]\n",
    "    return list(topK)    "
   ]
  },
  {
   "cell_type": "code",
   "execution_count": null,
   "metadata": {},
   "outputs": [],
   "source": []
  },
  {
   "cell_type": "code",
   "execution_count": 486,
   "metadata": {},
   "outputs": [
    {
     "data": {
      "text/plain": [
       "array([1, 2])"
      ]
     },
     "execution_count": 486,
     "metadata": {},
     "output_type": "execute_result"
    }
   ],
   "source": [
    "np.asarray([1,4,3,2]).argsort()[-2:][::-1]"
   ]
  },
  {
   "cell_type": "code",
   "execution_count": 11,
   "metadata": {},
   "outputs": [],
   "source": [
    "def recommend(text, hashtags_df, config):\n",
    "    if config['is_input_embedding']:\n",
    "        embedding = text\n",
    "    else:\n",
    "        w2v_function = config['w2v_function']\n",
    "        lemmas = get_wcrft2_results_for_text(text)\n",
    "        embedding = w2v_function(lemmas)\n",
    "    return recommend_for_embedding(embedding, hashtags_df, config)"
   ]
  },
  {
   "cell_type": "code",
   "execution_count": 7,
   "metadata": {},
   "outputs": [],
   "source": [
    "with open('./data/graphs/train_graph.p','rb') as f:\n",
    "    G = pickle.load(f)"
   ]
  },
  {
   "cell_type": "code",
   "execution_count": 13,
   "metadata": {},
   "outputs": [],
   "source": [
    "gg = 1056697658499313664"
   ]
  },
  {
   "cell_type": "code",
   "execution_count": 14,
   "metadata": {
    "scrolled": true
   },
   "outputs": [
    {
     "data": {
      "text/plain": [
       "contributors                                                              None\n",
       "coordinates                                                               None\n",
       "created_at                                           2018-10-29 00:02:08+00:00\n",
       "display_text_range                                                    [0, 161]\n",
       "favorite_count                                                               1\n",
       "favorited                                                                False\n",
       "filter_level                                                               low\n",
       "geo                                                                       None\n",
       "hashtags                     [{'text': 'bardzozłazmiana', 'indices': [59, 7...\n",
       "id                                                         1056697658499313664\n",
       "id_str                                                     1056697658499313664\n",
       "in_reply_to_screen_name                                                   None\n",
       "in_reply_to_status_id                                                      NaN\n",
       "in_reply_to_status_id_str                                                 None\n",
       "in_reply_to_user_id                                                        NaN\n",
       "in_reply_to_user_id_str                                                   None\n",
       "is_quote_status                                                           True\n",
       "lang                                                                        pl\n",
       "mentions                                                                    []\n",
       "occurence_date                                       2018-10-29 00:20:08+00:00\n",
       "place                                                                     None\n",
       "possibly_sensitive                                                       False\n",
       "quote_count                                                                  0\n",
       "quoted_status_id                                                           NaN\n",
       "quoted_status_id_str                                                       NaN\n",
       "reply_count                                                                  0\n",
       "retweet_count                                                                1\n",
       "retweeted                                                                False\n",
       "scopes                                                                     NaN\n",
       "source                       <a href=\"http://twitter.com\" rel=\"nofollow\">Tw...\n",
       "text                         Wkrótce w Polsce przez zdrajców i nie-Polaków ...\n",
       "timestamp_ms                                                               NaN\n",
       "truncated                                                                 True\n",
       "user                                                        984168471880699904\n",
       "username                                                         1bobo12345678\n",
       "withheld_in_countries                                                      NaN\n",
       "Name: 89, dtype: object"
      ]
     },
     "execution_count": 14,
     "metadata": {},
     "output_type": "execute_result"
    }
   ],
   "source": [
    "tweet = tw[tw['id'] == gg].iloc[0]\n",
    "tweet"
   ]
  },
  {
   "cell_type": "code",
   "execution_count": 15,
   "metadata": {},
   "outputs": [],
   "source": [
    "emb = sk[sk['tweet_id'] == str(gg)].iloc[0]['tweet_embedding']"
   ]
  },
  {
   "cell_type": "code",
   "execution_count": 8,
   "metadata": {},
   "outputs": [
    {
     "data": {
      "text/plain": [
       "13476"
      ]
     },
     "execution_count": 8,
     "metadata": {},
     "output_type": "execute_result"
    }
   ],
   "source": [
    "hashtags = [{'hashtag': node, **G.nodes[node]} for node in G.nodes if G.nodes[node]['node_type'] == 'hashtag']\n",
    "hashtags = pd.DataFrame(hashtags)\n",
    "len(hashtags)"
   ]
  },
  {
   "cell_type": "code",
   "execution_count": 9,
   "metadata": {},
   "outputs": [
    {
     "data": {
      "text/html": [
       "<div>\n",
       "<style scoped>\n",
       "    .dataframe tbody tr th:only-of-type {\n",
       "        vertical-align: middle;\n",
       "    }\n",
       "\n",
       "    .dataframe tbody tr th {\n",
       "        vertical-align: top;\n",
       "    }\n",
       "\n",
       "    .dataframe thead th {\n",
       "        text-align: right;\n",
       "    }\n",
       "</style>\n",
       "<table border=\"1\" class=\"dataframe\">\n",
       "  <thead>\n",
       "    <tr style=\"text-align: right;\">\n",
       "      <th></th>\n",
       "      <th>fasttext</th>\n",
       "      <th>hashtag</th>\n",
       "      <th>mean_retweets</th>\n",
       "      <th>node_type</th>\n",
       "      <th>pagerank</th>\n",
       "      <th>skipgram</th>\n",
       "    </tr>\n",
       "  </thead>\n",
       "  <tbody>\n",
       "    <tr>\n",
       "      <th>0</th>\n",
       "      <td>[0.046705928, 0.03309554, -0.10903065, 0.03073...</td>\n",
       "      <td>Warszawa</td>\n",
       "      <td>2.571078</td>\n",
       "      <td>hashtag</td>\n",
       "      <td>0.014377</td>\n",
       "      <td>[-0.05190280179166349, -0.3211154559358569, -0...</td>\n",
       "    </tr>\n",
       "    <tr>\n",
       "      <th>1</th>\n",
       "      <td>[0.05721787, 0.010905963, -0.0857292, 0.029427...</td>\n",
       "      <td>PiS</td>\n",
       "      <td>5.436228</td>\n",
       "      <td>hashtag</td>\n",
       "      <td>0.018450</td>\n",
       "      <td>[-0.07250170281078769, -0.3559423050221444, -0...</td>\n",
       "    </tr>\n",
       "    <tr>\n",
       "      <th>2</th>\n",
       "      <td>[-0.012052198, 0.08327832, -0.120274894, 0.062...</td>\n",
       "      <td>pogoda</td>\n",
       "      <td>0.051630</td>\n",
       "      <td>hashtag</td>\n",
       "      <td>0.001213</td>\n",
       "      <td>[-0.212486921761243, -0.31912716791471457, -0....</td>\n",
       "    </tr>\n",
       "    <tr>\n",
       "      <th>3</th>\n",
       "      <td>[-0.015956132, 0.08419912, -0.121734515, 0.065...</td>\n",
       "      <td>RPi</td>\n",
       "      <td>0.000000</td>\n",
       "      <td>hashtag</td>\n",
       "      <td>0.001094</td>\n",
       "      <td>[-0.22681104476860967, -0.3198441901375714, -0...</td>\n",
       "    </tr>\n",
       "    <tr>\n",
       "      <th>4</th>\n",
       "      <td>[-0.015956132, 0.08419912, -0.121734515, 0.065...</td>\n",
       "      <td>smolec</td>\n",
       "      <td>0.000000</td>\n",
       "      <td>hashtag</td>\n",
       "      <td>0.001094</td>\n",
       "      <td>[-0.22681104476860967, -0.3198441901375714, -0...</td>\n",
       "    </tr>\n",
       "  </tbody>\n",
       "</table>\n",
       "</div>"
      ],
      "text/plain": [
       "                                            fasttext   hashtag  mean_retweets  \\\n",
       "0  [0.046705928, 0.03309554, -0.10903065, 0.03073...  Warszawa       2.571078   \n",
       "1  [0.05721787, 0.010905963, -0.0857292, 0.029427...       PiS       5.436228   \n",
       "2  [-0.012052198, 0.08327832, -0.120274894, 0.062...    pogoda       0.051630   \n",
       "3  [-0.015956132, 0.08419912, -0.121734515, 0.065...       RPi       0.000000   \n",
       "4  [-0.015956132, 0.08419912, -0.121734515, 0.065...    smolec       0.000000   \n",
       "\n",
       "  node_type  pagerank                                           skipgram  \n",
       "0   hashtag  0.014377  [-0.05190280179166349, -0.3211154559358569, -0...  \n",
       "1   hashtag  0.018450  [-0.07250170281078769, -0.3559423050221444, -0...  \n",
       "2   hashtag  0.001213  [-0.212486921761243, -0.31912716791471457, -0....  \n",
       "3   hashtag  0.001094  [-0.22681104476860967, -0.3198441901375714, -0...  \n",
       "4   hashtag  0.001094  [-0.22681104476860967, -0.3198441901375714, -0...  "
      ]
     },
     "execution_count": 9,
     "metadata": {},
     "output_type": "execute_result"
    }
   ],
   "source": [
    "hashtags.head()"
   ]
  },
  {
   "cell_type": "code",
   "execution_count": 18,
   "metadata": {},
   "outputs": [],
   "source": [
    "skipgrams = np.vstack(hashtags.skipgram)"
   ]
  },
  {
   "cell_type": "code",
   "execution_count": 19,
   "metadata": {},
   "outputs": [],
   "source": [
    "similarities = cosine_similarity(emb.reshape(1,-1), skipgrams).reshape(-1)\n",
    "similarities = (similarities - similarities.min()) / (similarities.max() - similarities.min())\n",
    "ranks = hashtags.mean_retweets.values\n",
    "ranks = hashtags.pagerank.values\n",
    "ranks = (ranks - ranks.min()) / (ranks.max() - ranks.min())"
   ]
  },
  {
   "cell_type": "code",
   "execution_count": 22,
   "metadata": {},
   "outputs": [],
   "source": [
    "topK = recommend_for_embedding(sk[sk['tweet_id'] == str(gg)].iloc[0]['tweet_embedding'], \n",
    "                        hashtags, \n",
    "                        {'K': 100, \n",
    "                         'w2v_function': None,#functools.partial(get_w2v_tweet_embedding, w2v_model=W2V),\n",
    "                         'embedding_name': 'skipgram',\n",
    "                         'popularity_measure': 'mean_retweets',\n",
    "                         'popularity_to_similarity_ratio': 0.4,\n",
    "                         'is_input_embedding': False})"
   ]
  },
  {
   "cell_type": "code",
   "execution_count": 23,
   "metadata": {
    "scrolled": true
   },
   "outputs": [
    {
     "data": {
      "text/plain": [
       "['mówprawę',\n",
       " 'AferyPO',\n",
       " 'DebataWarszawa',\n",
       " 'DebataWarszawaska',\n",
       " 'POLBRA',\n",
       " 'LIDER',\n",
       " 'stopPislmizacjiPolski',\n",
       " 'KOBIETY',\n",
       " 'cofampoparciepis',\n",
       " 'dotrzymujmyslowa',\n",
       " 'PanemEtCircenses',\n",
       " 'Upaina',\n",
       " 'HALO',\n",
       " 'POLSKA',\n",
       " 'odnowa',\n",
       " 'zaczelosie',\n",
       " 'WCzarzasty',\n",
       " 'Vergüenza',\n",
       " 'elecciones',\n",
       " 'targowica',\n",
       " 'PrzekonajSasiada',\n",
       " 'NieDzwońcie',\n",
       " 'NiePISzęSię',\n",
       " 'KomunaCiągleŻywa',\n",
       " 'zdrajcy',\n",
       " 'kropladrazyskałę',\n",
       " 'warszawy',\n",
       " 'miskaryzuPlus',\n",
       " 'dasię',\n",
       " 'ZLODZIEI',\n",
       " 'korkidlatwitterowiczow',\n",
       " 'Hanna',\n",
       " 'Rumbleinthejungle',\n",
       " 'STOP',\n",
       " 'Zwycięzcy',\n",
       " 'CzarniRadom',\n",
       " 'ENEAdodałaenergii',\n",
       " 'CzyścicieleKamienic',\n",
       " 'wyborywKrakowie',\n",
       " 'Noakowskiego16',\n",
       " 'złodzieje',\n",
       " 'PISOSZUKAŁ',\n",
       " 'ZŁAZMIANA',\n",
       " 'ZDRAJCY',\n",
       " 'pisoszukał',\n",
       " 'BurnTheStageMovie',\n",
       " 'bardzozłazmiana',\n",
       " 'KukPisKler',\n",
       " 'STOPSocjalizm',\n",
       " 'pisbolszewickim',\n",
       " 'MuremZaPJK',\n",
       " 'dobrywybor',\n",
       " 'PiSOUT',\n",
       " 'KRAKOW',\n",
       " 'korki',\n",
       " '2złZaWpis',\n",
       " 'Jedziemy',\n",
       " 'PISdeweloperzy',\n",
       " 'PRAWNIK',\n",
       " 'TargowiceNaTablice',\n",
       " 'News',\n",
       " 'Prawi',\n",
       " 'lech',\n",
       " 'moc',\n",
       " 'koniecHGW',\n",
       " 'WygraliśmyWybory',\n",
       " 'PZPRPiS',\n",
       " 'GlosNaPiStoWstyd',\n",
       " 'Wieszwiecej',\n",
       " 'Dobranoc',\n",
       " 'Piskomuna',\n",
       " 'StopGłupota',\n",
       " 'StopAntyPisPropaganda',\n",
       " 'Hermeliński_musi_odejść',\n",
       " 'malinyzUkrainy',\n",
       " 'TenKraj',\n",
       " 'StopSyjonizacjiPolski',\n",
       " 'selfie',\n",
       " 'mitsuro',\n",
       " 'pislamizacja',\n",
       " 'MazurekPrzegrywa',\n",
       " '36implusów',\n",
       " 'SanEscobar',\n",
       " 'dotrzymujemysłowa',\n",
       " 'pisbolszewicki',\n",
       " 'Ziobre',\n",
       " 'PAMIĘĆ',\n",
       " 'WolnaPolska',\n",
       " 'NieDlaChamstwa',\n",
       " 'PiSexit',\n",
       " 'złazmiana',\n",
       " 'DoceniajInnych',\n",
       " 'PolacyMająPotencjał',\n",
       " 'takmidopomozpaniebozewszechmogacy',\n",
       " 'StopFakeNews',\n",
       " 'Biała',\n",
       " 'PiSOut',\n",
       " 'wolny12',\n",
       " 'KOT',\n",
       " 'animalrescue']"
      ]
     },
     "execution_count": 23,
     "metadata": {},
     "output_type": "execute_result"
    }
   ],
   "source": [
    "pred = []\n",
    "for ind in topK:\n",
    "    pred.append(hashtags.iloc[ind].hashtag)\n",
    "pred"
   ]
  },
  {
   "cell_type": "code",
   "execution_count": 24,
   "metadata": {},
   "outputs": [
    {
     "name": "stdout",
     "output_type": "stream",
     "text": [
      "['bardzozłazmiana', 'złazmiana', 'targowica', 'pisoszukał', 'cofampoparciepis', 'dotrzymujemysłowa', 'dobrazmiana']\n"
     ]
    }
   ],
   "source": [
    "real_hashtags = [h['text'] for h in tweet.hashtags]\n",
    "print(real_hashtags)"
   ]
  },
  {
   "cell_type": "code",
   "execution_count": 25,
   "metadata": {},
   "outputs": [
    {
     "data": {
      "text/plain": [
       "{'bardzozłazmiana',\n",
       " 'cofampoparciepis',\n",
       " 'dotrzymujemysłowa',\n",
       " 'pisoszukał',\n",
       " 'targowica',\n",
       " 'złazmiana'}"
      ]
     },
     "execution_count": 25,
     "metadata": {},
     "output_type": "execute_result"
    }
   ],
   "source": [
    "set(real_hashtags).intersection(set(pred))"
   ]
  },
  {
   "cell_type": "code",
   "execution_count": 27,
   "metadata": {},
   "outputs": [],
   "source": [
    "CFG = {'K': 100, \n",
    "       'w2v_function': None, #functools.partial(get_w2v_tweet_embedding, w2v_model=W2V),\n",
    "       'embedding_name': 'skipgram',\n",
    "       'popularity_measure': 'mean_retweets',\n",
    "       'popularity_to_similarity_ratio': 0.4,\n",
    "       'is_input_embedding': True}"
   ]
  },
  {
   "cell_type": "code",
   "execution_count": 28,
   "metadata": {
    "scrolled": true
   },
   "outputs": [
    {
     "data": {
      "text/plain": [
       "['mówprawę',\n",
       " 'AferyPO',\n",
       " 'DebataWarszawa',\n",
       " 'DebataWarszawaska',\n",
       " 'POLBRA',\n",
       " 'LIDER',\n",
       " 'stopPislmizacjiPolski',\n",
       " 'KOBIETY',\n",
       " 'cofampoparciepis',\n",
       " 'dotrzymujmyslowa',\n",
       " 'PanemEtCircenses',\n",
       " 'Upaina',\n",
       " 'HALO',\n",
       " 'POLSKA',\n",
       " 'odnowa',\n",
       " 'zaczelosie',\n",
       " 'WCzarzasty',\n",
       " 'Vergüenza',\n",
       " 'elecciones',\n",
       " 'targowica',\n",
       " 'PrzekonajSasiada',\n",
       " 'NieDzwońcie',\n",
       " 'NiePISzęSię',\n",
       " 'KomunaCiągleŻywa',\n",
       " 'zdrajcy',\n",
       " 'kropladrazyskałę',\n",
       " 'warszawy',\n",
       " 'miskaryzuPlus',\n",
       " 'dasię',\n",
       " 'ZLODZIEI',\n",
       " 'korkidlatwitterowiczow',\n",
       " 'Hanna',\n",
       " 'Rumbleinthejungle',\n",
       " 'STOP',\n",
       " 'Zwycięzcy',\n",
       " 'CzarniRadom',\n",
       " 'ENEAdodałaenergii',\n",
       " 'CzyścicieleKamienic',\n",
       " 'wyborywKrakowie',\n",
       " 'Noakowskiego16',\n",
       " 'złodzieje',\n",
       " 'PISOSZUKAŁ',\n",
       " 'ZŁAZMIANA',\n",
       " 'ZDRAJCY',\n",
       " 'pisoszukał',\n",
       " 'BurnTheStageMovie',\n",
       " 'bardzozłazmiana',\n",
       " 'KukPisKler',\n",
       " 'STOPSocjalizm',\n",
       " 'pisbolszewickim',\n",
       " 'MuremZaPJK',\n",
       " 'dobrywybor',\n",
       " 'PiSOUT',\n",
       " 'KRAKOW',\n",
       " 'korki',\n",
       " '2złZaWpis',\n",
       " 'Jedziemy',\n",
       " 'PISdeweloperzy',\n",
       " 'PRAWNIK',\n",
       " 'TargowiceNaTablice',\n",
       " 'News',\n",
       " 'Prawi',\n",
       " 'lech',\n",
       " 'moc',\n",
       " 'koniecHGW',\n",
       " 'WygraliśmyWybory',\n",
       " 'PZPRPiS',\n",
       " 'GlosNaPiStoWstyd',\n",
       " 'Wieszwiecej',\n",
       " 'Dobranoc',\n",
       " 'Piskomuna',\n",
       " 'StopGłupota',\n",
       " 'StopAntyPisPropaganda',\n",
       " 'Hermeliński_musi_odejść',\n",
       " 'malinyzUkrainy',\n",
       " 'TenKraj',\n",
       " 'StopSyjonizacjiPolski',\n",
       " 'selfie',\n",
       " 'mitsuro',\n",
       " 'pislamizacja',\n",
       " 'MazurekPrzegrywa',\n",
       " '36implusów',\n",
       " 'SanEscobar',\n",
       " 'dotrzymujemysłowa',\n",
       " 'pisbolszewicki',\n",
       " 'Ziobre',\n",
       " 'PAMIĘĆ',\n",
       " 'WolnaPolska',\n",
       " 'NieDlaChamstwa',\n",
       " 'PiSexit',\n",
       " 'złazmiana',\n",
       " 'DoceniajInnych',\n",
       " 'PolacyMająPotencjał',\n",
       " 'takmidopomozpaniebozewszechmogacy',\n",
       " 'StopFakeNews',\n",
       " 'Biała',\n",
       " 'PiSOut',\n",
       " 'wolny12',\n",
       " 'KOT',\n",
       " 'animalrescue']"
      ]
     },
     "execution_count": 28,
     "metadata": {},
     "output_type": "execute_result"
    }
   ],
   "source": [
    "list(hashtags['hashtag'].iloc[recommend_for_embedding(emb, hashtags, CFG)])"
   ]
  },
  {
   "cell_type": "code",
   "execution_count": 29,
   "metadata": {},
   "outputs": [],
   "source": [
    "from tweet_recommendations.recommendation import recommend_for_embedding as rfe\n",
    "from tweet_recommendations.recommendation import recommend_with_config as rwc"
   ]
  },
  {
   "cell_type": "code",
   "execution_count": 32,
   "metadata": {
    "scrolled": true
   },
   "outputs": [
    {
     "data": {
      "text/plain": [
       "['mówprawę',\n",
       " 'AferyPO',\n",
       " 'DebataWarszawa',\n",
       " 'DebataWarszawaska',\n",
       " 'POLBRA',\n",
       " 'LIDER',\n",
       " 'stopPislmizacjiPolski',\n",
       " 'KOBIETY',\n",
       " 'cofampoparciepis',\n",
       " 'dotrzymujmyslowa',\n",
       " 'PanemEtCircenses',\n",
       " 'Upaina',\n",
       " 'HALO',\n",
       " 'POLSKA',\n",
       " 'odnowa',\n",
       " 'zaczelosie',\n",
       " 'WCzarzasty',\n",
       " 'Vergüenza',\n",
       " 'elecciones',\n",
       " 'targowica',\n",
       " 'PrzekonajSasiada',\n",
       " 'NieDzwońcie',\n",
       " 'NiePISzęSię',\n",
       " 'KomunaCiągleŻywa',\n",
       " 'zdrajcy',\n",
       " 'kropladrazyskałę',\n",
       " 'warszawy',\n",
       " 'miskaryzuPlus',\n",
       " 'dasię',\n",
       " 'ZLODZIEI',\n",
       " 'korkidlatwitterowiczow',\n",
       " 'Hanna',\n",
       " 'Rumbleinthejungle',\n",
       " 'STOP',\n",
       " 'Zwycięzcy',\n",
       " 'CzarniRadom',\n",
       " 'ENEAdodałaenergii',\n",
       " 'CzyścicieleKamienic',\n",
       " 'wyborywKrakowie',\n",
       " 'Noakowskiego16',\n",
       " 'złodzieje',\n",
       " 'PISOSZUKAŁ',\n",
       " 'ZŁAZMIANA',\n",
       " 'ZDRAJCY',\n",
       " 'pisoszukał',\n",
       " 'BurnTheStageMovie',\n",
       " 'bardzozłazmiana',\n",
       " 'KukPisKler',\n",
       " 'STOPSocjalizm',\n",
       " 'pisbolszewickim',\n",
       " 'MuremZaPJK',\n",
       " 'dobrywybor',\n",
       " 'PiSOUT',\n",
       " 'KRAKOW',\n",
       " 'korki',\n",
       " '2złZaWpis',\n",
       " 'Jedziemy',\n",
       " 'PISdeweloperzy',\n",
       " 'PRAWNIK',\n",
       " 'TargowiceNaTablice',\n",
       " 'News',\n",
       " 'Prawi',\n",
       " 'lech',\n",
       " 'moc',\n",
       " 'koniecHGW',\n",
       " 'WygraliśmyWybory',\n",
       " 'PZPRPiS',\n",
       " 'GlosNaPiStoWstyd',\n",
       " 'Wieszwiecej',\n",
       " 'Dobranoc',\n",
       " 'Piskomuna',\n",
       " 'StopGłupota',\n",
       " 'StopAntyPisPropaganda',\n",
       " 'Hermeliński_musi_odejść',\n",
       " 'malinyzUkrainy',\n",
       " 'TenKraj',\n",
       " 'StopSyjonizacjiPolski',\n",
       " 'selfie',\n",
       " 'mitsuro',\n",
       " 'pislamizacja',\n",
       " 'MazurekPrzegrywa',\n",
       " '36implusów',\n",
       " 'SanEscobar',\n",
       " 'dotrzymujemysłowa',\n",
       " 'pisbolszewicki',\n",
       " 'Ziobre',\n",
       " 'PAMIĘĆ',\n",
       " 'WolnaPolska',\n",
       " 'NieDlaChamstwa',\n",
       " 'PiSexit',\n",
       " 'złazmiana',\n",
       " 'DoceniajInnych',\n",
       " 'PolacyMająPotencjał',\n",
       " 'takmidopomozpaniebozewszechmogacy',\n",
       " 'StopFakeNews',\n",
       " 'Biała',\n",
       " 'PiSOut',\n",
       " 'wolny12',\n",
       " 'KOT',\n",
       " 'animalrescue']"
      ]
     },
     "execution_count": 32,
     "metadata": {},
     "output_type": "execute_result"
    }
   ],
   "source": [
    "rfe(emb, hashtags, CFG)"
   ]
  },
  {
   "cell_type": "code",
   "execution_count": 36,
   "metadata": {
    "scrolled": true
   },
   "outputs": [
    {
     "data": {
      "text/plain": [
       "['mówprawę',\n",
       " 'AferyPO',\n",
       " 'DebataWarszawa',\n",
       " 'DebataWarszawaska',\n",
       " 'POLBRA',\n",
       " 'LIDER',\n",
       " 'stopPislmizacjiPolski',\n",
       " 'KOBIETY',\n",
       " 'cofampoparciepis',\n",
       " 'dotrzymujmyslowa',\n",
       " 'PanemEtCircenses',\n",
       " 'Upaina',\n",
       " 'HALO',\n",
       " 'POLSKA',\n",
       " 'odnowa',\n",
       " 'zaczelosie',\n",
       " 'WCzarzasty',\n",
       " 'Vergüenza',\n",
       " 'elecciones',\n",
       " 'targowica',\n",
       " 'PrzekonajSasiada',\n",
       " 'NieDzwońcie',\n",
       " 'NiePISzęSię',\n",
       " 'KomunaCiągleŻywa',\n",
       " 'zdrajcy',\n",
       " 'kropladrazyskałę',\n",
       " 'warszawy',\n",
       " 'miskaryzuPlus',\n",
       " 'dasię',\n",
       " 'ZLODZIEI',\n",
       " 'korkidlatwitterowiczow',\n",
       " 'Hanna',\n",
       " 'Rumbleinthejungle',\n",
       " 'STOP',\n",
       " 'Zwycięzcy',\n",
       " 'CzarniRadom',\n",
       " 'ENEAdodałaenergii',\n",
       " 'CzyścicieleKamienic',\n",
       " 'wyborywKrakowie',\n",
       " 'Noakowskiego16',\n",
       " 'złodzieje',\n",
       " 'PISOSZUKAŁ',\n",
       " 'ZŁAZMIANA',\n",
       " 'ZDRAJCY',\n",
       " 'pisoszukał',\n",
       " 'BurnTheStageMovie',\n",
       " 'bardzozłazmiana',\n",
       " 'KukPisKler',\n",
       " 'STOPSocjalizm',\n",
       " 'pisbolszewickim',\n",
       " 'MuremZaPJK',\n",
       " 'dobrywybor',\n",
       " 'PiSOUT',\n",
       " 'KRAKOW',\n",
       " 'korki',\n",
       " '2złZaWpis',\n",
       " 'Jedziemy',\n",
       " 'PISdeweloperzy',\n",
       " 'PRAWNIK',\n",
       " 'TargowiceNaTablice',\n",
       " 'News',\n",
       " 'Prawi',\n",
       " 'lech',\n",
       " 'moc',\n",
       " 'koniecHGW',\n",
       " 'WygraliśmyWybory',\n",
       " 'PZPRPiS',\n",
       " 'GlosNaPiStoWstyd',\n",
       " 'Wieszwiecej',\n",
       " 'Dobranoc',\n",
       " 'Piskomuna',\n",
       " 'StopGłupota',\n",
       " 'StopAntyPisPropaganda',\n",
       " 'Hermeliński_musi_odejść',\n",
       " 'malinyzUkrainy',\n",
       " 'TenKraj',\n",
       " 'StopSyjonizacjiPolski',\n",
       " 'selfie',\n",
       " 'mitsuro',\n",
       " 'pislamizacja',\n",
       " 'MazurekPrzegrywa',\n",
       " '36implusów',\n",
       " 'SanEscobar',\n",
       " 'dotrzymujemysłowa',\n",
       " 'pisbolszewicki',\n",
       " 'Ziobre',\n",
       " 'PAMIĘĆ',\n",
       " 'WolnaPolska',\n",
       " 'NieDlaChamstwa',\n",
       " 'PiSexit',\n",
       " 'złazmiana',\n",
       " 'DoceniajInnych',\n",
       " 'PolacyMająPotencjał',\n",
       " 'takmidopomozpaniebozewszechmogacy',\n",
       " 'StopFakeNews',\n",
       " 'Biała',\n",
       " 'PiSOut',\n",
       " 'wolny12',\n",
       " 'KOT',\n",
       " 'animalrescue']"
      ]
     },
     "execution_count": 36,
     "metadata": {},
     "output_type": "execute_result"
    }
   ],
   "source": [
    "rwc(emb, hashtags, CFG)"
   ]
  },
  {
   "cell_type": "code",
   "execution_count": 35,
   "metadata": {},
   "outputs": [
    {
     "data": {
      "text/plain": [
       "True"
      ]
     },
     "execution_count": 35,
     "metadata": {},
     "output_type": "execute_result"
    }
   ],
   "source": [
    "rwc(emb, hashtags, CFG) == rfe(emb, hashtags, CFG)"
   ]
  },
  {
   "cell_type": "code",
   "execution_count": 5,
   "metadata": {},
   "outputs": [],
   "source": [
    "from tweet_recommendations.recommendation import recommend_with_config"
   ]
  },
  {
   "cell_type": "code",
   "execution_count": 147,
   "metadata": {},
   "outputs": [],
   "source": [
    "config = {'K': 10,\n",
    "          'w2v_function': functools.partial(get_w2v_tweet_embedding,\n",
    "                                            w2v_model=W2V),\n",
    "          'embedding_name': 'skipgram',\n",
    "          'popularity_measure': 'pagerank',\n",
    "          'popularity_to_similarity_ratio': 0.1,\n",
    "          'is_input_embedding': False}"
   ]
  },
  {
   "cell_type": "code",
   "execution_count": 148,
   "metadata": {},
   "outputs": [
    {
     "data": {
      "text/plain": [
       "['obiecankicacanki',\n",
       " 'GaleriaBankowa',\n",
       " 'samochodowe',\n",
       " 'kredyty',\n",
       " 'szybkileasing',\n",
       " 'lubuskie',\n",
       " 'tramwaje',\n",
       " 'Peugeot',\n",
       " 'DW580',\n",
       " 'show']"
      ]
     },
     "execution_count": 148,
     "metadata": {},
     "output_type": "execute_result"
    }
   ],
   "source": [
    "recommend_with_config('Sprzedam Opla.', hashtags, config)"
   ]
  },
  {
   "cell_type": "code",
   "execution_count": 38,
   "metadata": {},
   "outputs": [
    {
     "data": {
      "text/plain": [
       "['nigdywięcejj',\n",
       " 'WybierzmyPrzyszlosc',\n",
       " 'weszłofm',\n",
       " 'Najsztub',\n",
       " 'WinaPiS',\n",
       " 'ciechanowianie',\n",
       " 'zacisze',\n",
       " 'ZabraćMałpieBrzytwę',\n",
       " 'idziemy',\n",
       " 'idę']"
      ]
     },
     "execution_count": 38,
     "metadata": {},
     "output_type": "execute_result"
    }
   ],
   "source": [
    "recommend_with_config('Wiozę szwagra na wybory.', hashtags, config)"
   ]
  },
  {
   "cell_type": "code",
   "execution_count": 24,
   "metadata": {},
   "outputs": [
    {
     "data": {
      "text/plain": [
       "Index(['fasttext', 'hashtag', 'mean_retweets', 'node_type', 'pagerank',\n",
       "       'skipgram'],\n",
       "      dtype='object')"
      ]
     },
     "execution_count": 24,
     "metadata": {},
     "output_type": "execute_result"
    }
   ],
   "source": [
    "hashtags.columns"
   ]
  },
  {
   "cell_type": "code",
   "execution_count": 51,
   "metadata": {},
   "outputs": [
    {
     "data": {
      "text/plain": [
       "True"
      ]
     },
     "execution_count": 51,
     "metadata": {},
     "output_type": "execute_result"
    }
   ],
   "source": [
    "'wiozęszwagranawybory' in hashtags.hashtag.str.lower().values"
   ]
  },
  {
   "cell_type": "code",
   "execution_count": 48,
   "metadata": {},
   "outputs": [
    {
     "data": {
      "text/html": [
       "<div>\n",
       "<style scoped>\n",
       "    .dataframe tbody tr th:only-of-type {\n",
       "        vertical-align: middle;\n",
       "    }\n",
       "\n",
       "    .dataframe tbody tr th {\n",
       "        vertical-align: top;\n",
       "    }\n",
       "\n",
       "    .dataframe thead th {\n",
       "        text-align: right;\n",
       "    }\n",
       "</style>\n",
       "<table border=\"1\" class=\"dataframe\">\n",
       "  <thead>\n",
       "    <tr style=\"text-align: right;\">\n",
       "      <th></th>\n",
       "      <th>fasttext</th>\n",
       "      <th>hashtag</th>\n",
       "      <th>mean_retweets</th>\n",
       "      <th>node_type</th>\n",
       "      <th>pagerank</th>\n",
       "      <th>skipgram</th>\n",
       "    </tr>\n",
       "  </thead>\n",
       "  <tbody>\n",
       "    <tr>\n",
       "      <th>12700</th>\n",
       "      <td>[0.039843366, -0.02861123, -0.07706344, 0.0178...</td>\n",
       "      <td>WiozęSzwagraNaWybory</td>\n",
       "      <td>0.0</td>\n",
       "      <td>hashtag</td>\n",
       "      <td>0.000008</td>\n",
       "      <td>[-0.10240892391108597, -0.24285199716687203, 0...</td>\n",
       "    </tr>\n",
       "  </tbody>\n",
       "</table>\n",
       "</div>"
      ],
      "text/plain": [
       "                                                fasttext  \\\n",
       "12700  [0.039843366, -0.02861123, -0.07706344, 0.0178...   \n",
       "\n",
       "                    hashtag  mean_retweets node_type  pagerank  \\\n",
       "12700  WiozęSzwagraNaWybory            0.0   hashtag  0.000008   \n",
       "\n",
       "                                                skipgram  \n",
       "12700  [-0.10240892391108597, -0.24285199716687203, 0...  "
      ]
     },
     "execution_count": 48,
     "metadata": {},
     "output_type": "execute_result"
    }
   ],
   "source": [
    "hashtags[hashtags.hashtag.str.lower().apply(lambda x: 'wiozęszwagranawybory' in x)]"
   ]
  },
  {
   "cell_type": "code",
   "execution_count": 87,
   "metadata": {},
   "outputs": [
    {
     "name": "stdout",
     "output_type": "stream",
     "text": [
      "@jowitawiatrak 1. Msza Św. na 10\n",
      "2. Śniadanie z rodziną\n",
      "3. #IdziemyNaWybory \n",
      "4. #WiozęSzwagraNaWybory\n",
      "5. Cała masa miłych zdarzeń 😉\n",
      "6. Wieczorem wspólne świętowanie zwycięstwa @pisorgpl w #wybory2018 🇵🇱💯\n"
     ]
    }
   ],
   "source": [
    "szwagier = tw[tw.hashtags.apply(lambda htgs: any(x['text'].lower() == 'wiozęszwagranawybory' for x in htgs))].iloc[0]\n",
    "tx = szwagier.text\n",
    "print(tx)"
   ]
  },
  {
   "cell_type": "code",
   "execution_count": 88,
   "metadata": {},
   "outputs": [
    {
     "data": {
      "text/plain": [
       "0"
      ]
     },
     "execution_count": 88,
     "metadata": {},
     "output_type": "execute_result"
    }
   ],
   "source": [
    "szwagier.retweet_count"
   ]
  },
  {
   "cell_type": "code",
   "execution_count": 91,
   "metadata": {},
   "outputs": [
    {
     "name": "stdout",
     "output_type": "stream",
     "text": [
      "Key 'jowitawiatrak' not found in w2v dict\n",
      "Key 'IdziemyNaWybory' not found in w2v dict\n",
      "Key 'WiozęSzwagraNaWybory' not found in w2v dict\n",
      "Key 'pisorgpl' not found in w2v dict\n"
     ]
    },
    {
     "data": {
      "text/plain": [
       "['WiozęSzwagraNaWybory',\n",
       " 'KantarPublic',\n",
       " 'PurpleARMYDay',\n",
       " 'goONICO',\n",
       " 'Wrocław',\n",
       " 'hessenwahl2018',\n",
       " 'AmbitnaWarszawa',\n",
       " 'wyboryolsztyn18',\n",
       " 'okw',\n",
       " 'JednaPartia']"
      ]
     },
     "execution_count": 91,
     "metadata": {},
     "output_type": "execute_result"
    }
   ],
   "source": [
    "recommend_with_config(tx, hashtags, {'K': 10,\n",
    "                              'w2v_function': functools.partial(get_w2v_tweet_embedding,\n",
    "                                            w2v_model=W2V),\n",
    "                              'embedding_name': 'skipgram',\n",
    "                              'popularity_measure': 'pagerank',\n",
    "                              'popularity_to_similarity_ratio': 0.0,\n",
    "                              'is_input_embedding': False})"
   ]
  },
  {
   "cell_type": "code",
   "execution_count": 101,
   "metadata": {},
   "outputs": [
    {
     "name": "stdout",
     "output_type": "stream",
     "text": [
      "Key 'jowitawiatrak' not found in w2v dict\n",
      "Key 'IdziemyNaWybory' not found in w2v dict\n",
      "Key 'WiozęSzwagraNaWybory' not found in w2v dict\n",
      "Key 'pisorgpl' not found in w2v dict\n"
     ]
    },
    {
     "data": {
      "text/plain": [
       "['wyborysamorzadowe2018',\n",
       " 'wybory2018',\n",
       " 'Warszawa',\n",
       " 'PiS',\n",
       " 'wyborysamorządowe2018',\n",
       " 'Wrocław',\n",
       " 'KoalicjaObywatelska',\n",
       " 'Wybory2018',\n",
       " 'warszawa',\n",
       " 'wyborysamorzadowe']"
      ]
     },
     "execution_count": 101,
     "metadata": {},
     "output_type": "execute_result"
    }
   ],
   "source": [
    "recommend_with_config(tx, hashtags, \n",
    "                      config={'K': 10,\n",
    "                              'w2v_function': functools.partial(get_w2v_tweet_embedding,\n",
    "                                            w2v_model=W2V),\n",
    "                              'embedding_name': 'skipgram',\n",
    "                              'popularity_measure': 'pagerank',\n",
    "                              'popularity_to_similarity_ratio': 0.5,\n",
    "                              'is_input_embedding': False})"
   ]
  },
  {
   "cell_type": "code",
   "execution_count": 115,
   "metadata": {},
   "outputs": [
    {
     "data": {
      "image/png": "[encoded data removed]",
      "text/plain": [
       "<Figure size 432x288 with 1 Axes>"
      ]
     },
     "metadata": {},
     "output_type": "display_data"
    }
   ],
   "source": [
    "import matplotlib.pyplot as plt\n",
    "np.log1p(hashtags.mean_retweets).hist(bins=10)\n",
    "plt.show()"
   ]
  },
  {
   "cell_type": "code",
   "execution_count": 155,
   "metadata": {},
   "outputs": [
    {
     "data": {
      "text/plain": [
       "['RobertKrupowicz',\n",
       " 'Cheł',\n",
       " 'Oława',\n",
       " 'wójtów',\n",
       " 'Skorzewo',\n",
       " 'Swierczow',\n",
       " 'Zebowice',\n",
       " 'Pawlowiczki',\n",
       " 'JulianKruszynski',\n",
       " 'NoweWarpno']"
      ]
     },
     "execution_count": 155,
     "metadata": {},
     "output_type": "execute_result"
    }
   ],
   "source": [
    "recommend_with_config('Namysłów', hashtags, \n",
    "                      config={'K': 10,\n",
    "                              'w2v_function': functools.partial(get_w2v_tweet_embedding,\n",
    "                                            w2v_model=W2V),\n",
    "                              'embedding_name': 'skipgram',\n",
    "                              'popularity_measure': 'mean_retweets',\n",
    "                              'popularity_to_similarity_ratio': 0.1,\n",
    "                              'is_input_embedding': False})"
   ]
  },
  {
   "cell_type": "code",
   "execution_count": null,
   "metadata": {},
   "outputs": [],
   "source": []
  }
 ],
 "metadata": {
  "kernelspec": {
   "display_name": "Python 3",
   "language": "python",
   "name": "python3"
  },
  "language_info": {
   "codemirror_mode": {
    "name": "ipython",
    "version": 3
   },
   "file_extension": ".py",
   "mimetype": "text/x-python",
   "name": "python",
   "nbconvert_exporter": "python",
   "pygments_lexer": "ipython3",
   "version": "3.6.5"
  },
  "toc": {
   "base_numbering": 1,
   "nav_menu": {},
   "number_sections": false,
   "sideBar": false,
   "skip_h1_title": false,
   "title_cell": "Table of Contents",
   "title_sidebar": "Contents",
   "toc_cell": false,
   "toc_position": {},
   "toc_section_display": false,
   "toc_window_display": false
  }
 },
 "nbformat": 4,
 "nbformat_minor": 2
}
