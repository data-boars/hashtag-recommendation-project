{
 "cells": [
  {
   "cell_type": "code",
   "execution_count": 1,
   "metadata": {},
   "outputs": [],
   "source": [
    "import os\n",
    "os.chdir('..')"
   ]
  },
  {
   "cell_type": "code",
   "execution_count": 2,
   "metadata": {},
   "outputs": [],
   "source": [
    "import pandas as pd\n",
    "import numpy as np\n",
    "import pickle\n",
    "from functools import partial\n",
    "import tqdm\n",
    "\n",
    "from tweet_recommendations.data_processing.data_loader import convert_hashtags_dicts_to_list\n",
    "from tweet_recommendations.data_processing.split_train_test import split_by_user\n",
    "from tweet_recommendations.graphs.graph_builder import (build_base_tweets_graph, \n",
    "                                                        add_tweet_embeddings_to_graph, \n",
    "                                                        calculate_hashtag_embeddings, \n",
    "                                                        calculate_edge_weights, \n",
    "                                                        calculate_pagerank, \n",
    "                                                        calculate_hashtag_popularity_mean_retweets_heuristic)"
   ]
  },
  {
   "cell_type": "markdown",
   "metadata": {},
   "source": [
    "# Tweets"
   ]
  },
  {
   "cell_type": "code",
   "execution_count": 3,
   "metadata": {},
   "outputs": [],
   "source": [
    "tweets_df = pd.read_pickle('./data/source_data/original_tweets.p')\n",
    "tweets_df = tweets_df[tweets_df['hashtags'].str.len()>0]\n",
    "tweets_df = convert_hashtags_dicts_to_list(tweets_df)"
   ]
  },
  {
   "cell_type": "markdown",
   "metadata": {},
   "source": [
    "# Fasttext embeddings"
   ]
  },
  {
   "cell_type": "code",
   "execution_count": 4,
   "metadata": {},
   "outputs": [
    {
     "data": {
      "text/html": [
       "<div>\n",
       "<style scoped>\n",
       "    .dataframe tbody tr th:only-of-type {\n",
       "        vertical-align: middle;\n",
       "    }\n",
       "\n",
       "    .dataframe tbody tr th {\n",
       "        vertical-align: top;\n",
       "    }\n",
       "\n",
       "    .dataframe thead th {\n",
       "        text-align: right;\n",
       "    }\n",
       "</style>\n",
       "<table border=\"1\" class=\"dataframe\">\n",
       "  <thead>\n",
       "    <tr style=\"text-align: right;\">\n",
       "      <th></th>\n",
       "      <th>id</th>\n",
       "      <th>embedding</th>\n",
       "    </tr>\n",
       "  </thead>\n",
       "  <tbody>\n",
       "    <tr>\n",
       "      <th>0</th>\n",
       "      <td>1055013541181353987</td>\n",
       "      <td>[0.066088036, 0.06916399, -0.08772982, 0.02842...</td>\n",
       "    </tr>\n",
       "    <tr>\n",
       "      <th>1</th>\n",
       "      <td>1052688633918963713</td>\n",
       "      <td>[0.042748816, 0.018327478, -0.026713202, 0.038...</td>\n",
       "    </tr>\n",
       "    <tr>\n",
       "      <th>2</th>\n",
       "      <td>1054102180486172673</td>\n",
       "      <td>[0.04925826, 0.12695895, -0.08234913, 0.047574...</td>\n",
       "    </tr>\n",
       "    <tr>\n",
       "      <th>3</th>\n",
       "      <td>1051723165829918720</td>\n",
       "      <td>[0.07929088, 0.052764755, -0.102878, 0.0189335...</td>\n",
       "    </tr>\n",
       "    <tr>\n",
       "      <th>4</th>\n",
       "      <td>1034736277084688384</td>\n",
       "      <td>[0.05510524, 0.07667969, -0.09653922, 0.048123...</td>\n",
       "    </tr>\n",
       "  </tbody>\n",
       "</table>\n",
       "</div>"
      ],
      "text/plain": [
       "                    id                                          embedding\n",
       "0  1055013541181353987  [0.066088036, 0.06916399, -0.08772982, 0.02842...\n",
       "1  1052688633918963713  [0.042748816, 0.018327478, -0.026713202, 0.038...\n",
       "2  1054102180486172673  [0.04925826, 0.12695895, -0.08234913, 0.047574...\n",
       "3  1051723165829918720  [0.07929088, 0.052764755, -0.102878, 0.0189335...\n",
       "4  1034736277084688384  [0.05510524, 0.07667969, -0.09653922, 0.048123..."
      ]
     },
     "execution_count": 4,
     "metadata": {},
     "output_type": "execute_result"
    }
   ],
   "source": [
    "fasttext_df = pd.read_pickle('./data/embeddings/fasttext_embeddings.pkl')\n",
    "fasttext_df = fasttext_df.rename({'tweet_id': 'id', 'embeddings': 'embedding'}, axis='columns')\n",
    "fasttext_df['id'] = fasttext_df['id'].astype(np.int64)\n",
    "fasttext_df.head(5)"
   ]
  },
  {
   "cell_type": "markdown",
   "metadata": {},
   "source": [
    "# Skipgram embeddings"
   ]
  },
  {
   "cell_type": "code",
   "execution_count": 5,
   "metadata": {},
   "outputs": [
    {
     "data": {
      "text/html": [
       "<div>\n",
       "<style scoped>\n",
       "    .dataframe tbody tr th:only-of-type {\n",
       "        vertical-align: middle;\n",
       "    }\n",
       "\n",
       "    .dataframe tbody tr th {\n",
       "        vertical-align: top;\n",
       "    }\n",
       "\n",
       "    .dataframe thead th {\n",
       "        text-align: right;\n",
       "    }\n",
       "</style>\n",
       "<table border=\"1\" class=\"dataframe\">\n",
       "  <thead>\n",
       "    <tr style=\"text-align: right;\">\n",
       "      <th></th>\n",
       "      <th>id</th>\n",
       "      <th>embedding</th>\n",
       "    </tr>\n",
       "  </thead>\n",
       "  <tbody>\n",
       "    <tr>\n",
       "      <th>0</th>\n",
       "      <td>1055013541181353987</td>\n",
       "      <td>[-0.02563778146635741, -0.43154129571281374, -...</td>\n",
       "    </tr>\n",
       "    <tr>\n",
       "      <th>1</th>\n",
       "      <td>1052688633918963713</td>\n",
       "      <td>[-0.06042357006420692, -0.36830542680053485, 0...</td>\n",
       "    </tr>\n",
       "    <tr>\n",
       "      <th>2</th>\n",
       "      <td>1054102180486172673</td>\n",
       "      <td>[-0.18836596173544726, -0.36910818586194954, -...</td>\n",
       "    </tr>\n",
       "    <tr>\n",
       "      <th>3</th>\n",
       "      <td>1051723165829918720</td>\n",
       "      <td>[-0.07193121433790241, -0.3486243937430637, -0...</td>\n",
       "    </tr>\n",
       "    <tr>\n",
       "      <th>4</th>\n",
       "      <td>1034736277084688384</td>\n",
       "      <td>[-0.21816051351587948, -0.3266038287703584, 0....</td>\n",
       "    </tr>\n",
       "  </tbody>\n",
       "</table>\n",
       "</div>"
      ],
      "text/plain": [
       "                    id                                          embedding\n",
       "0  1055013541181353987  [-0.02563778146635741, -0.43154129571281374, -...\n",
       "1  1052688633918963713  [-0.06042357006420692, -0.36830542680053485, 0...\n",
       "2  1054102180486172673  [-0.18836596173544726, -0.36910818586194954, -...\n",
       "3  1051723165829918720  [-0.07193121433790241, -0.3486243937430637, -0...\n",
       "4  1034736277084688384  [-0.21816051351587948, -0.3266038287703584, 0...."
      ]
     },
     "execution_count": 5,
     "metadata": {},
     "output_type": "execute_result"
    }
   ],
   "source": [
    "skipgram_df = pd.read_pickle('./data/embeddings/skipgram_embeddings.pkl')\n",
    "skipgram_df = skipgram_df.rename({'tweet_id': 'id', 'tweet_embedding': 'embedding'}, axis='columns')\n",
    "skipgram_df['id'] = skipgram_df['id'].astype(np.int64)\n",
    "skipgram_df.head(5)"
   ]
  },
  {
   "cell_type": "markdown",
   "metadata": {},
   "source": [
    "# Filter Tweets\n",
    "Leave only tweets with embeddings"
   ]
  },
  {
   "cell_type": "code",
   "execution_count": 6,
   "metadata": {},
   "outputs": [],
   "source": [
    "skip_ok = tweets_df['id'].isin(skipgram_df['id']) \n",
    "fast_ok = tweets_df['id'].isin(fasttext_df['id']) \n",
    "tweets_df = tweets_df[skip_ok & fast_ok]"
   ]
  },
  {
   "cell_type": "markdown",
   "metadata": {},
   "source": [
    "# Split train/val/test"
   ]
  },
  {
   "cell_type": "code",
   "execution_count": 7,
   "metadata": {},
   "outputs": [
    {
     "name": "stdout",
     "output_type": "stream",
     "text": [
      "Reading Train/Val/Test from disk.\n"
     ]
    }
   ],
   "source": [
    "ls = os.listdir('./data/processed/')\n",
    "if ('train_tweets.pkl' in ls \n",
    "    and 'val_tweets.pkl' in ls \n",
    "    and 'test_tweets.pkl' in ls):\n",
    "    print(\"Reading Train/Val/Test from disk.\")\n",
    "    train_tweets = pd.read_pickle('./data/processed/train_tweets.pkl')\n",
    "    val_tweets = pd.read_pickle('./data/processed/val_tweets.pkl')\n",
    "    test_tweets = pd.read_pickle('./data/processed/test_tweets.pkl')\n",
    "else:\n",
    "    print(\"Creating new Train/Val/Test.\")\n",
    "    splitted_tweets = split_by_user(tweets_df)\n",
    "    train_tweets = splitted_tweets['train']\n",
    "    val_tweets = splitted_tweets['val']\n",
    "    test_tweets = splitted_tweets['test']\n",
    "    train_tweets.to_pickle('./data/processed/train_tweets.pkl')\n",
    "    val_tweets.to_pickle('./data/processed/val_tweets.pkl')\n",
    "    test_tweets.to_pickle('./data/processed/test_tweets.pkl')"
   ]
  },
  {
   "cell_type": "markdown",
   "metadata": {},
   "source": [
    "# Build Graph"
   ]
  },
  {
   "cell_type": "code",
   "execution_count": 8,
   "metadata": {},
   "outputs": [],
   "source": [
    "def build_graph(tweets_df, skipgram_df, fasttext_df):\n",
    "    g = build_base_tweets_graph(tweets_df, partial(tqdm.tqdm_notebook, desc='Base graph'))\n",
    "    g = add_tweet_embeddings_to_graph(g, fasttext_df, 'fasttext')\n",
    "    g = calculate_hashtag_embeddings(g, 'fasttext', partial(tqdm.tqdm_notebook, desc='Fasttext # embed.'))\n",
    "    g = add_tweet_embeddings_to_graph(g, skipgram_df, 'skipgram')\n",
    "    g = calculate_hashtag_embeddings(g, 'skipgram', partial(tqdm.tqdm_notebook, desc='Skipgram # embed.'))\n",
    "    g = calculate_edge_weights(g, 'fasttext', 'fasttext_distance', 'fasttext_similarity',\n",
    "                               partial(tqdm.tqdm_notebook, desc='Fasttext weights'))\n",
    "    g = calculate_edge_weights(g, 'skipgram', 'skipgram_distance', 'skipgram_similarity',\n",
    "                               partial(tqdm.tqdm_notebook, desc='Skipgram weights'))\n",
    "    g = calculate_pagerank(g)\n",
    "    g = calculate_hashtag_popularity_mean_retweets_heuristic(g, partial(tqdm.tqdm_notebook, desc='# popularity'))\n",
    "    return g"
   ]
  },
  {
   "cell_type": "code",
   "execution_count": 9,
   "metadata": {},
   "outputs": [
    {
     "data": {
      "application/vnd.jupyter.widget-view+json": {
       "model_id": "191bf987d6e8455db39d1f6fb40dceb6",
       "version_major": 2,
       "version_minor": 0
      },
      "text/plain": [
       "HBox(children=(IntProgress(value=0, description='Base graph', max=36189, style=ProgressStyle(description_width…"
      ]
     },
     "metadata": {},
     "output_type": "display_data"
    },
    {
     "name": "stdout",
     "output_type": "stream",
     "text": [
      "\n"
     ]
    },
    {
     "data": {
      "application/vnd.jupyter.widget-view+json": {
       "model_id": "a3016a8d25c748c39ddd55a291a7e4bd",
       "version_major": 2,
       "version_minor": 0
      },
      "text/plain": [
       "HBox(children=(IntProgress(value=0, description='Fasttext # embed.', max=49665, style=ProgressStyle(descriptio…"
      ]
     },
     "metadata": {},
     "output_type": "display_data"
    },
    {
     "name": "stdout",
     "output_type": "stream",
     "text": [
      "\n"
     ]
    },
    {
     "data": {
      "application/vnd.jupyter.widget-view+json": {
       "model_id": "4609833874064bb8977dd74516201830",
       "version_major": 2,
       "version_minor": 0
      },
      "text/plain": [
       "HBox(children=(IntProgress(value=0, description='Skipgram # embed.', max=49665, style=ProgressStyle(descriptio…"
      ]
     },
     "metadata": {},
     "output_type": "display_data"
    },
    {
     "name": "stdout",
     "output_type": "stream",
     "text": [
      "\n"
     ]
    },
    {
     "data": {
      "application/vnd.jupyter.widget-view+json": {
       "model_id": "24a9bf636e5644e68ab7708f32201f53",
       "version_major": 2,
       "version_minor": 0
      },
      "text/plain": [
       "HBox(children=(IntProgress(value=0, description='Fasttext weights', max=82111, style=ProgressStyle(description…"
      ]
     },
     "metadata": {},
     "output_type": "display_data"
    },
    {
     "name": "stderr",
     "output_type": "stream",
     "text": [
      "/home/mkosturek/pwr/masters/sem2/social_media/project/tweet_recommendations/graphs/graph_builder.py:82: RuntimeWarning: invalid value encountered in arccos\n",
      "  ang_dist = np.arccos(similarity) / np.pi\n"
     ]
    },
    {
     "name": "stdout",
     "output_type": "stream",
     "text": [
      "\n"
     ]
    },
    {
     "data": {
      "application/vnd.jupyter.widget-view+json": {
       "model_id": "69194e1d96c34eb099e3ba23e85b1433",
       "version_major": 2,
       "version_minor": 0
      },
      "text/plain": [
       "HBox(children=(IntProgress(value=0, description='Skipgram weights', max=82111, style=ProgressStyle(description…"
      ]
     },
     "metadata": {},
     "output_type": "display_data"
    },
    {
     "name": "stderr",
     "output_type": "stream",
     "text": [
      "/home/mkosturek/anaconda3/lib/python3.6/site-packages/scipy/spatial/distance.py:698: RuntimeWarning: invalid value encountered in double_scalars\n",
      "  dist = 1.0 - uv / np.sqrt(uu * vv)\n"
     ]
    },
    {
     "name": "stdout",
     "output_type": "stream",
     "text": [
      "\n"
     ]
    },
    {
     "data": {
      "application/vnd.jupyter.widget-view+json": {
       "model_id": "a0061b62c8754a089076054d726d4cbc",
       "version_major": 2,
       "version_minor": 0
      },
      "text/plain": [
       "HBox(children=(IntProgress(value=0, description='# popularity', max=49665, style=ProgressStyle(description_wid…"
      ]
     },
     "metadata": {},
     "output_type": "display_data"
    },
    {
     "name": "stdout",
     "output_type": "stream",
     "text": [
      "\n"
     ]
    },
    {
     "data": {
      "text/plain": [
       "(49665, 82111)"
      ]
     },
     "execution_count": 9,
     "metadata": {},
     "output_type": "execute_result"
    }
   ],
   "source": [
    "train_G = build_graph(train_tweets, skipgram_df, fasttext_df)\n",
    "train_G.order(), train_G.size()"
   ]
  },
  {
   "cell_type": "code",
   "execution_count": 11,
   "metadata": {},
   "outputs": [
    {
     "data": {
      "application/vnd.jupyter.widget-view+json": {
       "model_id": "798bcf3c7e7f45dfa9934eabe0c67677",
       "version_major": 2,
       "version_minor": 0
      },
      "text/plain": [
       "HBox(children=(IntProgress(value=0, description='Base graph', max=7430, style=ProgressStyle(description_width=…"
      ]
     },
     "metadata": {},
     "output_type": "display_data"
    },
    {
     "name": "stdout",
     "output_type": "stream",
     "text": [
      "\n"
     ]
    },
    {
     "data": {
      "application/vnd.jupyter.widget-view+json": {
       "model_id": "b965deb397de42b0b32afaaf522e8434",
       "version_major": 2,
       "version_minor": 0
      },
      "text/plain": [
       "HBox(children=(IntProgress(value=0, description='Fasttext # embed.', max=11495, style=ProgressStyle(descriptio…"
      ]
     },
     "metadata": {},
     "output_type": "display_data"
    },
    {
     "name": "stdout",
     "output_type": "stream",
     "text": [
      "\n"
     ]
    },
    {
     "data": {
      "application/vnd.jupyter.widget-view+json": {
       "model_id": "0562ad2aea2e4724a7c801ecb80a8146",
       "version_major": 2,
       "version_minor": 0
      },
      "text/plain": [
       "HBox(children=(IntProgress(value=0, description='Skipgram # embed.', max=11495, style=ProgressStyle(descriptio…"
      ]
     },
     "metadata": {},
     "output_type": "display_data"
    },
    {
     "name": "stdout",
     "output_type": "stream",
     "text": [
      "\n"
     ]
    },
    {
     "data": {
      "application/vnd.jupyter.widget-view+json": {
       "model_id": "0391c6199a4841a8ae46bb2ec40c003b",
       "version_major": 2,
       "version_minor": 0
      },
      "text/plain": [
       "HBox(children=(IntProgress(value=0, description='Fasttext weights', max=18094, style=ProgressStyle(description…"
      ]
     },
     "metadata": {},
     "output_type": "display_data"
    },
    {
     "name": "stdout",
     "output_type": "stream",
     "text": [
      "\n"
     ]
    },
    {
     "data": {
      "application/vnd.jupyter.widget-view+json": {
       "model_id": "1e8a51a9aa6e4395a24c7c68ba66cca0",
       "version_major": 2,
       "version_minor": 0
      },
      "text/plain": [
       "HBox(children=(IntProgress(value=0, description='Skipgram weights', max=18094, style=ProgressStyle(description…"
      ]
     },
     "metadata": {},
     "output_type": "display_data"
    },
    {
     "name": "stderr",
     "output_type": "stream",
     "text": [
      "/home/mkosturek/anaconda3/lib/python3.6/site-packages/scipy/spatial/distance.py:698: RuntimeWarning: invalid value encountered in double_scalars\n",
      "  dist = 1.0 - uv / np.sqrt(uu * vv)\n",
      "/home/mkosturek/pwr/masters/sem2/social_media/project/tweet_recommendations/graphs/graph_builder.py:82: RuntimeWarning: invalid value encountered in arccos\n",
      "  ang_dist = np.arccos(similarity) / np.pi\n"
     ]
    },
    {
     "name": "stdout",
     "output_type": "stream",
     "text": [
      "\n"
     ]
    },
    {
     "data": {
      "application/vnd.jupyter.widget-view+json": {
       "model_id": "86c04562de574576829c1e187d4d090f",
       "version_major": 2,
       "version_minor": 0
      },
      "text/plain": [
       "HBox(children=(IntProgress(value=0, description='# popularity', max=11495, style=ProgressStyle(description_wid…"
      ]
     },
     "metadata": {},
     "output_type": "display_data"
    },
    {
     "name": "stdout",
     "output_type": "stream",
     "text": [
      "\n"
     ]
    },
    {
     "data": {
      "text/plain": [
       "(11495, 18094)"
      ]
     },
     "execution_count": 11,
     "metadata": {},
     "output_type": "execute_result"
    }
   ],
   "source": [
    "val_G = build_graph(val_tweets, skipgram_df, fasttext_df)\n",
    "val_G.order(), val_G.size()"
   ]
  },
  {
   "cell_type": "code",
   "execution_count": 12,
   "metadata": {},
   "outputs": [
    {
     "data": {
      "application/vnd.jupyter.widget-view+json": {
       "model_id": "3d06e7fad9c947e8b7c8aab70db30f40",
       "version_major": 2,
       "version_minor": 0
      },
      "text/plain": [
       "HBox(children=(IntProgress(value=0, description='Base graph', max=7450, style=ProgressStyle(description_width=…"
      ]
     },
     "metadata": {},
     "output_type": "display_data"
    },
    {
     "name": "stdout",
     "output_type": "stream",
     "text": [
      "\n"
     ]
    },
    {
     "data": {
      "application/vnd.jupyter.widget-view+json": {
       "model_id": "0227ec8e08d9464e991d9adff25b7756",
       "version_major": 2,
       "version_minor": 0
      },
      "text/plain": [
       "HBox(children=(IntProgress(value=0, description='Fasttext # embed.', max=11400, style=ProgressStyle(descriptio…"
      ]
     },
     "metadata": {},
     "output_type": "display_data"
    },
    {
     "name": "stdout",
     "output_type": "stream",
     "text": [
      "\n"
     ]
    },
    {
     "data": {
      "application/vnd.jupyter.widget-view+json": {
       "model_id": "61b7ae44e077400ba5928f828fadb60c",
       "version_major": 2,
       "version_minor": 0
      },
      "text/plain": [
       "HBox(children=(IntProgress(value=0, description='Skipgram # embed.', max=11400, style=ProgressStyle(descriptio…"
      ]
     },
     "metadata": {},
     "output_type": "display_data"
    },
    {
     "name": "stdout",
     "output_type": "stream",
     "text": [
      "\n"
     ]
    },
    {
     "data": {
      "application/vnd.jupyter.widget-view+json": {
       "model_id": "f307c9c11a8242c1868c3c4ef78f3f0f",
       "version_major": 2,
       "version_minor": 0
      },
      "text/plain": [
       "HBox(children=(IntProgress(value=0, description='Fasttext weights', max=17371, style=ProgressStyle(description…"
      ]
     },
     "metadata": {},
     "output_type": "display_data"
    },
    {
     "name": "stdout",
     "output_type": "stream",
     "text": [
      "\n"
     ]
    },
    {
     "data": {
      "application/vnd.jupyter.widget-view+json": {
       "model_id": "e513d591468c46909334b02a56d1a7d5",
       "version_major": 2,
       "version_minor": 0
      },
      "text/plain": [
       "HBox(children=(IntProgress(value=0, description='Skipgram weights', max=17371, style=ProgressStyle(description…"
      ]
     },
     "metadata": {},
     "output_type": "display_data"
    },
    {
     "name": "stderr",
     "output_type": "stream",
     "text": [
      "/home/mkosturek/anaconda3/lib/python3.6/site-packages/scipy/spatial/distance.py:698: RuntimeWarning: invalid value encountered in double_scalars\n",
      "  dist = 1.0 - uv / np.sqrt(uu * vv)\n",
      "/home/mkosturek/pwr/masters/sem2/social_media/project/tweet_recommendations/graphs/graph_builder.py:82: RuntimeWarning: invalid value encountered in arccos\n",
      "  ang_dist = np.arccos(similarity) / np.pi\n"
     ]
    },
    {
     "name": "stdout",
     "output_type": "stream",
     "text": [
      "\n"
     ]
    },
    {
     "data": {
      "application/vnd.jupyter.widget-view+json": {
       "model_id": "a88c6e600e294104808cb0689e6a91ff",
       "version_major": 2,
       "version_minor": 0
      },
      "text/plain": [
       "HBox(children=(IntProgress(value=0, description='# popularity', max=11400, style=ProgressStyle(description_wid…"
      ]
     },
     "metadata": {},
     "output_type": "display_data"
    },
    {
     "name": "stdout",
     "output_type": "stream",
     "text": [
      "\n"
     ]
    },
    {
     "data": {
      "text/plain": [
       "(11400, 17371)"
      ]
     },
     "execution_count": 12,
     "metadata": {},
     "output_type": "execute_result"
    }
   ],
   "source": [
    "test_G = build_graph(test_tweets, skipgram_df, fasttext_df)\n",
    "test_G.order(), test_G.size()"
   ]
  },
  {
   "cell_type": "code",
   "execution_count": 13,
   "metadata": {},
   "outputs": [],
   "source": [
    "with open('./data/graphs/train_graph.p', 'wb') as f:\n",
    "    pickle.dump(train_G, f)\n",
    "    \n",
    "with open('./data/graphs/val_graph.p', 'wb') as f:\n",
    "    pickle.dump(val_G, f)\n",
    "    \n",
    "with open('./data/graphs/test_graph.p', 'wb') as f:\n",
    "    pickle.dump(test_G, f)"
   ]
  },
  {
   "cell_type": "code",
   "execution_count": 16,
   "metadata": {},
   "outputs": [
    {
     "name": "stdout",
     "output_type": "stream",
     "text": [
      "fasttext_graphs  test_graph.p  train_graph.p  val_graph.p\r\n"
     ]
    }
   ],
   "source": [
    "!ls data/graphs/"
   ]
  },
  {
   "cell_type": "code",
   "execution_count": 8,
   "metadata": {},
   "outputs": [
    {
     "name": "stdout",
     "output_type": "stream",
     "text": [
      "embeddings.pkl\ttagged.zip\t train_tweets.pkl      val_tweets.pkl\r\n",
      "processed.pkl\ttest_tweets.pkl  tweet_embeddings.pkl\r\n"
     ]
    }
   ],
   "source": [
    "!ls data/processed/"
   ]
  },
  {
   "cell_type": "code",
   "execution_count": 9,
   "metadata": {},
   "outputs": [],
   "source": [
    "!cp data/processed/tweet_embeddings.pkl data/embeddings/skipgram_embeddings.pkl"
   ]
  },
  {
   "cell_type": "code",
   "execution_count": null,
   "metadata": {},
   "outputs": [],
   "source": []
  }
 ],
 "metadata": {
  "kernelspec": {
   "display_name": "Python 3",
   "language": "python",
   "name": "python3"
  },
  "language_info": {
   "codemirror_mode": {
    "name": "ipython",
    "version": 3
   },
   "file_extension": ".py",
   "mimetype": "text/x-python",
   "name": "python",
   "nbconvert_exporter": "python",
   "pygments_lexer": "ipython3",
   "version": "3.6.7"
  },
  "toc": {
   "base_numbering": 1,
   "nav_menu": {},
   "number_sections": false,
   "sideBar": false,
   "skip_h1_title": false,
   "title_cell": "Table of Contents",
   "title_sidebar": "Contents",
   "toc_cell": false,
   "toc_position": {},
   "toc_section_display": false,
   "toc_window_display": false
  }
 },
 "nbformat": 4,
 "nbformat_minor": 2
}
