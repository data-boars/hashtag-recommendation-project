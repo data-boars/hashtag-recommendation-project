{
 "cells": [
  {
   "cell_type": "code",
   "execution_count": 1,
   "metadata": {},
   "outputs": [],
   "source": [
    "%load_ext autoreload\n",
    "%autoreload 2"
   ]
  },
  {
   "cell_type": "code",
   "execution_count": 2,
   "metadata": {},
   "outputs": [],
   "source": [
    "import os\n",
    "os.chdir(\"../..\")"
   ]
  },
  {
   "cell_type": "code",
   "execution_count": 3,
   "metadata": {},
   "outputs": [],
   "source": [
    "import pandas as pd"
   ]
  },
  {
   "cell_type": "code",
   "execution_count": 4,
   "metadata": {},
   "outputs": [],
   "source": [
    "municipal = pd.read_pickle(\"/home/mkosturek/Downloads/municipal_elections_base_dataset.p\")\n",
    "\n",
    "users = municipal['users_data']\n",
    "tweets = municipal['tweets_data']"
   ]
  },
  {
   "cell_type": "code",
   "execution_count": 5,
   "metadata": {},
   "outputs": [
    {
     "data": {
      "text/plain": [
       "tweet_id            int64\n",
       "user_id             int64\n",
       "retweet_count       int64\n",
       "text               object\n",
       "lemmas             object\n",
       "hashtags           object\n",
       "word_embeddings    object\n",
       "embedding          object\n",
       "hashtags_list      object\n",
       "dtype: object"
      ]
     },
     "execution_count": 5,
     "metadata": {},
     "output_type": "execute_result"
    }
   ],
   "source": [
    "tweets['user_id'] = tweets['user_id'].astype(int)\n",
    "tweets[\"hashtags_list\"] = tweets[\"hashtags\"].apply(lambda htags: [x[\"text\"] for x in htags])\n",
    "tweets.dtypes"
   ]
  },
  {
   "cell_type": "code",
   "execution_count": 6,
   "metadata": {},
   "outputs": [
    {
     "data": {
      "text/plain": [
       "user_id           int64\n",
       "tweets_count    float64\n",
       "following       float64\n",
       "followers       float64\n",
       "dtype: object"
      ]
     },
     "execution_count": 6,
     "metadata": {},
     "output_type": "execute_result"
    }
   ],
   "source": [
    "users = users[users[\"user_id\"].str.isdigit()].copy() # filtering out some corrupted rows: 35 rows\n",
    "users[\"user_id\"] = users[\"user_id\"].astype(int)\n",
    "users['followers'] = users['followers'].astype(float)\n",
    "users.dtypes"
   ]
  },
  {
   "cell_type": "code",
   "execution_count": 7,
   "metadata": {},
   "outputs": [],
   "source": [
    "users.to_pickle(\"./data/our/users.pkl\")\n",
    "tweets.to_pickle(\"./data/our/tweets.pkl\")"
   ]
  },
  {
   "cell_type": "code",
   "execution_count": null,
   "metadata": {},
   "outputs": [],
   "source": []
  }
 ],
 "metadata": {
  "kernelspec": {
   "display_name": "Python 3",
   "language": "python",
   "name": "python3"
  },
  "language_info": {
   "codemirror_mode": {
    "name": "ipython",
    "version": 3
   },
   "file_extension": ".py",
   "mimetype": "text/x-python",
   "name": "python",
   "nbconvert_exporter": "python",
   "pygments_lexer": "ipython3",
   "version": "3.7.3"
  }
 },
 "nbformat": 4,
 "nbformat_minor": 4
}
