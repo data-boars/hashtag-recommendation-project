{
 "cells": [
  {
   "cell_type": "code",
   "execution_count": 1,
   "metadata": {},
   "outputs": [],
   "source": [
    "%load_ext autoreload\n",
    "%autoreload 2"
   ]
  },
  {
   "cell_type": "code",
   "execution_count": 2,
   "metadata": {},
   "outputs": [],
   "source": [
    "import os\n",
    "os.chdir(\"../..\")"
   ]
  },
  {
   "cell_type": "code",
   "execution_count": 3,
   "metadata": {},
   "outputs": [],
   "source": [
    "TEST_PERCENTAGE = 0.2\n",
    "VAL_PERCENTAGE = 0.2\n",
    "\n",
    "VAL_TRAIN_RATIO = VAL_PERCENTAGE / (1 - TEST_PERCENTAGE)\n",
    "\n",
    "SEED = 0xCAFFE"
   ]
  },
  {
   "cell_type": "code",
   "execution_count": 4,
   "metadata": {},
   "outputs": [],
   "source": [
    "import pandas as pd\n",
    "import numpy as np\n",
    "import pickle as pkl"
   ]
  },
  {
   "cell_type": "code",
   "execution_count": 5,
   "metadata": {},
   "outputs": [],
   "source": [
    "from tweet_recommendations.data_processing.split_train_test import get_train_test_users"
   ]
  },
  {
   "cell_type": "code",
   "execution_count": 6,
   "metadata": {},
   "outputs": [],
   "source": [
    "municipal_users = pd.read_pickle(\"data/our/users.pkl\")\n",
    "municipal_tweets = pd.read_pickle(\"data/our/tweets.pkl\")"
   ]
  },
  {
   "cell_type": "code",
   "execution_count": 7,
   "metadata": {},
   "outputs": [],
   "source": [
    "municipal_splits = {}\n",
    "for splitter in ['retweet_count', 'followers']:\n",
    "\n",
    "    train_val_ids, test_ids = get_train_test_users(municipal_tweets, municipal_users, \n",
    "                                                   split_on=splitter, \n",
    "                                                   test_size=TEST_PERCENTAGE, \n",
    "                                                   random_state=0xCAFFE)\n",
    "    twdf = municipal_tweets[municipal_tweets['user_id'].isin(train_val_ids)]\n",
    "    train_ids, val_ids = get_train_test_users(twdf, municipal_users, split_on=splitter, \n",
    "                                              test_size=VAL_TRAIN_RATIO, \n",
    "                                              random_state=0xCAFFE)\n",
    "    \n",
    "    municipal_splits[splitter] = {\"train_user_ids\": train_ids.tolist(), \n",
    "                                  \"val_user_ids\": val_ids.tolist(),\n",
    "                                  \"test_user_ids\": test_ids.tolist()}"
   ]
  },
  {
   "cell_type": "code",
   "execution_count": 8,
   "metadata": {},
   "outputs": [],
   "source": [
    "with open(\"./data/our/train_val_test_splits.pkl\", \"wb\") as f:\n",
    "    pkl.dump(municipal_splits, f)"
   ]
  },
  {
   "cell_type": "code",
   "execution_count": null,
   "metadata": {},
   "outputs": [],
   "source": []
  }
 ],
 "metadata": {
  "kernelspec": {
   "display_name": "Python 3",
   "language": "python",
   "name": "python3"
  },
  "language_info": {
   "codemirror_mode": {
    "name": "ipython",
    "version": 3
   },
   "file_extension": ".py",
   "mimetype": "text/x-python",
   "name": "python",
   "nbconvert_exporter": "python",
   "pygments_lexer": "ipython3",
   "version": "3.7.3"
  }
 },
 "nbformat": 4,
 "nbformat_minor": 4
}
