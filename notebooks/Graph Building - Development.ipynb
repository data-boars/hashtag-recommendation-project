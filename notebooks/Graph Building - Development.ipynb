{
 "cells": [
  {
   "cell_type": "code",
   "execution_count": 2,
   "metadata": {},
   "outputs": [],
   "source": [
    "import os\n",
    "os.chdir('..')"
   ]
  },
  {
   "cell_type": "code",
   "execution_count": 18,
   "metadata": {},
   "outputs": [],
   "source": [
    "import pandas as pd\n",
    "import pickle\n",
    "import networkx as nx\n",
    "import numpy as np\n",
    "import scipy as sp\n",
    "import tqdm"
   ]
  },
  {
   "cell_type": "code",
   "execution_count": 6,
   "metadata": {},
   "outputs": [],
   "source": [
    "pd.options.display.max_columns=100"
   ]
  },
  {
   "cell_type": "code",
   "execution_count": 3,
   "metadata": {},
   "outputs": [],
   "source": [
    "with open('./data/original_tweets.p', 'rb') as f:\n",
    "    df = pickle.load(f)"
   ]
  },
  {
   "cell_type": "code",
   "execution_count": 4,
   "metadata": {},
   "outputs": [
    {
     "data": {
      "text/html": [
       "<div>\n",
       "<style scoped>\n",
       "    .dataframe tbody tr th:only-of-type {\n",
       "        vertical-align: middle;\n",
       "    }\n",
       "\n",
       "    .dataframe tbody tr th {\n",
       "        vertical-align: top;\n",
       "    }\n",
       "\n",
       "    .dataframe thead th {\n",
       "        text-align: right;\n",
       "    }\n",
       "</style>\n",
       "<table border=\"1\" class=\"dataframe\">\n",
       "  <thead>\n",
       "    <tr style=\"text-align: right;\">\n",
       "      <th></th>\n",
       "      <th>contributors</th>\n",
       "      <th>coordinates</th>\n",
       "      <th>created_at</th>\n",
       "      <th>display_text_range</th>\n",
       "      <th>favorite_count</th>\n",
       "      <th>favorited</th>\n",
       "      <th>filter_level</th>\n",
       "      <th>geo</th>\n",
       "      <th>hashtags</th>\n",
       "      <th>id</th>\n",
       "      <th>...</th>\n",
       "      <th>retweet_count</th>\n",
       "      <th>retweeted</th>\n",
       "      <th>scopes</th>\n",
       "      <th>source</th>\n",
       "      <th>text</th>\n",
       "      <th>timestamp_ms</th>\n",
       "      <th>truncated</th>\n",
       "      <th>user</th>\n",
       "      <th>username</th>\n",
       "      <th>withheld_in_countries</th>\n",
       "    </tr>\n",
       "  </thead>\n",
       "  <tbody>\n",
       "    <tr>\n",
       "      <th>0</th>\n",
       "      <td>None</td>\n",
       "      <td>None</td>\n",
       "      <td>2018-10-28 23:35:48+00:00</td>\n",
       "      <td>[0, 109]</td>\n",
       "      <td>0</td>\n",
       "      <td>False</td>\n",
       "      <td>low</td>\n",
       "      <td>None</td>\n",
       "      <td>[{'text': 'Warszawa', 'indices': [76, 85]}]</td>\n",
       "      <td>1056691029846491139</td>\n",
       "      <td>...</td>\n",
       "      <td>0</td>\n",
       "      <td>False</td>\n",
       "      <td>NaN</td>\n",
       "      <td>&lt;a href=\"https://echowarszawy.pl\" rel=\"nofollo...</td>\n",
       "      <td>KMPSP Warszawa: 23.10.2018 - Drzewo powalone n...</td>\n",
       "      <td>1540769748542</td>\n",
       "      <td>False</td>\n",
       "      <td>965943739809239040</td>\n",
       "      <td>EchoWarszawy</td>\n",
       "      <td>NaN</td>\n",
       "    </tr>\n",
       "    <tr>\n",
       "      <th>1</th>\n",
       "      <td>None</td>\n",
       "      <td>None</td>\n",
       "      <td>2018-10-28 23:35:51+00:00</td>\n",
       "      <td>[48, 290]</td>\n",
       "      <td>0</td>\n",
       "      <td>False</td>\n",
       "      <td>low</td>\n",
       "      <td>None</td>\n",
       "      <td>[]</td>\n",
       "      <td>1056691042106400768</td>\n",
       "      <td>...</td>\n",
       "      <td>0</td>\n",
       "      <td>False</td>\n",
       "      <td>NaN</td>\n",
       "      <td>&lt;a href=\"https://mobile.twitter.com\" rel=\"nofo...</td>\n",
       "      <td>@SebNow82 @ChiefRobert2 @Immanuela_Kant @smok0...</td>\n",
       "      <td>1540769751465</td>\n",
       "      <td>True</td>\n",
       "      <td>870751323549040640</td>\n",
       "      <td>dodi6319</td>\n",
       "      <td>NaN</td>\n",
       "    </tr>\n",
       "    <tr>\n",
       "      <th>2</th>\n",
       "      <td>None</td>\n",
       "      <td>None</td>\n",
       "      <td>2018-10-28 23:35:56+00:00</td>\n",
       "      <td>[50, 330]</td>\n",
       "      <td>0</td>\n",
       "      <td>False</td>\n",
       "      <td>low</td>\n",
       "      <td>None</td>\n",
       "      <td>[]</td>\n",
       "      <td>1056691065200304128</td>\n",
       "      <td>...</td>\n",
       "      <td>0</td>\n",
       "      <td>False</td>\n",
       "      <td>NaN</td>\n",
       "      <td>&lt;a href=\"http://twitter.com\" rel=\"nofollow\"&gt;Tw...</td>\n",
       "      <td>@rafalch2 @KLubnauer @Nowoczesna @wlodekczarza...</td>\n",
       "      <td>1540769756971</td>\n",
       "      <td>True</td>\n",
       "      <td>1025517195223281664</td>\n",
       "      <td>Fiona11701355</td>\n",
       "      <td>NaN</td>\n",
       "    </tr>\n",
       "    <tr>\n",
       "      <th>3</th>\n",
       "      <td>None</td>\n",
       "      <td>None</td>\n",
       "      <td>2018-10-28 23:35:59+00:00</td>\n",
       "      <td>[20, 72]</td>\n",
       "      <td>0</td>\n",
       "      <td>False</td>\n",
       "      <td>low</td>\n",
       "      <td>None</td>\n",
       "      <td>[]</td>\n",
       "      <td>1056691075727982592</td>\n",
       "      <td>...</td>\n",
       "      <td>0</td>\n",
       "      <td>False</td>\n",
       "      <td>NaN</td>\n",
       "      <td>&lt;a href=\"http://twitter.com\" rel=\"nofollow\"&gt;Tw...</td>\n",
       "      <td>@wkrawcz1 @pisorgpl W PiS to normalne. Wszyscy...</td>\n",
       "      <td>1540769759481</td>\n",
       "      <td>False</td>\n",
       "      <td>811556244892872704</td>\n",
       "      <td>Paul4Anka</td>\n",
       "      <td>NaN</td>\n",
       "    </tr>\n",
       "    <tr>\n",
       "      <th>4</th>\n",
       "      <td>None</td>\n",
       "      <td>None</td>\n",
       "      <td>2018-10-28 23:36:10+00:00</td>\n",
       "      <td>NaN</td>\n",
       "      <td>0</td>\n",
       "      <td>False</td>\n",
       "      <td>low</td>\n",
       "      <td>None</td>\n",
       "      <td>[]</td>\n",
       "      <td>1056691121097752576</td>\n",
       "      <td>...</td>\n",
       "      <td>0</td>\n",
       "      <td>False</td>\n",
       "      <td>NaN</td>\n",
       "      <td>&lt;a href=\"http://twitter.com\" rel=\"nofollow\"&gt;Tw...</td>\n",
       "      <td>Czasami żałuję, że Krysia mnie zablokowała😘</td>\n",
       "      <td>1540769770298</td>\n",
       "      <td>False</td>\n",
       "      <td>1004022955045728256</td>\n",
       "      <td>JanKiebasa3</td>\n",
       "      <td>NaN</td>\n",
       "    </tr>\n",
       "  </tbody>\n",
       "</table>\n",
       "<p>5 rows × 36 columns</p>\n",
       "</div>"
      ],
      "text/plain": [
       "  contributors coordinates                created_at display_text_range  \\\n",
       "0         None        None 2018-10-28 23:35:48+00:00           [0, 109]   \n",
       "1         None        None 2018-10-28 23:35:51+00:00          [48, 290]   \n",
       "2         None        None 2018-10-28 23:35:56+00:00          [50, 330]   \n",
       "3         None        None 2018-10-28 23:35:59+00:00           [20, 72]   \n",
       "4         None        None 2018-10-28 23:36:10+00:00                NaN   \n",
       "\n",
       "   favorite_count  favorited filter_level   geo  \\\n",
       "0               0      False          low  None   \n",
       "1               0      False          low  None   \n",
       "2               0      False          low  None   \n",
       "3               0      False          low  None   \n",
       "4               0      False          low  None   \n",
       "\n",
       "                                      hashtags                   id  \\\n",
       "0  [{'text': 'Warszawa', 'indices': [76, 85]}]  1056691029846491139   \n",
       "1                                           []  1056691042106400768   \n",
       "2                                           []  1056691065200304128   \n",
       "3                                           []  1056691075727982592   \n",
       "4                                           []  1056691121097752576   \n",
       "\n",
       "           ...          retweet_count retweeted  scopes  \\\n",
       "0          ...                      0     False     NaN   \n",
       "1          ...                      0     False     NaN   \n",
       "2          ...                      0     False     NaN   \n",
       "3          ...                      0     False     NaN   \n",
       "4          ...                      0     False     NaN   \n",
       "\n",
       "                                              source  \\\n",
       "0  <a href=\"https://echowarszawy.pl\" rel=\"nofollo...   \n",
       "1  <a href=\"https://mobile.twitter.com\" rel=\"nofo...   \n",
       "2  <a href=\"http://twitter.com\" rel=\"nofollow\">Tw...   \n",
       "3  <a href=\"http://twitter.com\" rel=\"nofollow\">Tw...   \n",
       "4  <a href=\"http://twitter.com\" rel=\"nofollow\">Tw...   \n",
       "\n",
       "                                                text   timestamp_ms  \\\n",
       "0  KMPSP Warszawa: 23.10.2018 - Drzewo powalone n...  1540769748542   \n",
       "1  @SebNow82 @ChiefRobert2 @Immanuela_Kant @smok0...  1540769751465   \n",
       "2  @rafalch2 @KLubnauer @Nowoczesna @wlodekczarza...  1540769756971   \n",
       "3  @wkrawcz1 @pisorgpl W PiS to normalne. Wszyscy...  1540769759481   \n",
       "4        Czasami żałuję, że Krysia mnie zablokowała😘  1540769770298   \n",
       "\n",
       "   truncated                 user       username withheld_in_countries  \n",
       "0      False   965943739809239040   EchoWarszawy                   NaN  \n",
       "1       True   870751323549040640       dodi6319                   NaN  \n",
       "2       True  1025517195223281664  Fiona11701355                   NaN  \n",
       "3      False   811556244892872704      Paul4Anka                   NaN  \n",
       "4      False  1004022955045728256    JanKiebasa3                   NaN  \n",
       "\n",
       "[5 rows x 36 columns]"
      ]
     },
     "execution_count": 4,
     "metadata": {},
     "output_type": "execute_result"
    }
   ],
   "source": [
    "df.head()"
   ]
  },
  {
   "cell_type": "code",
   "execution_count": 14,
   "metadata": {},
   "outputs": [],
   "source": [
    "df['hashtags'] = df['hashtags'].apply(lambda x: [item['text'] for item in x])"
   ]
  },
  {
   "cell_type": "code",
   "execution_count": 16,
   "metadata": {},
   "outputs": [],
   "source": [
    "df['embedding'] = df.apply(lambda row: np.random.randn(100), axis=1)"
   ]
  },
  {
   "cell_type": "code",
   "execution_count": 38,
   "metadata": {},
   "outputs": [
    {
     "data": {
      "application/vnd.jupyter.widget-view+json": {
       "model_id": "7e774b66a9f84ee08f67dee9633d01f0",
       "version_major": 2,
       "version_minor": 0
      },
      "text/plain": [
       "HBox(children=(IntProgress(value=0, max=276260), HTML(value='')))"
      ]
     },
     "metadata": {},
     "output_type": "display_data"
    }
   ],
   "source": [
    "G = nx.Graph()\n",
    "\n",
    "for row in tqdm.tqdm_notebook(df.itertuples(), total=len(df)):\n",
    "    if row.hashtags:\n",
    "        G.add_node(row.id)\n",
    "        G.node[row.id]['embedding'] = row.embedding\n",
    "        G.node[row.id]['node_type'] = 'tweet'\n",
    "        for hashtag in row.hashtags:\n",
    "            G.add_node(hashtag)\n",
    "            G.node[hashtag]['node_type'] = 'hashtag'\n",
    "            G.add_edge(row.id, hashtag)"
   ]
  },
  {
   "cell_type": "code",
   "execution_count": 39,
   "metadata": {},
   "outputs": [
    {
     "data": {
      "text/plain": [
       "(69131, 117903)"
      ]
     },
     "execution_count": 39,
     "metadata": {},
     "output_type": "execute_result"
    }
   ],
   "source": [
    "G.order(), G.size()"
   ]
  },
  {
   "cell_type": "code",
   "execution_count": 49,
   "metadata": {},
   "outputs": [
    {
     "data": {
      "application/vnd.jupyter.widget-view+json": {
       "model_id": "a517996657ae46a7bc5cd0c92fbe5f36",
       "version_major": 2,
       "version_minor": 0
      },
      "text/plain": [
       "HBox(children=(IntProgress(value=0, max=69131), HTML(value='')))"
      ]
     },
     "metadata": {},
     "output_type": "display_data"
    }
   ],
   "source": [
    "for node in tqdm.tqdm_notebook(G.nodes):\n",
    "    if G.nodes[node]['node_type'] == 'hashtag':\n",
    "        tweets = G.neighbors(node)\n",
    "        embeddings = np.asarray([G.node[tweet]['embedding'] for tweet in tweets])\n",
    "        G.node[node]['embedding'] = embeddings.mean(axis=0)"
   ]
  },
  {
   "cell_type": "code",
   "execution_count": 50,
   "metadata": {},
   "outputs": [],
   "source": [
    "for node in G.nodes:\n",
    "    assert 'embedding' in G.node[node]"
   ]
  },
  {
   "cell_type": "code",
   "execution_count": 66,
   "metadata": {},
   "outputs": [],
   "source": [
    "min_dist = np.inf\n",
    "max_dist = - np.inf\n",
    "\n",
    "min_sim = np.inf\n",
    "max_sim = - np.inf\n",
    "\n",
    "for node_from, node_to, edge_features in G.edges(data=True):\n",
    "    emb_from = G.node[node_from]['embedding']\n",
    "    emb_to = G.node[node_to]['embedding']\n",
    "    \n",
    "    distance = sp.spatial.distance.cosine(emb_from, emb_to)\n",
    "    similarity = 1 - distance\n",
    "    ang_dist = np.arccos(similarity) / np.pi\n",
    "    ang_sim = 1 - ang_dist\n",
    "    \n",
    "    edge_features['distance'] = ang_dist\n",
    "    edge_features['similarity'] = ang_sim\n",
    "    \n",
    "    max_dist = max(max_dist, edge_features['distance'])\n",
    "    min_dist = min(min_dist, edge_features['distance'])\n",
    "    max_sim = max(max_sim, ang_sim)\n",
    "    min_sim = min(min_sim, ang_sim)"
   ]
  },
  {
   "cell_type": "code",
   "execution_count": 67,
   "metadata": {},
   "outputs": [
    {
     "data": {
      "text/plain": [
       "(0.0, 0.6416105063927715)"
      ]
     },
     "execution_count": 67,
     "metadata": {},
     "output_type": "execute_result"
    }
   ],
   "source": [
    "min_dist, max_dist"
   ]
  },
  {
   "cell_type": "code",
   "execution_count": 68,
   "metadata": {},
   "outputs": [
    {
     "data": {
      "text/plain": [
       "(0.3583894936072285, 1.0)"
      ]
     },
     "execution_count": 68,
     "metadata": {},
     "output_type": "execute_result"
    }
   ],
   "source": [
    "min_sim, max_sim"
   ]
  },
  {
   "cell_type": "code",
   "execution_count": 69,
   "metadata": {},
   "outputs": [],
   "source": [
    "x = np.random.randn(100, 5)"
   ]
  },
  {
   "cell_type": "code",
   "execution_count": 80,
   "metadata": {},
   "outputs": [
    {
     "data": {
      "text/plain": [
       "(100,)"
      ]
     },
     "execution_count": 80,
     "metadata": {},
     "output_type": "execute_result"
    }
   ],
   "source": [
    "(x * x).sum(1).shape"
   ]
  },
  {
   "cell_type": "code",
   "execution_count": 74,
   "metadata": {},
   "outputs": [
    {
     "data": {
      "text/plain": [
       "array([[ 5.48744863, -3.42423236,  2.82947632, ..., -1.93913727,\n",
       "         0.39894769, -2.18255174],\n",
       "       [-3.42423236,  8.88845169, -4.19005036, ...,  9.30107261,\n",
       "        -3.00564674, -1.7772976 ],\n",
       "       [ 2.82947632, -4.19005036,  4.38883791, ..., -4.26971332,\n",
       "         1.66691357,  0.65354866],\n",
       "       ...,\n",
       "       [-1.93913727,  9.30107261, -4.26971332, ..., 13.92336166,\n",
       "        -4.82415801, -5.81693337],\n",
       "       [ 0.39894769, -3.00564674,  1.66691357, ..., -4.82415801,\n",
       "         3.31029953,  1.47211522],\n",
       "       [-2.18255174, -1.7772976 ,  0.65354866, ..., -5.81693337,\n",
       "         1.47211522,  5.06702715]])"
      ]
     },
     "execution_count": 74,
     "metadata": {},
     "output_type": "execute_result"
    }
   ],
   "source": [
    "x.dot(x.T)"
   ]
  },
  {
   "cell_type": "code",
   "execution_count": 81,
   "metadata": {},
   "outputs": [],
   "source": []
  }
 ],
 "metadata": {
  "kernelspec": {
   "display_name": "Python 3",
   "language": "python",
   "name": "python3"
  },
  "language_info": {
   "codemirror_mode": {
    "name": "ipython",
    "version": 3
   },
   "file_extension": ".py",
   "mimetype": "text/x-python",
   "name": "python",
   "nbconvert_exporter": "python",
   "pygments_lexer": "ipython3",
   "version": "3.6.5"
  },
  "toc": {
   "base_numbering": 1,
   "nav_menu": {},
   "number_sections": false,
   "sideBar": false,
   "skip_h1_title": false,
   "title_cell": "Table of Contents",
   "title_sidebar": "Contents",
   "toc_cell": false,
   "toc_position": {},
   "toc_section_display": false,
   "toc_window_display": false
  }
 },
 "nbformat": 4,
 "nbformat_minor": 2
}
